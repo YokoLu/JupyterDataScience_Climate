{
 "cells": [
  {
   "cell_type": "code",
   "execution_count": 150,
   "metadata": {
    "deletable": false,
    "editable": false
   },
   "outputs": [],
   "source": [
    "# Initialize Otter\n",
    "import otter\n",
    "grader = otter.Notebook(\"hw03.ipynb\")"
   ]
  },
  {
   "cell_type": "markdown",
   "metadata": {},
   "source": [
    "<img src=\"./ccsf.png\" alt=\"CCSF Logo\" width=200px style=\"margin:0px -5px\">"
   ]
  },
  {
   "cell_type": "markdown",
   "metadata": {},
   "source": [
    "# Homework 03: Tables"
   ]
  },
  {
   "cell_type": "markdown",
   "metadata": {},
   "source": [
    "---"
   ]
  },
  {
   "cell_type": "markdown",
   "metadata": {},
   "source": [
    "## Textbook References"
   ]
  },
  {
   "cell_type": "markdown",
   "metadata": {},
   "source": [
    "* [Sequences](https://inferentialthinking.com/chapters/05/Sequences.html)\n",
    "* [Tables](https://inferentialthinking.com/chapters/06/Tables.html)"
   ]
  },
  {
   "cell_type": "markdown",
   "metadata": {},
   "source": [
    "## Assignment Reminders"
   ]
  },
  {
   "cell_type": "markdown",
   "metadata": {},
   "source": [
    "- 🚨 Make sure to run the code cell at the top of this notebook that starts with `# Initialize Otter` to load the auto-grader.\n",
    "- Your Tasks are categorized as auto-graded (📍) and manually graded (📍🔎).\n",
    "    - For all the auto-graded tasks:\n",
    "        - Replace the `...` in the provided code cell with your own code.\n",
    "        - Run the `grader.check` code cell to run some tests on your code.\n",
    "        - Keep in mind that for homework and project assignments, sometimes there are hidden tests that you will not be able to see the results of that we use for scoring the correctness of your response. **Passing the auto-grader does not guarantee that your answer is correct.**\n",
    "    - For all the manually graded tasks:\n",
    "        - You might need to provide your own response to the provided prompt. Do so by replacing the template text \"_Type your answer here, replacing this text._\" with your own words.\n",
    "        - You might need to produce a graphic or something else using code. Do so by replacing the `...` in the code cell to generate the image, table, etc.\n",
    "        - In either case, review the rubric on the associated <a href=\"https://ccsf.instructure.com\" target=\"_blank\">Canvas</a> Assignment page to understand the scoring criteria.\n",
    "- Throughout this assignment and all future ones, please be sure to not re-assign variables throughout the notebook! _For example, if you use `max_temperature` in your answer to one question, do not reassign it later on. Otherwise, you will fail tests that you thought you were passing previously!_\n",
    "- You may [submit](#Submit-Your-Assignment-to-Canvas) this assignment as many times as you want before the deadline. Your instructor will score the last version you submit once the deadline has passed.\n",
    "- We encourage you to discuss this assignment with others but make sure to write and submit your own code. Refer to the syllabus to learn more about how to learn cooperatively."
   ]
  },
  {
   "cell_type": "markdown",
   "metadata": {},
   "source": [
    "---"
   ]
  },
  {
   "cell_type": "markdown",
   "metadata": {},
   "source": [
    "## Configure the Notebook"
   ]
  },
  {
   "cell_type": "markdown",
   "metadata": {},
   "source": [
    "Run the following cell to configure this Notebook."
   ]
  },
  {
   "cell_type": "code",
   "execution_count": 152,
   "metadata": {},
   "outputs": [],
   "source": [
    "import numpy as np\n",
    "from datascience import *\n",
    "import matplotlib\n",
    "%matplotlib inline\n",
    "import matplotlib.pyplot as plt\n",
    "plt.style.use('fivethirtyeight')"
   ]
  },
  {
   "cell_type": "markdown",
   "metadata": {},
   "source": [
    "---"
   ]
  },
  {
   "cell_type": "markdown",
   "metadata": {},
   "source": [
    "## Fruit"
   ]
  },
  {
   "cell_type": "markdown",
   "metadata": {},
   "source": [
    "To begin this homework, you are going to practice with some of the `Table` methods you learned about this week."
   ]
  },
  {
   "cell_type": "markdown",
   "metadata": {
    "tags": []
   },
   "source": [
    "### Task 01 📍"
   ]
  },
  {
   "cell_type": "markdown",
   "metadata": {
    "deletable": false,
    "editable": false
   },
   "source": [
    "Suppose you have a small fruit stand that has an inventory of 4 apples, 3 oranges, and 1 pineapple.\n",
    "\n",
    "Create a table called `fruits` that contains this information:\n",
    "* It should have two columns: `'fruit name'` and `'amount'`.\n",
    "* It should have three rows, one for each type of fruit.\n",
    "* The values for `'fruit name'` should be the strings `'apple'`, `'orange'`, and `'pineapple'`\n",
    "* The values for `'amount'` should be integers `4`, `3`, and `1`.\n",
    "\n",
    "*Note:* Use lower-case and singular words for the name of each fruit, like `\"apple\"`.\n",
    "\n",
    "_Points:_ 2"
   ]
  },
  {
   "cell_type": "code",
   "execution_count": 25,
   "metadata": {
    "tags": []
   },
   "outputs": [],
   "source": [
    "fruits = Table().with_columns(\n",
    "    'fruit name', make_array('apple', 'orange', 'pineapple'),\n",
    "    'amount', make_array(4, 3, 1)\n",
    ")"
   ]
  },
  {
   "cell_type": "code",
   "execution_count": 26,
   "metadata": {
    "deletable": false,
    "editable": false
   },
   "outputs": [
    {
     "data": {
      "text/html": [
       "<p><strong><pre style='display: inline;'>task_01</pre></strong> passed! ✨</p><p><strong><pre style='display: inline;'>task_01 - 1</pre> message:</strong> ✅ fruits is a Table.</p><p><strong><pre style='display: inline;'>task_01 - 2</pre> message:</strong> ✅ fruits looks correct!</p>"
      ],
      "text/plain": [
       "task_01 results: All test cases passed!\n",
       "task_01 - 1 message: ✅ fruits is a Table.\n",
       "task_01 - 2 message: ✅ fruits looks correct!"
      ]
     },
     "execution_count": 26,
     "metadata": {},
     "output_type": "execute_result"
    }
   ],
   "source": [
    "grader.check(\"task_01\")"
   ]
  },
  {
   "cell_type": "markdown",
   "metadata": {},
   "source": [
    "---"
   ]
  },
  {
   "cell_type": "markdown",
   "metadata": {
    "tags": []
   },
   "source": [
    "### Task 02 📍"
   ]
  },
  {
   "cell_type": "markdown",
   "metadata": {
    "deletable": false,
    "editable": false
   },
   "source": [
    "The file `inventory.csv` contains information about the inventory at a fruit stand.  Each row represents the contents of one box of fruit. Load it as a table named `inventory` using the `Table.read_table()` function. \n",
    "\n",
    "**Note**: `Table.read_table(...)` takes one argument (data file name in string format) and returns a table.\n",
    "\n",
    "_Points:_ 2"
   ]
  },
  {
   "cell_type": "code",
   "execution_count": 27,
   "metadata": {
    "tags": []
   },
   "outputs": [
    {
     "data": {
      "text/html": [
       "<table border=\"1\" class=\"dataframe\">\n",
       "    <thead>\n",
       "        <tr>\n",
       "            <th>box ID</th> <th>fruit name</th> <th>count</th>\n",
       "        </tr>\n",
       "    </thead>\n",
       "    <tbody>\n",
       "        <tr>\n",
       "            <td>53686 </td> <td>kiwi      </td> <td>45   </td>\n",
       "        </tr>\n",
       "        <tr>\n",
       "            <td>57181 </td> <td>strawberry</td> <td>123  </td>\n",
       "        </tr>\n",
       "        <tr>\n",
       "            <td>25274 </td> <td>apple     </td> <td>20   </td>\n",
       "        </tr>\n",
       "        <tr>\n",
       "            <td>48800 </td> <td>orange    </td> <td>35   </td>\n",
       "        </tr>\n",
       "        <tr>\n",
       "            <td>26187 </td> <td>strawberry</td> <td>255  </td>\n",
       "        </tr>\n",
       "        <tr>\n",
       "            <td>57930 </td> <td>grape     </td> <td>517  </td>\n",
       "        </tr>\n",
       "        <tr>\n",
       "            <td>52357 </td> <td>strawberry</td> <td>102  </td>\n",
       "        </tr>\n",
       "        <tr>\n",
       "            <td>43566 </td> <td>peach     </td> <td>40   </td>\n",
       "        </tr>\n",
       "    </tbody>\n",
       "</table>"
      ],
      "text/plain": [
       "box ID | fruit name | count\n",
       "53686  | kiwi       | 45\n",
       "57181  | strawberry | 123\n",
       "25274  | apple      | 20\n",
       "48800  | orange     | 35\n",
       "26187  | strawberry | 255\n",
       "57930  | grape      | 517\n",
       "52357  | strawberry | 102\n",
       "43566  | peach      | 40"
      ]
     },
     "execution_count": 27,
     "metadata": {},
     "output_type": "execute_result"
    }
   ],
   "source": [
    "inventory = Table.read_table(\"inventory.csv\")\n",
    "inventory"
   ]
  },
  {
   "cell_type": "code",
   "execution_count": 28,
   "metadata": {
    "deletable": false,
    "editable": false
   },
   "outputs": [
    {
     "data": {
      "text/html": [
       "<p><strong><pre style='display: inline;'>task_02</pre></strong> passed! 🍀</p><p><strong><pre style='display: inline;'>task_02 - 1</pre> message:</strong> ✅ inventory is a Table.</p><p><strong><pre style='display: inline;'>task_02 - 2</pre> message:</strong> ✅ inventory looks correct.</p>"
      ],
      "text/plain": [
       "task_02 results: All test cases passed!\n",
       "task_02 - 1 message: ✅ inventory is a Table.\n",
       "task_02 - 2 message: ✅ inventory looks correct."
      ]
     },
     "execution_count": 28,
     "metadata": {},
     "output_type": "execute_result"
    }
   ],
   "source": [
    "grader.check(\"task_02\")"
   ]
  },
  {
   "cell_type": "markdown",
   "metadata": {},
   "source": [
    "---"
   ]
  },
  {
   "cell_type": "markdown",
   "metadata": {
    "tags": []
   },
   "source": [
    "### Task 03 📍"
   ]
  },
  {
   "cell_type": "markdown",
   "metadata": {
    "deletable": false,
    "editable": false
   },
   "source": [
    "Does each box at the fruit stand contain a different fruit? Set `all_different` to `True` if each box contains a different fruit or to `False` if multiple boxes contain the same fruit.\n",
    "\n",
    "*Hint:* You don't have to write code to calculate the True/False value for `all_different`. Just look at the `inventory` table and assign `all_different` to either `True` or `False` according to what you can see from the table in answering the question.\n",
    "\n",
    "_Points:_ 2"
   ]
  },
  {
   "cell_type": "code",
   "execution_count": 29,
   "metadata": {
    "tags": []
   },
   "outputs": [
    {
     "data": {
      "text/plain": [
       "True"
      ]
     },
     "execution_count": 29,
     "metadata": {},
     "output_type": "execute_result"
    }
   ],
   "source": [
    "all_different = True\n",
    "all_different"
   ]
  },
  {
   "cell_type": "code",
   "execution_count": 30,
   "metadata": {
    "deletable": false,
    "editable": false,
    "scrolled": true
   },
   "outputs": [
    {
     "data": {
      "text/html": [
       "<p><strong><pre style='display: inline;'>task_03</pre></strong> passed! 💯</p><p><strong><pre style='display: inline;'>task_03 - 1</pre> message:</strong> ✅ all_different is assigned to True or False.</p>"
      ],
      "text/plain": [
       "task_03 results: All test cases passed!\n",
       "task_03 - 1 message: ✅ all_different is assigned to True or False."
      ]
     },
     "execution_count": 30,
     "metadata": {},
     "output_type": "execute_result"
    }
   ],
   "source": [
    "grader.check(\"task_03\")"
   ]
  },
  {
   "cell_type": "markdown",
   "metadata": {},
   "source": [
    "---"
   ]
  },
  {
   "cell_type": "markdown",
   "metadata": {
    "tags": []
   },
   "source": [
    "### Task 04 📍"
   ]
  },
  {
   "cell_type": "markdown",
   "metadata": {
    "deletable": false,
    "editable": false
   },
   "source": [
    "The file `sales.csv` contains the number of fruit sold from each box last Saturday.  It has an extra column called `price per fruit ($)` that's the price *per item of fruit* for fruit in that box.  The rows are in the same order as the `inventory` table.  Load these data into a table called `sales`.\n",
    "\n",
    "_Points:_ 2"
   ]
  },
  {
   "cell_type": "code",
   "execution_count": 50,
   "metadata": {
    "tags": []
   },
   "outputs": [
    {
     "data": {
      "text/html": [
       "<table border=\"1\" class=\"dataframe\">\n",
       "    <thead>\n",
       "        <tr>\n",
       "            <th>box ID</th> <th>fruit name</th> <th>count sold</th> <th>price per fruit ($)</th>\n",
       "        </tr>\n",
       "    </thead>\n",
       "    <tbody>\n",
       "        <tr>\n",
       "            <td>53686 </td> <td>kiwi      </td> <td>3         </td> <td>0.5                </td>\n",
       "        </tr>\n",
       "        <tr>\n",
       "            <td>57181 </td> <td>strawberry</td> <td>101       </td> <td>0.2                </td>\n",
       "        </tr>\n",
       "        <tr>\n",
       "            <td>25274 </td> <td>apple     </td> <td>0         </td> <td>0.8                </td>\n",
       "        </tr>\n",
       "        <tr>\n",
       "            <td>48800 </td> <td>orange    </td> <td>35        </td> <td>0.6                </td>\n",
       "        </tr>\n",
       "        <tr>\n",
       "            <td>26187 </td> <td>strawberry</td> <td>25        </td> <td>0.15               </td>\n",
       "        </tr>\n",
       "        <tr>\n",
       "            <td>57930 </td> <td>grape     </td> <td>355       </td> <td>0.06               </td>\n",
       "        </tr>\n",
       "        <tr>\n",
       "            <td>52357 </td> <td>strawberry</td> <td>102       </td> <td>0.25               </td>\n",
       "        </tr>\n",
       "        <tr>\n",
       "            <td>43566 </td> <td>peach     </td> <td>17        </td> <td>0.8                </td>\n",
       "        </tr>\n",
       "    </tbody>\n",
       "</table>"
      ],
      "text/plain": [
       "box ID | fruit name | count sold | price per fruit ($)\n",
       "53686  | kiwi       | 3          | 0.5\n",
       "57181  | strawberry | 101        | 0.2\n",
       "25274  | apple      | 0          | 0.8\n",
       "48800  | orange     | 35         | 0.6\n",
       "26187  | strawberry | 25         | 0.15\n",
       "57930  | grape      | 355        | 0.06\n",
       "52357  | strawberry | 102        | 0.25\n",
       "43566  | peach      | 17         | 0.8"
      ]
     },
     "execution_count": 50,
     "metadata": {},
     "output_type": "execute_result"
    }
   ],
   "source": [
    "sales = Table().read_table('sales.csv')\n",
    "sales"
   ]
  },
  {
   "cell_type": "code",
   "execution_count": 51,
   "metadata": {
    "deletable": false,
    "editable": false,
    "scrolled": true
   },
   "outputs": [
    {
     "data": {
      "text/html": [
       "<p><strong><pre style='display: inline;'>task_04</pre></strong> passed! 🌈</p><p><strong><pre style='display: inline;'>task_04 - 1</pre> message:</strong> ✅ sales is a Table.</p><p><strong><pre style='display: inline;'>task_04 - 2</pre> message:</strong> ✅ sales looks correct.</p>"
      ],
      "text/plain": [
       "task_04 results: All test cases passed!\n",
       "task_04 - 1 message: ✅ sales is a Table.\n",
       "task_04 - 2 message: ✅ sales looks correct."
      ]
     },
     "execution_count": 51,
     "metadata": {},
     "output_type": "execute_result"
    }
   ],
   "source": [
    "grader.check(\"task_04\")"
   ]
  },
  {
   "cell_type": "markdown",
   "metadata": {},
   "source": [
    "---"
   ]
  },
  {
   "cell_type": "markdown",
   "metadata": {
    "tags": []
   },
   "source": [
    "### Task 05 📍"
   ]
  },
  {
   "cell_type": "markdown",
   "metadata": {
    "deletable": false,
    "editable": false
   },
   "source": [
    "How many fruits did the store sell in total on that day, last Saturday?\n",
    "\n",
    "_Points:_ 2"
   ]
  },
  {
   "cell_type": "code",
   "execution_count": 66,
   "metadata": {
    "tags": []
   },
   "outputs": [
    {
     "data": {
      "text/plain": [
       "638"
      ]
     },
     "execution_count": 66,
     "metadata": {},
     "output_type": "execute_result"
    }
   ],
   "source": [
    "total_fruits_sold = sum(sales.column('count sold'))\n",
    "total_fruits_sold"
   ]
  },
  {
   "cell_type": "code",
   "execution_count": 67,
   "metadata": {
    "deletable": false,
    "editable": false
   },
   "outputs": [
    {
     "data": {
      "text/html": [
       "<p><strong><pre style='display: inline;'>task_05</pre></strong> passed! ✨</p><p><strong><pre style='display: inline;'>task_05 - 1</pre> message:</strong> ✅ total_fruits_sold is an integer.</p><p><strong><pre style='display: inline;'>task_05 - 2</pre> message:</strong> ✅ total_fruits_sold is a possible quantity.</p>"
      ],
      "text/plain": [
       "task_05 results: All test cases passed!\n",
       "task_05 - 1 message: ✅ total_fruits_sold is an integer.\n",
       "task_05 - 2 message: ✅ total_fruits_sold is a possible quantity."
      ]
     },
     "execution_count": 67,
     "metadata": {},
     "output_type": "execute_result"
    }
   ],
   "source": [
    "grader.check(\"task_05\")"
   ]
  },
  {
   "cell_type": "markdown",
   "metadata": {},
   "source": [
    "---"
   ]
  },
  {
   "cell_type": "markdown",
   "metadata": {
    "tags": []
   },
   "source": [
    "### Task 06 📍"
   ]
  },
  {
   "cell_type": "markdown",
   "metadata": {
    "deletable": false,
    "editable": false
   },
   "source": [
    "What was the store's total revenue (the total price of all fruits sold) on that day? Assign that value to `total_revenue`.\n",
    "\n",
    "*Hint:* If you're stuck, think first about how you would compute the total revenue from just the grape sales. It should be `355 * 0.06`, which gives `21.3`.\n",
    "\n",
    "_Points:_ 2"
   ]
  },
  {
   "cell_type": "code",
   "execution_count": 68,
   "metadata": {
    "tags": []
   },
   "outputs": [
    {
     "data": {
      "text/plain": [
       "106.84999999999999"
      ]
     },
     "execution_count": 68,
     "metadata": {},
     "output_type": "execute_result"
    }
   ],
   "source": [
    "total_revenue = sum(sales.column('count sold')*sales.column('price per fruit ($)'))\n",
    "total_revenue"
   ]
  },
  {
   "cell_type": "code",
   "execution_count": 69,
   "metadata": {
    "deletable": false,
    "editable": false
   },
   "outputs": [
    {
     "data": {
      "text/html": [
       "<p><strong><pre style='display: inline;'>task_06</pre></strong> passed! ✨</p><p><strong><pre style='display: inline;'>task_06 - 1</pre> message:</strong> ✅ total_revenue is a possible value.</p><p><strong><pre style='display: inline;'>task_06 - 2</pre> message:</strong> ✅ total_revenue doesn't just reflect the revenue for grapes.</p>"
      ],
      "text/plain": [
       "task_06 results: All test cases passed!\n",
       "task_06 - 1 message: ✅ total_revenue is a possible value.\n",
       "task_06 - 2 message: ✅ total_revenue doesn't just reflect the revenue for grapes."
      ]
     },
     "execution_count": 69,
     "metadata": {},
     "output_type": "execute_result"
    }
   ],
   "source": [
    "grader.check(\"task_06\")"
   ]
  },
  {
   "cell_type": "markdown",
   "metadata": {},
   "source": [
    "---"
   ]
  },
  {
   "cell_type": "markdown",
   "metadata": {
    "tags": []
   },
   "source": [
    "### Task 07 📍"
   ]
  },
  {
   "cell_type": "markdown",
   "metadata": {
    "deletable": false,
    "editable": false
   },
   "source": [
    "Make a new table called `remaining_inventory`.  It should have the same rows and columns as `inventory`, except that the amount of fruit sold from each box should be subtracted from that box's **original** count, so that the `count` column is **updated to be** the amount of fruit remaining after Saturday.\n",
    "\n",
    "**Notes**:\n",
    "* As a check, since `355` grapes were sold from the original `517`, then `162` grapes should be in the remaining inventory once you're done.\n",
    "* We recommend that you do not do the subtractions individually. Let Python (with the help of arrays) do the hard work for you!\n",
    "* Don't forget that you can always add extra lines of code and intermediate variables. The auto-grader is only checking the value of `remaining_inventory`.\n",
    "\n",
    "_Points:_ 3"
   ]
  },
  {
   "cell_type": "code",
   "execution_count": 85,
   "metadata": {
    "tags": []
   },
   "outputs": [
    {
     "data": {
      "text/html": [
       "<table border=\"1\" class=\"dataframe\">\n",
       "    <thead>\n",
       "        <tr>\n",
       "            <th>box ID</th> <th>fruit name</th> <th>count</th>\n",
       "        </tr>\n",
       "    </thead>\n",
       "    <tbody>\n",
       "        <tr>\n",
       "            <td>53686 </td> <td>kiwi      </td> <td>42   </td>\n",
       "        </tr>\n",
       "        <tr>\n",
       "            <td>57181 </td> <td>strawberry</td> <td>22   </td>\n",
       "        </tr>\n",
       "        <tr>\n",
       "            <td>25274 </td> <td>apple     </td> <td>20   </td>\n",
       "        </tr>\n",
       "        <tr>\n",
       "            <td>48800 </td> <td>orange    </td> <td>0    </td>\n",
       "        </tr>\n",
       "        <tr>\n",
       "            <td>26187 </td> <td>strawberry</td> <td>230  </td>\n",
       "        </tr>\n",
       "        <tr>\n",
       "            <td>57930 </td> <td>grape     </td> <td>162  </td>\n",
       "        </tr>\n",
       "        <tr>\n",
       "            <td>52357 </td> <td>strawberry</td> <td>0    </td>\n",
       "        </tr>\n",
       "        <tr>\n",
       "            <td>43566 </td> <td>peach     </td> <td>23   </td>\n",
       "        </tr>\n",
       "    </tbody>\n",
       "</table>"
      ],
      "text/plain": [
       "box ID | fruit name | count\n",
       "53686  | kiwi       | 42\n",
       "57181  | strawberry | 22\n",
       "25274  | apple      | 20\n",
       "48800  | orange     | 0\n",
       "26187  | strawberry | 230\n",
       "57930  | grape      | 162\n",
       "52357  | strawberry | 0\n",
       "43566  | peach      | 23"
      ]
     },
     "execution_count": 85,
     "metadata": {},
     "output_type": "execute_result"
    }
   ],
   "source": [
    "remaining_values = inventory.column('count') - sales.column('count sold')\n",
    "remaining_inventory = inventory.with_columns('count', remaining_values)\n",
    "remaining_inventory"
   ]
  },
  {
   "cell_type": "code",
   "execution_count": 86,
   "metadata": {
    "deletable": false,
    "editable": false
   },
   "outputs": [
    {
     "data": {
      "text/html": [
       "<p><strong><pre style='display: inline;'>task_07</pre></strong> passed! 🌈</p><p><strong><pre style='display: inline;'>task_07 - 1</pre> message:</strong> ✅ remaining_inventory is a Table.</p><p><strong><pre style='display: inline;'>task_07 - 2</pre> message:</strong> ✅ The updated grape inventory looks good.</p>"
      ],
      "text/plain": [
       "task_07 results: All test cases passed!\n",
       "task_07 - 1 message: ✅ remaining_inventory is a Table.\n",
       "task_07 - 2 message: ✅ The updated grape inventory looks good."
      ]
     },
     "execution_count": 86,
     "metadata": {},
     "output_type": "execute_result"
    }
   ],
   "source": [
    "grader.check(\"task_07\")"
   ]
  },
  {
   "cell_type": "markdown",
   "metadata": {},
   "source": [
    "---"
   ]
  },
  {
   "cell_type": "markdown",
   "metadata": {},
   "source": [
    "## Unemployment\n"
   ]
  },
  {
   "cell_type": "markdown",
   "metadata": {},
   "source": [
    "The [Federal Reserve Bank of St. Louis](https://fred.stlouisfed.org/categories/33509) publishes data about jobs in the US.  Below, we've loaded data on unemployment in the United States. There are many ways of defining unemployment, and our dataset includes two notions of the unemployment rate:\n",
    "\n",
    "1. Among people who are able to work and are looking for a full-time job, the percentage who can't find a job.  This is called the Non-Employment Index, or NEI.\n",
    "2. Among people who are able to work and are looking for a full-time job, the percentage who can't find any job *or* are only working at a part-time job.  The latter group is called \"Part-Time for Economic Reasons\", so the acronym for this index is NEI+PTER.  (Economists are great at marketing.)\n",
    "\n",
    "The data that you will use in this assignment contains [quarterly average NEI percentages from 1994 until 2024](https://fred.stlouisfed.org/series/NEIM156SFRBRIC) and [quarterly average NEI+PTER percentages from 1994 until 2024](https://fred.stlouisfed.org/series/NEIPTERM156SFRBRIC)\n",
    "\n",
    "*In this assignment, you will do some preliminary analysis of these unemployment metrics. In a future assignment, you will work on creating visualizations and summarizing your analysis.*\n"
   ]
  },
  {
   "cell_type": "markdown",
   "metadata": {},
   "source": [
    "---"
   ]
  },
  {
   "cell_type": "markdown",
   "metadata": {},
   "source": [
    "### Task 08 📍"
   ]
  },
  {
   "cell_type": "markdown",
   "metadata": {
    "deletable": false,
    "editable": false
   },
   "source": [
    "The data are in a CSV file called `unemployment.csv`.  Load the data in that file into a `Table` and assign the table to the name `unemployment`.\n",
    "\n",
    "\n",
    "_Points:_ 1"
   ]
  },
  {
   "cell_type": "code",
   "execution_count": 87,
   "metadata": {
    "tags": []
   },
   "outputs": [
    {
     "data": {
      "text/html": [
       "<table border=\"1\" class=\"dataframe\">\n",
       "    <thead>\n",
       "        <tr>\n",
       "            <th>DATE</th> <th>NEI</th> <th>NEI+PTER</th>\n",
       "        </tr>\n",
       "    </thead>\n",
       "    <tbody>\n",
       "        <tr>\n",
       "            <td>1994-01-01</td> <td>9.82912</td> <td>10.9749 </td>\n",
       "        </tr>\n",
       "        <tr>\n",
       "            <td>1994-04-01</td> <td>9.42543</td> <td>10.6306 </td>\n",
       "        </tr>\n",
       "        <tr>\n",
       "            <td>1994-07-01</td> <td>9.22842</td> <td>10.359  </td>\n",
       "        </tr>\n",
       "        <tr>\n",
       "            <td>1994-10-01</td> <td>8.98376</td> <td>10.1199 </td>\n",
       "        </tr>\n",
       "        <tr>\n",
       "            <td>1995-01-01</td> <td>8.88245</td> <td>10.0086 </td>\n",
       "        </tr>\n",
       "        <tr>\n",
       "            <td>1995-04-01</td> <td>8.97931</td> <td>10.0942 </td>\n",
       "        </tr>\n",
       "        <tr>\n",
       "            <td>1995-07-01</td> <td>8.96056</td> <td>10.1052 </td>\n",
       "        </tr>\n",
       "        <tr>\n",
       "            <td>1995-10-01</td> <td>8.95893</td> <td>10.0813 </td>\n",
       "        </tr>\n",
       "        <tr>\n",
       "            <td>1996-01-01</td> <td>8.90291</td> <td>9.97698 </td>\n",
       "        </tr>\n",
       "        <tr>\n",
       "            <td>1996-04-01</td> <td>8.80475</td> <td>9.88223 </td>\n",
       "        </tr>\n",
       "    </tbody>\n",
       "</table>\n",
       "<p>... (110 rows omitted)</p>"
      ],
      "text/plain": [
       "DATE       | NEI     | NEI+PTER\n",
       "1994-01-01 | 9.82912 | 10.9749\n",
       "1994-04-01 | 9.42543 | 10.6306\n",
       "1994-07-01 | 9.22842 | 10.359\n",
       "1994-10-01 | 8.98376 | 10.1199\n",
       "1995-01-01 | 8.88245 | 10.0086\n",
       "1995-04-01 | 8.97931 | 10.0942\n",
       "1995-07-01 | 8.96056 | 10.1052\n",
       "1995-10-01 | 8.95893 | 10.0813\n",
       "1996-01-01 | 8.90291 | 9.97698\n",
       "1996-04-01 | 8.80475 | 9.88223\n",
       "... (110 rows omitted)"
      ]
     },
     "execution_count": 87,
     "metadata": {},
     "output_type": "execute_result"
    }
   ],
   "source": [
    "unemployment = Table().read_table('unemployment.csv')\n",
    "unemployment"
   ]
  },
  {
   "cell_type": "code",
   "execution_count": 88,
   "metadata": {
    "deletable": false,
    "editable": false
   },
   "outputs": [
    {
     "data": {
      "text/html": [
       "<p><strong><pre style='display: inline;'>task_08</pre></strong> passed! 🌟</p><p><strong><pre style='display: inline;'>task_08 - 1</pre> message:</strong> ✅ It seems that you have assigned the name unemployment to a table.</p><p><strong><pre style='display: inline;'>task_08 - 2</pre> message:</strong> ✅ The contents in unemployment seem correct.</p>"
      ],
      "text/plain": [
       "task_08 results: All test cases passed!\n",
       "task_08 - 1 message: ✅ It seems that you have assigned the name unemployment to a table.\n",
       "task_08 - 2 message: ✅ The contents in unemployment seem correct."
      ]
     },
     "execution_count": 88,
     "metadata": {},
     "output_type": "execute_result"
    }
   ],
   "source": [
    "grader.check(\"task_08\")"
   ]
  },
  {
   "cell_type": "markdown",
   "metadata": {},
   "source": [
    "---"
   ]
  },
  {
   "cell_type": "markdown",
   "metadata": {},
   "source": [
    "### Task 09 📍"
   ]
  },
  {
   "cell_type": "markdown",
   "metadata": {
    "deletable": false,
    "editable": false
   },
   "source": [
    "Dates can be tricky to work with. When you loaded the data into the table `unemployment`, the dates were read as strings. Run the following cell to see this is true."
   ]
  },
  {
   "cell_type": "code",
   "execution_count": 89,
   "metadata": {
    "deletable": false,
    "editable": false
   },
   "outputs": [
    {
     "data": {
      "text/plain": [
       "str"
      ]
     },
     "execution_count": 89,
     "metadata": {},
     "output_type": "execute_result"
    }
   ],
   "source": [
    "type(unemployment.column('DATE').item(0))"
   ]
  },
  {
   "cell_type": "markdown",
   "metadata": {
    "deletable": false,
    "editable": false
   },
   "source": [
    "Strings do not always make the best sense to use for dates since we organize dates by months, years, etc. and this is different than the alphabetical order we typically use for strings. A common date type for dates is [`datetime`](https://docs.python.org/3/library/datetime.html). In this class, you are not responsible for knowing how to work directly with the `datetime` format. Instead, we will set up the code to help you with that date type.\n",
    "\n",
    "**Run the following code cell to convert all the dates in the `'DATE'` column to `date` format.**\n",
    "\n",
    "_Points:_ 0"
   ]
  },
  {
   "cell_type": "code",
   "execution_count": 90,
   "metadata": {
    "tags": []
   },
   "outputs": [
    {
     "name": "stdout",
     "output_type": "stream",
     "text": [
      "The date type for the values in the 'DATE' column have been updated.\n",
      "\n"
     ]
    },
    {
     "data": {
      "text/html": [
       "<table border=\"1\" class=\"dataframe\">\n",
       "    <thead>\n",
       "        <tr>\n",
       "            <th>DATE</th> <th>NEI</th> <th>NEI+PTER</th>\n",
       "        </tr>\n",
       "    </thead>\n",
       "    <tbody>\n",
       "        <tr>\n",
       "            <td>1994-01-01</td> <td>9.82912</td> <td>10.9749 </td>\n",
       "        </tr>\n",
       "        <tr>\n",
       "            <td>1994-04-01</td> <td>9.42543</td> <td>10.6306 </td>\n",
       "        </tr>\n",
       "        <tr>\n",
       "            <td>1994-07-01</td> <td>9.22842</td> <td>10.359  </td>\n",
       "        </tr>\n",
       "        <tr>\n",
       "            <td>1994-10-01</td> <td>8.98376</td> <td>10.1199 </td>\n",
       "        </tr>\n",
       "        <tr>\n",
       "            <td>1995-01-01</td> <td>8.88245</td> <td>10.0086 </td>\n",
       "        </tr>\n",
       "        <tr>\n",
       "            <td>1995-04-01</td> <td>8.97931</td> <td>10.0942 </td>\n",
       "        </tr>\n",
       "        <tr>\n",
       "            <td>1995-07-01</td> <td>8.96056</td> <td>10.1052 </td>\n",
       "        </tr>\n",
       "        <tr>\n",
       "            <td>1995-10-01</td> <td>8.95893</td> <td>10.0813 </td>\n",
       "        </tr>\n",
       "        <tr>\n",
       "            <td>1996-01-01</td> <td>8.90291</td> <td>9.97698 </td>\n",
       "        </tr>\n",
       "        <tr>\n",
       "            <td>1996-04-01</td> <td>8.80475</td> <td>9.88223 </td>\n",
       "        </tr>\n",
       "    </tbody>\n",
       "</table>\n",
       "<p>... (110 rows omitted)</p>"
      ],
      "text/plain": [
       "DATE       | NEI     | NEI+PTER\n",
       "1994-01-01 | 9.82912 | 10.9749\n",
       "1994-04-01 | 9.42543 | 10.6306\n",
       "1994-07-01 | 9.22842 | 10.359\n",
       "1994-10-01 | 8.98376 | 10.1199\n",
       "1995-01-01 | 8.88245 | 10.0086\n",
       "1995-04-01 | 8.97931 | 10.0942\n",
       "1995-07-01 | 8.96056 | 10.1052\n",
       "1995-10-01 | 8.95893 | 10.0813\n",
       "1996-01-01 | 8.90291 | 9.97698\n",
       "1996-04-01 | 8.80475 | 9.88223\n",
       "... (110 rows omitted)"
      ]
     },
     "metadata": {},
     "output_type": "display_data"
    }
   ],
   "source": [
    "# Just run this cell\n",
    "import datetime\n",
    "from datetime import datetime, date\n",
    "\n",
    "def update_date_format(date_string):\n",
    "    date_object = datetime.strptime(date_string, '%Y-%m-%d').date()\n",
    "    return date_object\n",
    "\n",
    "if not isinstance(unemployment.column('DATE').item(0),  date):\n",
    "    unemployment = unemployment.with_column(\n",
    "        'DATE', unemployment.apply(update_date_format, 'DATE'))\n",
    "    print(\"The date type for the values in the 'DATE' column have been updated.\\n\")\n",
    "else:\n",
    "    print(\"The date type is correct for the values in the 'DATE' column.\\n\")\n",
    "    \n",
    "display(unemployment)"
   ]
  },
  {
   "cell_type": "code",
   "execution_count": 91,
   "metadata": {
    "deletable": false,
    "editable": false,
    "scrolled": true
   },
   "outputs": [
    {
     "data": {
      "text/html": [
       "<p><strong><pre style='display: inline;'>task_09</pre></strong> passed! 🎉</p><p><strong><pre style='display: inline;'>task_09 - 1</pre> message:</strong> ✅ You've converted all the dates.</p>"
      ],
      "text/plain": [
       "task_09 results: All test cases passed!\n",
       "task_09 - 1 message: ✅ You've converted all the dates."
      ]
     },
     "execution_count": 91,
     "metadata": {},
     "output_type": "execute_result"
    }
   ],
   "source": [
    "grader.check(\"task_09\")"
   ]
  },
  {
   "cell_type": "markdown",
   "metadata": {},
   "source": [
    "---"
   ]
  },
  {
   "cell_type": "markdown",
   "metadata": {},
   "source": [
    "### Task 10 📍"
   ]
  },
  {
   "cell_type": "markdown",
   "metadata": {
    "deletable": false,
    "editable": false
   },
   "source": [
    "For this task:\n",
    "1. Sort the data in descending order by NEI, naming the sorted table `by_nei`.\n",
    "2. Create another table called `by_nei_pter` that's sorted in descending order by NEI+PTER instead.\n",
    "\n",
    "\n",
    "_Points:_ 2"
   ]
  },
  {
   "cell_type": "code",
   "execution_count": 99,
   "metadata": {
    "tags": []
   },
   "outputs": [],
   "source": [
    "by_nei = unemployment.sort('NEI', descending=True)\n",
    "by_nei_pter = unemployment.sort('NEI+PTER', True)"
   ]
  },
  {
   "cell_type": "code",
   "execution_count": 100,
   "metadata": {
    "deletable": false,
    "editable": false,
    "scrolled": true
   },
   "outputs": [
    {
     "data": {
      "text/html": [
       "<p><strong><pre style='display: inline;'>task_10</pre></strong> passed! 🙌</p><p><strong><pre style='display: inline;'>task_10 - 1</pre> message:</strong> ✅ It seems like you have the correct values in by_nei.</p><p><strong><pre style='display: inline;'>task_10 - 2</pre> message:</strong> ✅ It seems like you have the correct values in by_nei_pter.</p>"
      ],
      "text/plain": [
       "task_10 results: All test cases passed!\n",
       "task_10 - 1 message: ✅ It seems like you have the correct values in by_nei.\n",
       "task_10 - 2 message: ✅ It seems like you have the correct values in by_nei_pter."
      ]
     },
     "execution_count": 100,
     "metadata": {},
     "output_type": "execute_result"
    }
   ],
   "source": [
    "grader.check(\"task_10\")"
   ]
  },
  {
   "cell_type": "markdown",
   "metadata": {},
   "source": [
    "---"
   ]
  },
  {
   "cell_type": "markdown",
   "metadata": {},
   "source": [
    "### Task 11 📍"
   ]
  },
  {
   "cell_type": "markdown",
   "metadata": {
    "deletable": false,
    "editable": false
   },
   "source": [
    "For this task:\n",
    "1. Use `take` to make a table containing the data for the 10 quarters when NEI was greatest.\n",
    "2. Assign that table to the name `greatest_nei`. Keep in mind that `greatest_nei` should be sorted in descending order of `NEI`.\n",
    "\n",
    "**Note**: Each row of `unemployment` represents a quarter.\n",
    "\n",
    "\n",
    "_Points:_ 2"
   ]
  },
  {
   "cell_type": "code",
   "execution_count": 104,
   "metadata": {
    "tags": []
   },
   "outputs": [
    {
     "data": {
      "text/html": [
       "<table border=\"1\" class=\"dataframe\">\n",
       "    <thead>\n",
       "        <tr>\n",
       "            <th>DATE</th> <th>NEI</th> <th>NEI+PTER</th>\n",
       "        </tr>\n",
       "    </thead>\n",
       "    <tbody>\n",
       "        <tr>\n",
       "            <td>1994-01-01</td> <td>9.82912</td> <td>10.9749 </td>\n",
       "        </tr>\n",
       "        <tr>\n",
       "            <td>1994-04-01</td> <td>9.42543</td> <td>10.6306 </td>\n",
       "        </tr>\n",
       "        <tr>\n",
       "            <td>1994-07-01</td> <td>9.22842</td> <td>10.359  </td>\n",
       "        </tr>\n",
       "        <tr>\n",
       "            <td>1994-10-01</td> <td>8.98376</td> <td>10.1199 </td>\n",
       "        </tr>\n",
       "        <tr>\n",
       "            <td>1995-01-01</td> <td>8.88245</td> <td>10.0086 </td>\n",
       "        </tr>\n",
       "        <tr>\n",
       "            <td>1995-04-01</td> <td>8.97931</td> <td>10.0942 </td>\n",
       "        </tr>\n",
       "        <tr>\n",
       "            <td>1995-07-01</td> <td>8.96056</td> <td>10.1052 </td>\n",
       "        </tr>\n",
       "        <tr>\n",
       "            <td>1995-10-01</td> <td>8.95893</td> <td>10.0813 </td>\n",
       "        </tr>\n",
       "        <tr>\n",
       "            <td>1996-01-01</td> <td>8.90291</td> <td>9.97698 </td>\n",
       "        </tr>\n",
       "        <tr>\n",
       "            <td>1996-04-01</td> <td>8.80475</td> <td>9.88223 </td>\n",
       "        </tr>\n",
       "    </tbody>\n",
       "</table>"
      ],
      "text/plain": [
       "DATE       | NEI     | NEI+PTER\n",
       "1994-01-01 | 9.82912 | 10.9749\n",
       "1994-04-01 | 9.42543 | 10.6306\n",
       "1994-07-01 | 9.22842 | 10.359\n",
       "1994-10-01 | 8.98376 | 10.1199\n",
       "1995-01-01 | 8.88245 | 10.0086\n",
       "1995-04-01 | 8.97931 | 10.0942\n",
       "1995-07-01 | 8.96056 | 10.1052\n",
       "1995-10-01 | 8.95893 | 10.0813\n",
       "1996-01-01 | 8.90291 | 9.97698\n",
       "1996-04-01 | 8.80475 | 9.88223"
      ]
     },
     "execution_count": 104,
     "metadata": {},
     "output_type": "execute_result"
    }
   ],
   "source": [
    "greatest_nei = unemployment.take(np.arange(10))\n",
    "greatest_nei"
   ]
  },
  {
   "cell_type": "code",
   "execution_count": 105,
   "metadata": {
    "deletable": false,
    "editable": false
   },
   "outputs": [
    {
     "data": {
      "text/html": [
       "<p><strong><pre style='display: inline;'>task_11</pre></strong> passed! 🌈</p><p><strong><pre style='display: inline;'>task_11 - 1</pre> message:</strong> ✅ There are 10 rows (quarters) in your table.</p>"
      ],
      "text/plain": [
       "task_11 results: All test cases passed!\n",
       "task_11 - 1 message: ✅ There are 10 rows (quarters) in your table."
      ]
     },
     "execution_count": 105,
     "metadata": {},
     "output_type": "execute_result"
    }
   ],
   "source": [
    "grader.check(\"task_11\")"
   ]
  },
  {
   "cell_type": "markdown",
   "metadata": {},
   "source": [
    "---"
   ]
  },
  {
   "cell_type": "markdown",
   "metadata": {},
   "source": [
    "### Task 12 📍"
   ]
  },
  {
   "cell_type": "markdown",
   "metadata": {
    "deletable": false,
    "editable": false
   },
   "source": [
    "It's believed that many people became PTER (recall: \"Part-Time for Economic Reasons\") in the \"Great Recession\" of 2008-2009.  NEI+PTER is the percentage of people who are unemployed (and counted in the NEI) plus the percentage of people who are PTER.  \n",
    "\n",
    "Using the original `unemployment` table, create an array containing the percentage of people who were PTER in each quarter.  (The first element of the array should correspond to the first row of `unemployment`, and so on.)\n",
    "\n",
    "_Points:_ 2"
   ]
  },
  {
   "cell_type": "code",
   "execution_count": 108,
   "metadata": {
    "tags": []
   },
   "outputs": [
    {
     "data": {
      "text/plain": [
       "array([ 1.14582419,  1.20511897,  1.13058532,  1.13616951,  1.12610939,\n",
       "        1.1148955 ,  1.14462971,  1.12240995,  1.07407416,  1.07748384,\n",
       "        1.09771919,  1.05719024,  1.03633791,  1.0075395 ,  0.99770422,\n",
       "        0.96473865,  0.95247726,  0.90691866,  0.88593835,  0.82358655,\n",
       "        0.84097464,  0.81405539,  0.80697959,  0.76776358,  0.75439202,\n",
       "        0.75420098,  0.76309996,  0.76412992,  0.76689244,  0.81520797,\n",
       "        0.87810426,  1.00087012,  0.95177206,  0.94796623,  0.99511177,\n",
       "        0.97705493,  1.0604883 ,  1.0559854 ,  1.06756208,  1.06831506,\n",
       "        1.04661712,  1.01607443,  1.01156512,  1.01508214,  0.96581501,\n",
       "        0.95883018,  1.00737189,  0.91698606,  0.89789276,  0.89124408,\n",
       "        0.93096016,  0.91680409,  0.91677838,  0.93498812,  0.9857133 ,\n",
       "        0.95811538,  1.04512065,  1.13518626,  1.29427174,  1.55653413,\n",
       "        1.84337533,  1.90518743,  1.90376612,  1.90309877,  1.87502276,\n",
       "        1.867032  ,  1.86025794,  1.85306542,  1.78814381,  1.79613681,\n",
       "        1.80793146,  1.74920399,  1.67534235,  1.66409663,  1.67303672,\n",
       "        1.66339777,  1.62623812,  1.6312762 ,  1.6020797 ,  1.60307542,\n",
       "        1.47724425,  1.49039828,  1.44964813,  1.4057066 ,  1.33297294,\n",
       "        1.29810227,  1.24438005,  1.20536542,  1.1853275 ,  1.19171471,\n",
       "        1.17270457,  1.1377478 ,  1.11034157,  1.02685505,  1.016798  ,\n",
       "        0.95120141,  1.0032235 ,  0.94713147,  0.85883674,  0.88547246,\n",
       "        0.9420915 ,  0.86794273,  0.77956268,  0.79731497,  0.9775642 ,\n",
       "        2.00031934,  1.36794441,  1.21379939,  1.1971796 ,  0.98127085,\n",
       "        0.80387323,  0.7702002 ,  0.82598189,  0.76987741,  0.70719446,\n",
       "        0.67216968,  0.8287017 ,  0.75024368,  0.72367293,  0.7416501 ])"
      ]
     },
     "execution_count": 108,
     "metadata": {},
     "output_type": "execute_result"
    }
   ],
   "source": [
    "pter = unemployment.column('NEI+PTER')-unemployment.column('NEI')\n",
    "pter"
   ]
  },
  {
   "cell_type": "code",
   "execution_count": 109,
   "metadata": {
    "deletable": false,
    "editable": false
   },
   "outputs": [
    {
     "data": {
      "text/html": [
       "<p><strong><pre style='display: inline;'>task_12</pre></strong> passed! 🚀</p><p><strong><pre style='display: inline;'>task_12 - 1</pre> message:</strong> ✅ pter is an array.</p><p><strong><pre style='display: inline;'>task_12 - 2</pre> message:</strong> ✅ You didn't seem to subtract the correct arrays in the wrong order.</p>"
      ],
      "text/plain": [
       "task_12 results: All test cases passed!\n",
       "task_12 - 1 message: ✅ pter is an array.\n",
       "task_12 - 2 message: ✅ You didn't seem to subtract the correct arrays in the wrong order."
      ]
     },
     "execution_count": 109,
     "metadata": {},
     "output_type": "execute_result"
    }
   ],
   "source": [
    "grader.check(\"task_12\")"
   ]
  },
  {
   "cell_type": "markdown",
   "metadata": {},
   "source": [
    "---"
   ]
  },
  {
   "cell_type": "markdown",
   "metadata": {},
   "source": [
    "### Task 13 📍"
   ]
  },
  {
   "cell_type": "markdown",
   "metadata": {
    "deletable": false,
    "editable": false
   },
   "source": [
    "For this task,\n",
    "1. Add `pter` as a column to `unemployment` (named `\"PTER\"`).\n",
    "2. Make sure the data is sorted by the `'DATE'` values in ascending order (`1994-01-01` should be the first date).\n",
    "3. Assign this table to the name `unemployment` to update the original table.\n",
    "\n",
    "**Note**: You do not need to do this all in one line of code.\n",
    "\n",
    "_Points:_ 2"
   ]
  },
  {
   "cell_type": "code",
   "execution_count": 114,
   "metadata": {
    "tags": []
   },
   "outputs": [
    {
     "data": {
      "text/html": [
       "<table border=\"1\" class=\"dataframe\">\n",
       "    <thead>\n",
       "        <tr>\n",
       "            <th>DATE</th> <th>NEI</th> <th>NEI+PTER</th> <th>PTER</th>\n",
       "        </tr>\n",
       "    </thead>\n",
       "    <tbody>\n",
       "        <tr>\n",
       "            <td>1994-01-01</td> <td>9.82912</td> <td>10.9749 </td> <td>1.14582</td>\n",
       "        </tr>\n",
       "        <tr>\n",
       "            <td>1994-04-01</td> <td>9.42543</td> <td>10.6306 </td> <td>1.20512</td>\n",
       "        </tr>\n",
       "        <tr>\n",
       "            <td>1994-07-01</td> <td>9.22842</td> <td>10.359  </td> <td>1.13059</td>\n",
       "        </tr>\n",
       "        <tr>\n",
       "            <td>1994-10-01</td> <td>8.98376</td> <td>10.1199 </td> <td>1.13617</td>\n",
       "        </tr>\n",
       "        <tr>\n",
       "            <td>1995-01-01</td> <td>8.88245</td> <td>10.0086 </td> <td>1.12611</td>\n",
       "        </tr>\n",
       "        <tr>\n",
       "            <td>1995-04-01</td> <td>8.97931</td> <td>10.0942 </td> <td>1.1149 </td>\n",
       "        </tr>\n",
       "        <tr>\n",
       "            <td>1995-07-01</td> <td>8.96056</td> <td>10.1052 </td> <td>1.14463</td>\n",
       "        </tr>\n",
       "        <tr>\n",
       "            <td>1995-10-01</td> <td>8.95893</td> <td>10.0813 </td> <td>1.12241</td>\n",
       "        </tr>\n",
       "        <tr>\n",
       "            <td>1996-01-01</td> <td>8.90291</td> <td>9.97698 </td> <td>1.07407</td>\n",
       "        </tr>\n",
       "        <tr>\n",
       "            <td>1996-04-01</td> <td>8.80475</td> <td>9.88223 </td> <td>1.07748</td>\n",
       "        </tr>\n",
       "    </tbody>\n",
       "</table>\n",
       "<p>... (110 rows omitted)</p>"
      ],
      "text/plain": [
       "DATE       | NEI     | NEI+PTER | PTER\n",
       "1994-01-01 | 9.82912 | 10.9749  | 1.14582\n",
       "1994-04-01 | 9.42543 | 10.6306  | 1.20512\n",
       "1994-07-01 | 9.22842 | 10.359   | 1.13059\n",
       "1994-10-01 | 8.98376 | 10.1199  | 1.13617\n",
       "1995-01-01 | 8.88245 | 10.0086  | 1.12611\n",
       "1995-04-01 | 8.97931 | 10.0942  | 1.1149\n",
       "1995-07-01 | 8.96056 | 10.1052  | 1.14463\n",
       "1995-10-01 | 8.95893 | 10.0813  | 1.12241\n",
       "1996-01-01 | 8.90291 | 9.97698  | 1.07407\n",
       "1996-04-01 | 8.80475 | 9.88223  | 1.07748\n",
       "... (110 rows omitted)"
      ]
     },
     "execution_count": 114,
     "metadata": {},
     "output_type": "execute_result"
    }
   ],
   "source": [
    "unemployment = unemployment.with_columns('PTER',pter)\n",
    "unemployment = unemployment.sort('DATE')\n",
    "unemployment"
   ]
  },
  {
   "cell_type": "code",
   "execution_count": 115,
   "metadata": {
    "tags": []
   },
   "outputs": [],
   "source": [
    "unemployment.to_csv('unemployment_.csv')"
   ]
  },
  {
   "cell_type": "code",
   "execution_count": 116,
   "metadata": {
    "deletable": false,
    "editable": false
   },
   "outputs": [
    {
     "data": {
      "text/html": [
       "<p><strong><pre style='display: inline;'>task_13</pre></strong> passed! 🚀</p><p><strong><pre style='display: inline;'>task_13 - 1</pre> message:</strong> ✅ Your table has the correct number of columns.</p><p><strong><pre style='display: inline;'>task_13 - 2</pre> message:</strong> ✅ Your table appears to be sorted, in ascending order, by the date values.</p>"
      ],
      "text/plain": [
       "task_13 results: All test cases passed!\n",
       "task_13 - 1 message: ✅ Your table has the correct number of columns.\n",
       "task_13 - 2 message: ✅ Your table appears to be sorted, in ascending order, by the date values."
      ]
     },
     "execution_count": 116,
     "metadata": {},
     "output_type": "execute_result"
    }
   ],
   "source": [
    "grader.check(\"task_13\")"
   ]
  },
  {
   "cell_type": "markdown",
   "metadata": {},
   "source": [
    "---"
   ]
  },
  {
   "cell_type": "markdown",
   "metadata": {},
   "source": [
    "### Measuring Relative Change"
   ]
  },
  {
   "cell_type": "markdown",
   "metadata": {},
   "source": [
    "Unemployment measurements vary, but sometimes the way they change can reflect something is wrong with the economy. For example, in the following graph, you should see a sharp increase in unemployment measurements in 2008. \n",
    "\n",
    "<img src=\"./NEI_PTER_over_DATE.png\" alt=\"NEI+PTER values over time\" width=400px>\n",
    "\n",
    "A sudden positive change in unemployment measurements (like what is visualized around 2008, the [Great Recession](https://en.wikipedia.org/wiki/Great_Recession)) would be something to be concerned about. \n",
    "\n",
    "There are many benefits of using visualizations to detect such changes, but in this assignment, we want you to start to focus on detecting such changes numerically. \n",
    "\n",
    "Run the following code cell to view the first two rows of `unemployment`."
   ]
  },
  {
   "cell_type": "code",
   "execution_count": 117,
   "metadata": {},
   "outputs": [
    {
     "data": {
      "text/html": [
       "<table border=\"1\" class=\"dataframe\">\n",
       "    <thead>\n",
       "        <tr>\n",
       "            <th>DATE</th> <th>NEI</th> <th>NEI+PTER</th> <th>PTER</th>\n",
       "        </tr>\n",
       "    </thead>\n",
       "    <tbody>\n",
       "        <tr>\n",
       "            <td>1994-01-01</td> <td>9.82912</td> <td>10.9749 </td> <td>1.14582</td>\n",
       "        </tr>\n",
       "        <tr>\n",
       "            <td>1994-04-01</td> <td>9.42543</td> <td>10.6306 </td> <td>1.20512</td>\n",
       "        </tr>\n",
       "    </tbody>\n",
       "</table>\n",
       "<p>... (118 rows omitted)</p>"
      ],
      "text/plain": [
       "<IPython.core.display.HTML object>"
      ]
     },
     "metadata": {},
     "output_type": "display_data"
    }
   ],
   "source": [
    "unemployment.show(2)"
   ]
  },
  {
   "cell_type": "markdown",
   "metadata": {},
   "source": [
    "For the first `'NEI+PTER'` value (January 1, 1994), no change was detected because we don't have an earlier measurement to compare it with. However, in April of the same year, the value went from 10.9749 to 10.6306, which is a change of approximately -0.3444. **The negative change reflects a decrease in unemployment (an increase in employment).** A positive difference would reflect an increase in unemployment (a decrease in employment).\n",
    "\n",
    "Now, you can't study the amount of change in isolation because a small change during a period of high unemployment could seem dramatic. So, it is better to consider a relative change defined as:\n",
    "\n",
    "$$\\text{relative change} = \\frac{\\text{new value} - \\text{old value}}{\\text{old value}}$$\n",
    "\n",
    "This would mean the relative change in NEI+PTER from January to April, **the first quarter of 1994**, is approximately\n",
    "\n",
    "$$\\frac{10.6306 - 10.9749}{10.9749} \\approx\t-0.0314.$$\n",
    "\n",
    "This means there was an approximately 3.14% decrease in unemployment. Without context, it is difficult to understand if -0.0314 is a common negative value or if it is a significantly large negative value. Later in the course, you will learn how to address this concern more systematically. For now, you will just look for the largest negative changes in the data as you complete the next few tasks.\n"
   ]
  },
  {
   "cell_type": "markdown",
   "metadata": {
    "tags": []
   },
   "source": [
    "### Task 14 📍"
   ]
  },
  {
   "cell_type": "markdown",
   "metadata": {
    "deletable": false,
    "editable": false
   },
   "source": [
    "For this task, assign `NEI_PTER_change` to an array with all of the relative changes in NEI+PTER values as we just described.\n",
    "* The `NEI_PTER_change` array should contain 119 items.\n",
    "* The first value in `NEI_PTER_change` should be approximately `-0.0314`.\n",
    "  \n",
    "**Notes**: \n",
    "* We've provided some optional intermediate variables to help you complete this task. You can delete them if you don't end up using them. Just make sure you have `NEI_PTER_change` defined as requested in your code.\n",
    "* Notice that when you are calculating the relative change values, you'll never divide by the last value in the data set. For now, we recommend using the table method [`exclude`](https://datascience.readthedocs.io/en/master/_autosummary/datascience.tables.Table.exclude.html#datascience.tables.Table.exclude) to handle this. As a hint, `unemployment.exclude(0)` will create a table without the first row of `unemployment`.\n",
    "\n",
    "_Points:_ 2"
   ]
  },
  {
   "cell_type": "code",
   "execution_count": 153,
   "metadata": {},
   "outputs": [
    {
     "data": {
      "text/plain": [
       "array([ 10.974942  ,  10.63055029,  10.35900651,  10.11992939,\n",
       "        10.00855845,  10.09420951,  10.10519157,  10.08134112,\n",
       "         9.97698164,   9.88223164,   9.73488492,   9.70224809,\n",
       "         9.62526017,   9.41571316,   9.24310812,   9.13549589,\n",
       "         9.03442518,   8.86999505,   8.9216472 ,   8.75865099,\n",
       "         8.71999786,   8.75343491,   8.63861982,   8.4620134 ,\n",
       "         8.43357281,   8.42739721,   8.41237045,   8.40252217,\n",
       "         8.53796948,   8.87319921,   9.17330892,   9.74108786,\n",
       "         9.80039922,   9.76934566,   9.74537007,   9.72765352,\n",
       "         9.91252922,  10.00826304,  10.01936281,   9.89609137,\n",
       "         9.77251611,   9.6694471 ,   9.61485106,   9.59960981,\n",
       "         9.4905882 ,   9.37175691,   9.3195762 ,   9.28452311,\n",
       "         9.10574265,   9.04213421,   9.05155693,   8.97961755,\n",
       "         8.93443143,   9.07792519,   9.14390096,   9.15493675,\n",
       "         9.37461499,   9.69089358,  10.24812735,  11.0143204 ,\n",
       "        12.20906974,  12.71757877,  12.67981584,  12.76858598,\n",
       "        12.64238775,  12.3703081 ,  12.39569468,  12.41713204,\n",
       "        12.12323814,  12.16861059,  12.15934806,  11.93029986,\n",
       "        11.64880697,  11.62102901,  11.60935619,  11.49388433,\n",
       "        11.48024208,  11.38408967,  11.10629194,  10.98230369,\n",
       "        10.71332711,  10.566215  ,  10.50088597,  10.28271413,\n",
       "        10.12831866,   9.99992393,   9.80337431,   9.7117734 ,\n",
       "         9.55865037,   9.54824739,   9.51726866,   9.46827376,\n",
       "         9.27559195,   9.04039016,   8.94016128,   8.81137064,\n",
       "         8.78634148,   8.65996472,   8.49346774,   8.51378019,\n",
       "         8.59523152,   8.37168832,   8.21075736,   8.09284625,\n",
       "         8.59173552,  16.11375032,  12.33440554,  10.48632129,\n",
       "        10.06667573,   9.66309042,   9.01537913,   8.54884258,\n",
       "         8.45286135,   8.29295161,   8.19387061,   8.13964685,\n",
       "         8.12730738,   8.12545054,   8.15351636,   8.25162686])"
      ]
     },
     "execution_count": 153,
     "metadata": {},
     "output_type": "execute_result"
    }
   ],
   "source": [
    "NEI_PTER_array = unemployment.column('NEI+PTER')\n",
    "NEI_PTER_array"
   ]
  },
  {
   "cell_type": "code",
   "execution_count": 154,
   "metadata": {},
   "outputs": [
    {
     "data": {
      "text/plain": [
       "array([ 10.974942  ,  10.63055029,  10.35900651,  10.11992939,\n",
       "        10.00855845,  10.09420951,  10.10519157,  10.08134112,\n",
       "         9.97698164,   9.88223164,   9.73488492,   9.70224809,\n",
       "         9.62526017,   9.41571316,   9.24310812,   9.13549589,\n",
       "         9.03442518,   8.86999505,   8.9216472 ,   8.75865099,\n",
       "         8.71999786,   8.75343491,   8.63861982,   8.4620134 ,\n",
       "         8.43357281,   8.42739721,   8.41237045,   8.40252217,\n",
       "         8.53796948,   8.87319921,   9.17330892,   9.74108786,\n",
       "         9.80039922,   9.76934566,   9.74537007,   9.72765352,\n",
       "         9.91252922,  10.00826304,  10.01936281,   9.89609137,\n",
       "         9.77251611,   9.6694471 ,   9.61485106,   9.59960981,\n",
       "         9.4905882 ,   9.37175691,   9.3195762 ,   9.28452311,\n",
       "         9.10574265,   9.04213421,   9.05155693,   8.97961755,\n",
       "         8.93443143,   9.07792519,   9.14390096,   9.15493675,\n",
       "         9.37461499,   9.69089358,  10.24812735,  11.0143204 ,\n",
       "        12.20906974,  12.71757877,  12.67981584,  12.76858598,\n",
       "        12.64238775,  12.3703081 ,  12.39569468,  12.41713204,\n",
       "        12.12323814,  12.16861059,  12.15934806,  11.93029986,\n",
       "        11.64880697,  11.62102901,  11.60935619,  11.49388433,\n",
       "        11.48024208,  11.38408967,  11.10629194,  10.98230369,\n",
       "        10.71332711,  10.566215  ,  10.50088597,  10.28271413,\n",
       "        10.12831866,   9.99992393,   9.80337431,   9.7117734 ,\n",
       "         9.55865037,   9.54824739,   9.51726866,   9.46827376,\n",
       "         9.27559195,   9.04039016,   8.94016128,   8.81137064,\n",
       "         8.78634148,   8.65996472,   8.49346774,   8.51378019,\n",
       "         8.59523152,   8.37168832,   8.21075736,   8.09284625,\n",
       "         8.59173552,  16.11375032,  12.33440554,  10.48632129,\n",
       "        10.06667573,   9.66309042,   9.01537913,   8.54884258,\n",
       "         8.45286135,   8.29295161,   8.19387061,   8.13964685,\n",
       "         8.12730738,   8.12545054,   8.15351636])"
      ]
     },
     "execution_count": 154,
     "metadata": {},
     "output_type": "execute_result"
    }
   ],
   "source": [
    "first_119_NEI_PTER_array = unemployment.take(np.arange(119)).column(\"NEI+PTER\")\n",
    "first_119_NEI_PTER_array"
   ]
  },
  {
   "cell_type": "code",
   "execution_count": 155,
   "metadata": {
    "scrolled": true
   },
   "outputs": [
    {
     "data": {
      "text/plain": [
       "array([ -3.13798206e-02,  -2.55437181e-02,  -2.30791548e-02,\n",
       "        -1.10051111e-02,   8.55778265e-03,   1.08795634e-03,\n",
       "        -2.36021747e-03,  -1.03517458e-02,  -9.49686071e-03,\n",
       "        -1.49102679e-02,  -3.35256430e-03,  -7.93506017e-03,\n",
       "        -2.17705294e-02,  -1.83315948e-02,  -1.16424286e-02,\n",
       "        -1.10635166e-02,  -1.82003975e-02,   5.82324421e-03,\n",
       "        -1.82697445e-02,  -4.41313650e-03,   3.83452515e-03,\n",
       "        -1.31165765e-02,  -2.04438233e-02,  -3.36097126e-03,\n",
       "        -7.32263891e-04,  -1.78308448e-03,  -1.17068998e-03,\n",
       "         1.61198391e-02,   3.92634017e-02,   3.38220422e-02,\n",
       "         6.18946709e-02,   6.08878187e-03,  -3.16860115e-03,\n",
       "        -2.45416616e-03,  -1.81794453e-03,   1.90051683e-02,\n",
       "         9.65786041e-03,   1.10906051e-03,  -1.23033211e-02,\n",
       "        -1.24872793e-02,  -1.05468251e-02,  -5.64624150e-03,\n",
       "        -1.58517862e-03,  -1.13568788e-02,  -1.25209617e-02,\n",
       "        -5.56786873e-03,  -3.76123135e-03,  -1.92557507e-02,\n",
       "        -6.98553031e-03,   1.04209044e-03,  -7.94773603e-03,\n",
       "        -5.03207548e-03,   1.60607597e-02,   7.26771493e-03,\n",
       "         1.20690146e-03,   2.39956041e-02,   3.37377690e-02,\n",
       "         5.75007626e-02,   7.47642005e-02,   1.08472361e-01,\n",
       "         4.16501048e-02,  -2.96934883e-03,   7.00090151e-03,\n",
       "        -9.88349367e-03,  -2.15212229e-02,   2.05221858e-03,\n",
       "         1.72941990e-03,  -2.36684203e-02,   3.74260197e-03,\n",
       "        -7.61182185e-04,  -1.88372112e-02,  -2.35947870e-02,\n",
       "        -2.38461849e-03,  -1.00445654e-03,  -9.94644858e-03,\n",
       "        -1.18691397e-03,  -8.37546890e-03,  -2.44022786e-02,\n",
       "        -1.11637847e-02,  -2.44918178e-02,  -1.37316922e-02,\n",
       "        -6.18282214e-03,  -2.07765174e-02,  -1.50150500e-02,\n",
       "        -1.26768057e-02,  -1.96551121e-02,  -9.34381437e-03,\n",
       "        -1.57667423e-02,  -1.08833120e-03,  -3.24444119e-03,\n",
       "        -5.14800023e-03,  -2.03502581e-02,  -2.53570654e-02,\n",
       "        -1.10867864e-02,  -1.44058516e-02,  -2.84055275e-03,\n",
       "        -1.43833199e-02,  -1.92260574e-02,   2.39153754e-03,\n",
       "         9.56700007e-03,  -2.60078160e-02,  -1.92232385e-02,\n",
       "        -1.43605648e-02,   6.16457126e-02,   8.75494221e-01,\n",
       "        -2.34541600e-01,  -1.49831643e-01,  -4.00183774e-02,\n",
       "        -4.00912193e-02,  -6.70294144e-02,  -5.17489667e-02,\n",
       "        -1.12273943e-02,  -1.89178241e-02,  -1.19476149e-02,\n",
       "        -6.61760069e-03,  -1.51597163e-03,  -2.28468472e-04,\n",
       "         3.45406218e-03,   1.20329070e-02])"
      ]
     },
     "execution_count": 155,
     "metadata": {},
     "output_type": "execute_result"
    }
   ],
   "source": [
    "NEI_PTER_change = np.diff(NEI_PTER_array)/first_119_NEI_PTER_array\n",
    "NEI_PTER_change "
   ]
  },
  {
   "cell_type": "code",
   "execution_count": 157,
   "metadata": {
    "tags": []
   },
   "outputs": [
    {
     "data": {
      "text/plain": [
       "array([ -3.13798206e-02,  -2.55437181e-02,  -2.30791548e-02,\n",
       "        -1.10051111e-02,   8.55778265e-03,   1.08795634e-03,\n",
       "        -2.36021747e-03,  -1.03517458e-02,  -9.49686071e-03,\n",
       "        -1.49102679e-02,  -3.35256430e-03,  -7.93506017e-03,\n",
       "        -2.17705294e-02,  -1.83315948e-02,  -1.16424286e-02,\n",
       "        -1.10635166e-02,  -1.82003975e-02,   5.82324421e-03,\n",
       "        -1.82697445e-02,  -4.41313650e-03,   3.83452515e-03,\n",
       "        -1.31165765e-02,  -2.04438233e-02,  -3.36097126e-03,\n",
       "        -7.32263891e-04,  -1.78308448e-03,  -1.17068998e-03,\n",
       "         1.61198391e-02,   3.92634017e-02,   3.38220422e-02,\n",
       "         6.18946709e-02,   6.08878187e-03,  -3.16860115e-03,\n",
       "        -2.45416616e-03,  -1.81794453e-03,   1.90051683e-02,\n",
       "         9.65786041e-03,   1.10906051e-03,  -1.23033211e-02,\n",
       "        -1.24872793e-02,  -1.05468251e-02,  -5.64624150e-03,\n",
       "        -1.58517862e-03,  -1.13568788e-02,  -1.25209617e-02,\n",
       "        -5.56786873e-03,  -3.76123135e-03,  -1.92557507e-02,\n",
       "        -6.98553031e-03,   1.04209044e-03,  -7.94773603e-03,\n",
       "        -5.03207548e-03,   1.60607597e-02,   7.26771493e-03,\n",
       "         1.20690146e-03,   2.39956041e-02,   3.37377690e-02,\n",
       "         5.75007626e-02,   7.47642005e-02,   1.08472361e-01,\n",
       "         4.16501048e-02,  -2.96934883e-03,   7.00090151e-03,\n",
       "        -9.88349367e-03,  -2.15212229e-02,   2.05221858e-03,\n",
       "         1.72941990e-03,  -2.36684203e-02,   3.74260197e-03,\n",
       "        -7.61182185e-04,  -1.88372112e-02,  -2.35947870e-02,\n",
       "        -2.38461849e-03,  -1.00445654e-03,  -9.94644858e-03,\n",
       "        -1.18691397e-03,  -8.37546890e-03,  -2.44022786e-02,\n",
       "        -1.11637847e-02,  -2.44918178e-02,  -1.37316922e-02,\n",
       "        -6.18282214e-03,  -2.07765174e-02,  -1.50150500e-02,\n",
       "        -1.26768057e-02,  -1.96551121e-02,  -9.34381437e-03,\n",
       "        -1.57667423e-02,  -1.08833120e-03,  -3.24444119e-03,\n",
       "        -5.14800023e-03,  -2.03502581e-02,  -2.53570654e-02,\n",
       "        -1.10867864e-02,  -1.44058516e-02,  -2.84055275e-03,\n",
       "        -1.43833199e-02,  -1.92260574e-02,   2.39153754e-03,\n",
       "         9.56700007e-03,  -2.60078160e-02,  -1.92232385e-02,\n",
       "        -1.43605648e-02,   6.16457126e-02,   8.75494221e-01,\n",
       "        -2.34541600e-01,  -1.49831643e-01,  -4.00183774e-02,\n",
       "        -4.00912193e-02,  -6.70294144e-02,  -5.17489667e-02,\n",
       "        -1.12273943e-02,  -1.89178241e-02,  -1.19476149e-02,\n",
       "        -6.61760069e-03,  -1.51597163e-03,  -2.28468472e-04,\n",
       "         3.45406218e-03,   1.20329070e-02])"
      ]
     },
     "execution_count": 157,
     "metadata": {},
     "output_type": "execute_result"
    }
   ],
   "source": [
    "NEI_PTER_array = unemployment.column('NEI+PTER')\n",
    "first_119_NEI_PTER_array = unemployment.take(np.arange(119)).column(\"NEI+PTER\")\n",
    "NEI_PTER_change = np.diff(NEI_PTER_array)/first_119_NEI_PTER_array\n",
    "NEI_PTER_change"
   ]
  },
  {
   "cell_type": "code",
   "execution_count": 158,
   "metadata": {
    "deletable": false,
    "editable": false,
    "scrolled": true
   },
   "outputs": [
    {
     "data": {
      "text/html": [
       "<p><strong><pre style='display: inline;'>task_14</pre></strong> passed! 💯</p><p><strong><pre style='display: inline;'>task_14 - 1</pre> message:</strong> ✅ NEI_PTER_change represents an array.</p><p><strong><pre style='display: inline;'>task_14 - 2</pre> message:</strong> ✅ NEI_PTER_change has the correct number of items.</p>"
      ],
      "text/plain": [
       "task_14 results: All test cases passed!\n",
       "task_14 - 1 message: ✅ NEI_PTER_change represents an array.\n",
       "task_14 - 2 message: ✅ NEI_PTER_change has the correct number of items."
      ]
     },
     "execution_count": 158,
     "metadata": {},
     "output_type": "execute_result"
    }
   ],
   "source": [
    "grader.check(\"task_14\")"
   ]
  },
  {
   "cell_type": "markdown",
   "metadata": {},
   "source": [
    "Run the following code to add the values in the `NEI+PTER_change` array to the table under the column label of `'NEI+PTER CHANGE'`. (You'll work with `np.append` later in this course.)"
   ]
  },
  {
   "cell_type": "code",
   "execution_count": 159,
   "metadata": {
    "scrolled": true
   },
   "outputs": [
    {
     "data": {
      "text/html": [
       "<table border=\"1\" class=\"dataframe\">\n",
       "    <thead>\n",
       "        <tr>\n",
       "            <th>DATE</th> <th>NEI</th> <th>NEI+PTER</th> <th>PTER</th> <th>NEI+PTER CHANGE</th>\n",
       "        </tr>\n",
       "    </thead>\n",
       "    <tbody>\n",
       "        <tr>\n",
       "            <td>1994-01-01</td> <td>9.82912</td> <td>10.9749 </td> <td>1.14582</td> <td>0              </td>\n",
       "        </tr>\n",
       "        <tr>\n",
       "            <td>1994-04-01</td> <td>9.42543</td> <td>10.6306 </td> <td>1.20512</td> <td>-0.0313798     </td>\n",
       "        </tr>\n",
       "        <tr>\n",
       "            <td>1994-07-01</td> <td>9.22842</td> <td>10.359  </td> <td>1.13059</td> <td>-0.0255437     </td>\n",
       "        </tr>\n",
       "        <tr>\n",
       "            <td>1994-10-01</td> <td>8.98376</td> <td>10.1199 </td> <td>1.13617</td> <td>-0.0230792     </td>\n",
       "        </tr>\n",
       "        <tr>\n",
       "            <td>1995-01-01</td> <td>8.88245</td> <td>10.0086 </td> <td>1.12611</td> <td>-0.0110051     </td>\n",
       "        </tr>\n",
       "        <tr>\n",
       "            <td>1995-04-01</td> <td>8.97931</td> <td>10.0942 </td> <td>1.1149 </td> <td>0.00855778     </td>\n",
       "        </tr>\n",
       "        <tr>\n",
       "            <td>1995-07-01</td> <td>8.96056</td> <td>10.1052 </td> <td>1.14463</td> <td>0.00108796     </td>\n",
       "        </tr>\n",
       "        <tr>\n",
       "            <td>1995-10-01</td> <td>8.95893</td> <td>10.0813 </td> <td>1.12241</td> <td>-0.00236022    </td>\n",
       "        </tr>\n",
       "        <tr>\n",
       "            <td>1996-01-01</td> <td>8.90291</td> <td>9.97698 </td> <td>1.07407</td> <td>-0.0103517     </td>\n",
       "        </tr>\n",
       "        <tr>\n",
       "            <td>1996-04-01</td> <td>8.80475</td> <td>9.88223 </td> <td>1.07748</td> <td>-0.00949686    </td>\n",
       "        </tr>\n",
       "    </tbody>\n",
       "</table>\n",
       "<p>... (110 rows omitted)</p>"
      ],
      "text/plain": [
       "DATE       | NEI     | NEI+PTER | PTER    | NEI+PTER CHANGE\n",
       "1994-01-01 | 9.82912 | 10.9749  | 1.14582 | 0\n",
       "1994-04-01 | 9.42543 | 10.6306  | 1.20512 | -0.0313798\n",
       "1994-07-01 | 9.22842 | 10.359   | 1.13059 | -0.0255437\n",
       "1994-10-01 | 8.98376 | 10.1199  | 1.13617 | -0.0230792\n",
       "1995-01-01 | 8.88245 | 10.0086  | 1.12611 | -0.0110051\n",
       "1995-04-01 | 8.97931 | 10.0942  | 1.1149  | 0.00855778\n",
       "1995-07-01 | 8.96056 | 10.1052  | 1.14463 | 0.00108796\n",
       "1995-10-01 | 8.95893 | 10.0813  | 1.12241 | -0.00236022\n",
       "1996-01-01 | 8.90291 | 9.97698  | 1.07407 | -0.0103517\n",
       "1996-04-01 | 8.80475 | 9.88223  | 1.07748 | -0.00949686\n",
       "... (110 rows omitted)"
      ]
     },
     "execution_count": 159,
     "metadata": {},
     "output_type": "execute_result"
    }
   ],
   "source": [
    "# Run this code after completing Task 14\n",
    "unemployment_with_change = unemployment.with_column('NEI+PTER CHANGE',\n",
    "                                                    np.append(make_array(0), NEI_PTER_change))\n",
    "unemployment_with_change"
   ]
  },
  {
   "cell_type": "markdown",
   "metadata": {},
   "source": [
    "---"
   ]
  },
  {
   "cell_type": "markdown",
   "metadata": {},
   "source": [
    "### Defining Significance"
   ]
  },
  {
   "attachments": {},
   "cell_type": "markdown",
   "metadata": {},
   "source": [
    "When dealing with large-scale economic indicators like unemployment, even small percentage changes can represent substantial shifts in the labor market. There are many ways to define when numerical values are significant. Sometimes significance is determined by some, seemingly arbitrary, threshold value.\n",
    "\n",
    "For the sake of this assignment, let's say that a 10% increase in NEI+PTER measurements reflects a significant (bad) change in unemployment. In other words, **consider any relative change more than 0.1 to be significant.**"
   ]
  },
  {
   "cell_type": "markdown",
   "metadata": {
    "tags": []
   },
   "source": [
    "### Task 15 📍"
   ]
  },
  {
   "cell_type": "markdown",
   "metadata": {
    "deletable": false,
    "editable": false
   },
   "source": [
    "For this task, create a table called `significant_changes` that contains only the rows from the unemployment table with a `'NEI+PTER CHANGE`' of more than `0.1`.\n",
    "\n",
    "_Points:_ 3"
   ]
  },
  {
   "cell_type": "code",
   "execution_count": 167,
   "metadata": {
    "tags": []
   },
   "outputs": [
    {
     "data": {
      "text/html": [
       "<table border=\"1\" class=\"dataframe\">\n",
       "    <thead>\n",
       "        <tr>\n",
       "            <th>DATE</th> <th>NEI</th> <th>NEI+PTER</th> <th>PTER</th> <th>NEI+PTER CHANGE</th>\n",
       "        </tr>\n",
       "    </thead>\n",
       "    <tbody>\n",
       "        <tr>\n",
       "            <td>2009-01-01</td> <td>10.3657</td> <td>12.2091 </td> <td>1.84338</td> <td>0.108472       </td>\n",
       "        </tr>\n",
       "        <tr>\n",
       "            <td>2020-04-01</td> <td>14.1134</td> <td>16.1138 </td> <td>2.00032</td> <td>0.875494       </td>\n",
       "        </tr>\n",
       "    </tbody>\n",
       "</table>"
      ],
      "text/plain": [
       "DATE       | NEI     | NEI+PTER | PTER    | NEI+PTER CHANGE\n",
       "2009-01-01 | 10.3657 | 12.2091  | 1.84338 | 0.108472\n",
       "2020-04-01 | 14.1134 | 16.1138  | 2.00032 | 0.875494"
      ]
     },
     "execution_count": 167,
     "metadata": {},
     "output_type": "execute_result"
    }
   ],
   "source": [
    "significant_changes = unemployment_with_change.where(\"NEI+PTER CHANGE\", are.above(0.1))\n",
    "significant_changes"
   ]
  },
  {
   "cell_type": "code",
   "execution_count": 166,
   "metadata": {
    "deletable": false,
    "editable": false
   },
   "outputs": [
    {
     "data": {
      "text/html": [
       "<p><strong><pre style='display: inline;'>task_15</pre></strong> passed! 🙌</p><p><strong><pre style='display: inline;'>task_15 - 1</pre> message:</strong> ✅ significant_changes is a Table.</p>"
      ],
      "text/plain": [
       "task_15 results: All test cases passed!\n",
       "task_15 - 1 message: ✅ significant_changes is a Table."
      ]
     },
     "execution_count": 166,
     "metadata": {},
     "output_type": "execute_result"
    }
   ],
   "source": [
    "grader.check(\"task_15\")"
   ]
  },
  {
   "cell_type": "markdown",
   "metadata": {
    "slideshow": {
     "slide_type": "fragment"
    }
   },
   "source": [
    "---"
   ]
  },
  {
   "cell_type": "markdown",
   "metadata": {
    "tags": []
   },
   "source": [
    "### Task 16 📍🔎"
   ]
  },
  {
   "cell_type": "markdown",
   "metadata": {
    "deletable": false,
    "editable": false
   },
   "source": [
    "<!-- BEGIN QUESTION -->\n",
    "\n",
    "What do you notice about the timing of these significant negative changes in NEI+PTER? In your response:\n",
    "* Highlight any global events that coincide with the dates found.\n",
    "* Express whether or not the events caused these significant changes in unemployment.\n",
    "\n",
    "_Points:_ 2"
   ]
  },
  {
   "cell_type": "markdown",
   "metadata": {},
   "source": [
    "There is a Great Recession (2007-2009), for example, where the unemployment rate has been significantly decreasing, where the economy/market is very low and people cannot afford to purchase necessities for their survival. The depression also coincidences with the significant change in unemployment."
   ]
  },
  {
   "cell_type": "markdown",
   "metadata": {
    "deletable": false,
    "editable": false
   },
   "source": [
    "<!-- END QUESTION -->\n",
    "\n",
    "---"
   ]
  },
  {
   "cell_type": "markdown",
   "metadata": {},
   "source": [
    "## Submit Your Assignment to Canvas"
   ]
  },
  {
   "cell_type": "markdown",
   "metadata": {},
   "source": [
    "Follow these steps to submit your homework assignment:\n",
    "\n",
    "1. **Review the Rubric:** View the rubric on the associated Canvas Assignment page to understand the scoring criteria.\n",
    "2. **Run the Auto-Grader:** Ensure you have executed the code cell containing the command `grader.check_all()` to run all tests for auto-graded tasks marked with 📍. This command will execute all auto-grader tests sequentially.\n",
    "3. **Complete Manually Graded Tasks:** Verify that you have responded to all the manually graded tasks marked with 📍🔎.\n",
    "4. **Save Your Work:** In the notebook's Toolbar, go to `File -> Save Notebook` to save your work and create a checkpoint.\n",
    "5. **Download the Notebook:** In the notebook's Toolbar, go to `File -> Download IPYNB` to download the notebook (`.ipynb`) file.\n",
    "6. **Upload to Canvas:** On the Canvas Assignment page, click \"Start Assignment\" or \"New Attempt\" to upload the downloaded `.ipynb` file."
   ]
  },
  {
   "cell_type": "markdown",
   "metadata": {},
   "source": [
    "---"
   ]
  },
  {
   "cell_type": "markdown",
   "metadata": {
    "editable": true,
    "slideshow": {
     "slide_type": "notes"
    },
    "tags": []
   },
   "source": [
    "## Attribution"
   ]
  },
  {
   "cell_type": "markdown",
   "metadata": {},
   "source": [
    "This content is licensed under the <a href=\"https://creativecommons.org/licenses/by-nc-sa/4.0/\">Creative Commons Attribution-NonCommercial-ShareAlike 4.0 International License (CC BY-NC-SA 4.0)</a> and derived from the <a href=\"https://www.data8.org/\">Data 8: The Foundations of Data Science</a> offered by the University of California, Berkeley.\n",
    "\n",
    "<img src=\"./by-nc-sa.png\" width=100px>"
   ]
  },
  {
   "cell_type": "markdown",
   "metadata": {
    "deletable": false,
    "editable": false
   },
   "source": [
    "---\n",
    "\n",
    "To double-check your work, the cell below will rerun all of the autograder tests."
   ]
  },
  {
   "cell_type": "code",
   "execution_count": 168,
   "metadata": {
    "deletable": false,
    "editable": false
   },
   "outputs": [
    {
     "data": {
      "text/plain": [
       "task_01 results: All test cases passed!\n",
       "task_01 - 1 message: ✅ fruits is a Table.\n",
       "task_01 - 2 message: ✅ fruits looks correct!\n",
       "\n",
       "task_02 results: All test cases passed!\n",
       "task_02 - 1 message: ✅ inventory is a Table.\n",
       "task_02 - 2 message: ✅ inventory looks correct.\n",
       "\n",
       "task_03 results: All test cases passed!\n",
       "task_03 - 1 message: ✅ all_different is assigned to True or False.\n",
       "\n",
       "task_04 results: All test cases passed!\n",
       "task_04 - 1 message: ✅ sales is a Table.\n",
       "task_04 - 2 message: ✅ sales looks correct.\n",
       "\n",
       "task_05 results: All test cases passed!\n",
       "task_05 - 1 message: ✅ total_fruits_sold is an integer.\n",
       "task_05 - 2 message: ✅ total_fruits_sold is a possible quantity.\n",
       "\n",
       "task_06 results: All test cases passed!\n",
       "task_06 - 1 message: ✅ total_revenue is a possible value.\n",
       "task_06 - 2 message: ✅ total_revenue doesn't just reflect the revenue for grapes.\n",
       "\n",
       "task_07 results: All test cases passed!\n",
       "task_07 - 1 message: ✅ remaining_inventory is a Table.\n",
       "task_07 - 2 message: ✅ The updated grape inventory looks good.\n",
       "\n",
       "task_08 results: All test cases passed!\n",
       "task_08 - 1 message: ✅ It seems that you have assigned the name unemployment to a table.\n",
       "task_08 - 2 message: ✅ The contents in unemployment seem correct.\n",
       "\n",
       "task_09 results: All test cases passed!\n",
       "task_09 - 1 message: ✅ You've converted all the dates.\n",
       "\n",
       "task_10 results: All test cases passed!\n",
       "task_10 - 1 message: ✅ It seems like you have the correct values in by_nei.\n",
       "task_10 - 2 message: ✅ It seems like you have the correct values in by_nei_pter.\n",
       "\n",
       "task_11 results: All test cases passed!\n",
       "task_11 - 1 message: ✅ There are 10 rows (quarters) in your table.\n",
       "\n",
       "task_12 results: All test cases passed!\n",
       "task_12 - 1 message: ✅ pter is an array.\n",
       "task_12 - 2 message: ✅ You didn't seem to subtract the correct arrays in the wrong order.\n",
       "\n",
       "task_13 results: All test cases passed!\n",
       "task_13 - 1 message: ✅ Your table has the correct number of columns.\n",
       "task_13 - 2 message: ✅ Your table appears to be sorted, in ascending order, by the date values.\n",
       "\n",
       "task_14 results: All test cases passed!\n",
       "task_14 - 1 message: ✅ NEI_PTER_change represents an array.\n",
       "task_14 - 2 message: ✅ NEI_PTER_change has the correct number of items.\n",
       "\n",
       "task_15 results: All test cases passed!\n",
       "task_15 - 1 message: ✅ significant_changes is a Table."
      ]
     },
     "execution_count": 168,
     "metadata": {},
     "output_type": "execute_result"
    }
   ],
   "source": [
    "grader.check_all()"
   ]
  },
  {
   "cell_type": "code",
   "execution_count": null,
   "metadata": {},
   "outputs": [],
   "source": []
  }
 ],
 "metadata": {
  "hide_input": false,
  "kernelspec": {
   "display_name": "Python 3 (ipykernel)",
   "language": "python",
   "name": "python3"
  },
  "language_info": {
   "codemirror_mode": {
    "name": "ipython",
    "version": 3
   },
   "file_extension": ".py",
   "mimetype": "text/x-python",
   "name": "python",
   "nbconvert_exporter": "python",
   "pygments_lexer": "ipython3",
   "version": "3.11.9"
  },
  "otter": {
   "OK_FORMAT": true,
   "assignment_name": "hw03_fa24",
   "tests": {
    "task_01": {
     "name": "task_01",
     "points": 2,
     "suites": [
      {
       "cases": [
        {
         "code": ">>> isinstance(fruits, Table)\nTrue",
         "failure_message": "❌ fruits should be a Table. Try using Table().with_columns(...) to build the table.",
         "hidden": false,
         "locked": false,
         "points": 1,
         "success_message": "✅ fruits is a Table."
        },
        {
         "code": ">>> fruits.sort(0)\nfruit name | amount\napple      | 4\norange     | 3\npineapple  | 1",
         "failure_message": "❌ fruits doesn't look correct. Double-check the capitalization, spelling, and counts.",
         "hidden": false,
         "locked": false,
         "points": 1,
         "success_message": "✅ fruits looks correct!"
        }
       ],
       "scored": true,
       "setup": "",
       "teardown": "",
       "type": "doctest"
      }
     ]
    },
    "task_02": {
     "name": "task_02",
     "points": 2,
     "suites": [
      {
       "cases": [
        {
         "code": ">>> isinstance(inventory, Table)\nTrue",
         "failure_message": "❌ inventory should be a Table.",
         "hidden": false,
         "locked": false,
         "points": 1,
         "success_message": "✅ inventory is a Table."
        },
        {
         "code": ">>> inventory.sort(0)\nbox ID | fruit name | count\n25274  | apple      | 20\n26187  | strawberry | 255\n43566  | peach      | 40\n48800  | orange     | 35\n52357  | strawberry | 102\n53686  | kiwi       | 45\n57181  | strawberry | 123\n57930  | grape      | 517",
         "failure_message": "❌ inventory doesn't look correct.",
         "hidden": false,
         "locked": false,
         "points": 1,
         "success_message": "✅ inventory looks correct."
        }
       ],
       "scored": true,
       "setup": "",
       "teardown": "",
       "type": "doctest"
      }
     ]
    },
    "task_03": {
     "name": "task_03",
     "points": 2,
     "suites": [
      {
       "cases": [
        {
         "code": ">>> isinstance(all_different, bool)\nTrue",
         "failure_message": "❌ all_different should be assigned to True or False. Double check your spelling/capitalization of True or False.",
         "hidden": false,
         "locked": false,
         "points": 1,
         "success_message": "✅ all_different is assigned to True or False."
        }
       ],
       "scored": true,
       "setup": "",
       "teardown": "",
       "type": "doctest"
      }
     ]
    },
    "task_04": {
     "name": "task_04",
     "points": 2,
     "suites": [
      {
       "cases": [
        {
         "code": ">>> isinstance(sales, Table)\nTrue",
         "failure_message": "❌ sales should be a Table.",
         "hidden": false,
         "locked": false,
         "points": 1,
         "success_message": "✅ sales is a Table."
        },
        {
         "code": ">>> sales.sort(0)\nbox ID | fruit name | count sold | price per fruit ($)\n25274  | apple      | 0          | 0.8\n26187  | strawberry | 25         | 0.15\n43566  | peach      | 17         | 0.8\n48800  | orange     | 35         | 0.6\n52357  | strawberry | 102        | 0.25\n53686  | kiwi       | 3          | 0.5\n57181  | strawberry | 101        | 0.2\n57930  | grape      | 355        | 0.06",
         "failure_message": "❌ sales doesn't look correct.",
         "hidden": false,
         "locked": false,
         "points": 1,
         "success_message": "✅ sales looks correct."
        }
       ],
       "scored": true,
       "setup": "",
       "teardown": "",
       "type": "doctest"
      }
     ]
    },
    "task_05": {
     "name": "task_05",
     "points": 2,
     "suites": [
      {
       "cases": [
        {
         "code": ">>> isinstance(total_fruits_sold, (int, np.integer))\nTrue",
         "failure_message": "❌ total_fruits_sold should be an integer.",
         "hidden": false,
         "locked": false,
         "points": 0.5,
         "success_message": "✅ total_fruits_sold is an integer."
        },
        {
         "code": ">>> total_fruits_sold > 10\nTrue",
         "failure_message": "❌ total_fruits_sold is not a possible quantity.",
         "hidden": false,
         "locked": false,
         "points": 0.5,
         "success_message": "✅ total_fruits_sold is a possible quantity."
        }
       ],
       "scored": true,
       "setup": "",
       "teardown": "",
       "type": "doctest"
      }
     ]
    },
    "task_06": {
     "name": "task_06",
     "points": 2,
     "suites": [
      {
       "cases": [
        {
         "code": ">>> 50 <= total_revenue <= 150\nTrue",
         "failure_message": "❌ total_revenue is not a possible value. It should be a number between 50 and 150.",
         "hidden": false,
         "locked": false,
         "points": 0.5,
         "success_message": "✅ total_revenue is a possible value."
        },
        {
         "code": ">>> total_revenue == 21.3\nFalse",
         "failure_message": "❌ total_revenue seems to reflect the revenue for grapes. You also need to include the revenue for all the other fruits sold.",
         "hidden": false,
         "locked": false,
         "points": 0.5,
         "success_message": "✅ total_revenue doesn't just reflect the revenue for grapes."
        }
       ],
       "scored": true,
       "setup": "",
       "teardown": "",
       "type": "doctest"
      }
     ]
    },
    "task_07": {
     "name": "task_07",
     "points": 3,
     "suites": [
      {
       "cases": [
        {
         "code": ">>> isinstance(remaining_inventory, Table)\nTrue",
         "failure_message": "❌ remaining_inventory should be a Table.",
         "hidden": false,
         "locked": false,
         "points": 1,
         "success_message": "✅ remaining_inventory is a Table."
        },
        {
         "code": ">>> remaining_inventory.where(1, 'grape')\nbox ID | fruit name | count\n57930  | grape      | 162",
         "failure_message": "❌ The updated grape inventory doesn't look correct.",
         "hidden": false,
         "locked": false,
         "points": 1,
         "success_message": "✅ The updated grape inventory looks good."
        }
       ],
       "scored": true,
       "setup": "",
       "teardown": "",
       "type": "doctest"
      }
     ]
    },
    "task_08": {
     "name": "task_08",
     "points": 1,
     "suites": [
      {
       "cases": [
        {
         "code": ">>> isinstance(unemployment, Table)\nTrue",
         "failure_message": "❌ It doesn't seem that you have assigned the name unemployment to a table. Try using the command Table().read_table(...)",
         "hidden": false,
         "locked": false,
         "points": 0.5,
         "success_message": "✅ It seems that you have assigned the name unemployment to a table."
        },
        {
         "code": ">>> np.isclose(np.sum(unemployment.column('NEI')), 1044.46519909577)\nTrue",
         "failure_message": "❌ The contents in unemployment don't seem correct. Double-check that you are using the unemployment.csv",
         "hidden": false,
         "locked": false,
         "points": 0.5,
         "success_message": "✅ The contents in unemployment seem correct."
        }
       ],
       "scored": true,
       "setup": "",
       "teardown": "",
       "type": "doctest"
      }
     ]
    },
    "task_09": {
     "name": "task_09",
     "points": 0,
     "suites": [
      {
       "cases": [
        {
         "code": ">>> isinstance(unemployment.column('DATE').item(0), date)\nTrue",
         "failure_message": "❌ It doesn't seem like you've run the cell to convert the date data types. Make sure to run the above code cell.",
         "hidden": false,
         "locked": false,
         "points": 0,
         "success_message": "✅ You've converted all the dates."
        }
       ],
       "scored": true,
       "setup": "",
       "teardown": "",
       "type": "doctest"
      }
     ]
    },
    "task_10": {
     "name": "task_10",
     "points": 2,
     "suites": [
      {
       "cases": [
        {
         "code": ">>> by_nei.take(0).column(0).item(0) == date(2020, 4, 1)\nTrue",
         "failure_message": "❌ It doesn't look like you have the correct values in by_nei.",
         "hidden": false,
         "locked": false,
         "points": 1,
         "success_message": "✅ It seems like you have the correct values in by_nei."
        },
        {
         "code": ">>> by_nei_pter.take(0).column(0).item(0) == date(2020, 4, 1)\nTrue",
         "failure_message": "❌ It doesn't look like you have the correct values in by_nei_pter.",
         "hidden": false,
         "locked": false,
         "points": 1,
         "success_message": "✅ It seems like you have the correct values in by_nei_pter."
        }
       ],
       "scored": true,
       "setup": "",
       "teardown": "",
       "type": "doctest"
      }
     ]
    },
    "task_11": {
     "name": "task_11",
     "points": 2,
     "suites": [
      {
       "cases": [
        {
         "code": ">>> greatest_nei.num_rows == 10\nTrue",
         "failure_message": "❌ There are not 10 rows (quarters) in your table.",
         "hidden": false,
         "locked": false,
         "points": 1,
         "success_message": "✅ There are 10 rows (quarters) in your table."
        }
       ],
       "scored": true,
       "setup": "",
       "teardown": "",
       "type": "doctest"
      }
     ]
    },
    "task_12": {
     "name": "task_12",
     "points": 2,
     "suites": [
      {
       "cases": [
        {
         "code": ">>> isinstance(pter, np.ndarray)\nTrue",
         "failure_message": "❌ pter doesn't seem to be an array.",
         "hidden": false,
         "locked": false,
         "points": 0.5,
         "success_message": "✅ pter is an array."
        },
        {
         "code": ">>> round(pter.item(6), 4) != -1.1446\nTrue",
         "failure_message": "❌ Be careful of subtracting the arrays in the wrong order.",
         "hidden": false,
         "locked": false,
         "points": 0.5,
         "success_message": "✅ You didn't seem to subtract the correct arrays in the wrong order."
        }
       ],
       "scored": true,
       "setup": "",
       "teardown": "",
       "type": "doctest"
      }
     ]
    },
    "task_13": {
     "name": "task_13",
     "points": 2,
     "suites": [
      {
       "cases": [
        {
         "code": ">>> unemployment.num_columns == 4\nTrue",
         "failure_message": "❌ Your table doesn't have the correct number of columns.",
         "hidden": false,
         "locked": false,
         "points": 0.5,
         "success_message": "✅ Your table has the correct number of columns."
        },
        {
         "code": ">>> np.all(unemployment.sort('DATE').column('DATE') == unemployment.column('DATE'))\nTrue",
         "failure_message": "❌ Your table doesn't appear to be sorted, in ascending order, by the date values.",
         "hidden": false,
         "locked": false,
         "points": 0.5,
         "success_message": "✅ Your table appears to be sorted, in ascending order, by the date values."
        }
       ],
       "scored": true,
       "setup": "",
       "teardown": "",
       "type": "doctest"
      }
     ]
    },
    "task_14": {
     "name": "task_14",
     "points": 2,
     "suites": [
      {
       "cases": [
        {
         "code": ">>> isinstance(NEI_PTER_change, np.ndarray)\nTrue",
         "failure_message": "❌ NEI_PTER_change should represent an array.",
         "hidden": false,
         "locked": false,
         "points": 0.5,
         "success_message": "✅ NEI_PTER_change represents an array."
        },
        {
         "code": ">>> len(NEI_PTER_change)\n119",
         "failure_message": "❌ NEI_PTER_change doesn't have the correct number of items.",
         "hidden": false,
         "locked": false,
         "points": 0.5,
         "success_message": "✅ NEI_PTER_change has the correct number of items."
        }
       ],
       "scored": true,
       "setup": "",
       "teardown": "",
       "type": "doctest"
      }
     ]
    },
    "task_15": {
     "name": "task_15",
     "points": 3,
     "suites": [
      {
       "cases": [
        {
         "code": ">>> isinstance(significant_changes, Table)\nTrue",
         "failure_message": "❌ significant_changes should be a Table.",
         "hidden": false,
         "locked": false,
         "points": 1,
         "success_message": "✅ significant_changes is a Table."
        }
       ],
       "scored": true,
       "setup": "",
       "teardown": "",
       "type": "doctest"
      }
     ]
    }
   }
  }
 },
 "nbformat": 4,
 "nbformat_minor": 4
}
