{
 "cells": [
  {
   "cell_type": "code",
   "execution_count": 1,
   "id": "e14065d5",
   "metadata": {
    "deletable": false,
    "editable": false
   },
   "outputs": [],
   "source": [
    "# Initialize Otter\n",
    "import otter\n",
    "grader = otter.Notebook(\"hw06.ipynb\")"
   ]
  },
  {
   "cell_type": "markdown",
   "id": "808cb24d-f7ce-4ef8-9b09-9fd5d1f2a184",
   "metadata": {},
   "source": [
    "<img src=\"./ccsf.png\" alt=\"CCSF Logo\" width=200px style=\"margin:0px -5px\">"
   ]
  },
  {
   "cell_type": "markdown",
   "id": "c6d2f744-1354-4b2c-8c1f-eb5b158f195f",
   "metadata": {},
   "source": [
    "# Homework 6: Simulation and Chance"
   ]
  },
  {
   "cell_type": "markdown",
   "id": "91ab4605-7efd-4cdb-8615-d0dbd275fc8f",
   "metadata": {},
   "source": [
    "## References\n",
    "\n",
    "* [Sections 9.0 - 9.3](https://inferentialthinking.com/chapters/09/Randomness.html)\n",
    "* [Chapter 10](https://inferentialthinking.com/chapters/10/Sampling_and_Empirical_Distributions.html)\n",
    "* [`datascience` Documentation](https://datascience.readthedocs.io/)\n",
    "* [Python Quick Reference](https://ccsf-math-108.github.io/materials-fa23/resources/quick_reference.html)"
   ]
  },
  {
   "cell_type": "markdown",
   "id": "753ca86e-c00d-4b54-83a5-39d3584592d3",
   "metadata": {},
   "source": [
    "---"
   ]
  },
  {
   "cell_type": "markdown",
   "id": "d354524a-852b-4ca3-b774-efad89b92c0d",
   "metadata": {},
   "source": [
    "## Assignment Reminders"
   ]
  },
  {
   "cell_type": "markdown",
   "id": "a2ace82b-13ee-4ba6-913c-46fc8d74132f",
   "metadata": {},
   "source": [
    "- 🚨 Make sure to run the code cell at the top of this notebook that starts with `# Initialize Otter` to load the auto-grader.\n",
    "- Your Tasks are categorized as auto-graded (📍) and manually graded (📍🔎).\n",
    "    - For all the auto-graded tasks:\n",
    "        - Replace the `...` in the provided code cell with your own code.\n",
    "        - Run the `grader.check` code cell to run some tests on your code.\n",
    "        - Keep in mind that for homework and project assignments, sometimes there are hidden tests that you will not be able to see the results of that we use for scoring the correctness of your response. **Passing the auto-grader does not guarantee that your answer is correct.**\n",
    "    - For all the manually graded tasks:\n",
    "        - You might need to provide your own response to the provided prompt. Do so by replacing the template text \"_Type your answer here, replacing this text._\" with your own words.\n",
    "        - You might need to produce a graphic or something else using code. Do so by replacing the `...` in the code cell to generate the image, table, etc.\n",
    "        - In either case, review the rubric on the associated <a href=\"https://ccsf.instructure.com\" target=\"_blank\">Canvas</a> Assignment page to understand the scoring criteria.\n",
    "- Throughout this assignment and all future ones, please be sure to not re-assign variables throughout the notebook! _For example, if you use `max_temperature` in your answer to one question, do not reassign it later on. Otherwise, you will fail tests that you thought you were passing previously!_\n",
    "- You may [submit](#Submit-Your-Assignment-to-Canvas) this assignment as many times as you want before the deadline. Your instructor will score the last version you submit once the deadline has passed.\n",
    "- We encourage you to discuss this assignment with others but make sure to write and submit your own code. Refer to the syllabus to learn more about how to learn cooperatively."
   ]
  },
  {
   "cell_type": "markdown",
   "id": "8c87972c-cdb8-4abf-8187-38a7186341b5",
   "metadata": {},
   "source": [
    "---"
   ]
  },
  {
   "cell_type": "markdown",
   "id": "6f0bb776-aaf3-49fb-bc1f-578568346bd6",
   "metadata": {},
   "source": [
    "## Configure the Notebook"
   ]
  },
  {
   "cell_type": "markdown",
   "id": "cdc3e115-da1a-407d-8030-84dc55ac9c7e",
   "metadata": {},
   "source": [
    "Run the following cell to configure this Notebook."
   ]
  },
  {
   "cell_type": "code",
   "execution_count": 2,
   "id": "5ebc20c7-43ab-4215-ab57-8318ebc1d136",
   "metadata": {
    "tags": []
   },
   "outputs": [],
   "source": [
    "from datascience import *\n",
    "import numpy as np\n",
    "%matplotlib inline\n",
    "import matplotlib.pyplot as plt\n",
    "plt.style.use('fivethirtyeight')"
   ]
  },
  {
   "cell_type": "markdown",
   "id": "c81ae63b-98cb-4eb7-90aa-e6c3c518e411",
   "metadata": {},
   "source": [
    "---"
   ]
  },
  {
   "cell_type": "markdown",
   "id": "8cbbab36-1992-48c0-b2df-01468bccd36b",
   "metadata": {},
   "source": [
    "## Roulette"
   ]
  },
  {
   "cell_type": "markdown",
   "id": "be1d6f57-2b17-4ee7-aa90-aba13c56ef1f",
   "metadata": {},
   "source": [
    "---"
   ]
  },
  {
   "cell_type": "markdown",
   "id": "75cf3e68-8494-4313-9de1-b36e3edaa4ea",
   "metadata": {},
   "source": [
    "### Chance"
   ]
  },
  {
   "cell_type": "markdown",
   "id": "f6141ead-594d-4d3e-823f-5923f5e5bde5",
   "metadata": {},
   "source": [
    "A Nevada roulette wheel has 38 pockets and a small ball that rests on the wheel. When the wheel is spun, the ball comes to rest in one of the 38 pockets. That pocket is declared the winner. \n",
    "\n",
    "The pockets are labeled 0, 00, 1, 2, 3, 4, ..., 36. Pockets 0 and 00 are green, and the other pockets are alternating red and black. The table `wheel` is a representation of a Nevada roulette wheel. **Note that *both* columns consist of strings.** Below is an example of a roulette wheel!\n",
    "\n",
    "<img src=\"./roulette_wheel.jpeg\" alt=\"roulette wheel\" width=\"330px\">\n",
    "\n",
    "Run the cell below to load the `wheel` table."
   ]
  },
  {
   "cell_type": "code",
   "execution_count": 3,
   "id": "3f1c9290-57c9-4fcb-a760-2dc3f239464a",
   "metadata": {},
   "outputs": [
    {
     "data": {
      "text/html": [
       "<table border=\"1\" class=\"dataframe\">\n",
       "    <thead>\n",
       "        <tr>\n",
       "            <th>Pocket</th> <th>Color</th>\n",
       "        </tr>\n",
       "    </thead>\n",
       "    <tbody>\n",
       "        <tr>\n",
       "            <td>00    </td> <td>green</td>\n",
       "        </tr>\n",
       "        <tr>\n",
       "            <td>0     </td> <td>green</td>\n",
       "        </tr>\n",
       "        <tr>\n",
       "            <td>1     </td> <td>red  </td>\n",
       "        </tr>\n",
       "        <tr>\n",
       "            <td>2     </td> <td>black</td>\n",
       "        </tr>\n",
       "        <tr>\n",
       "            <td>3     </td> <td>red  </td>\n",
       "        </tr>\n",
       "        <tr>\n",
       "            <td>4     </td> <td>black</td>\n",
       "        </tr>\n",
       "        <tr>\n",
       "            <td>5     </td> <td>red  </td>\n",
       "        </tr>\n",
       "        <tr>\n",
       "            <td>6     </td> <td>black</td>\n",
       "        </tr>\n",
       "        <tr>\n",
       "            <td>7     </td> <td>red  </td>\n",
       "        </tr>\n",
       "        <tr>\n",
       "            <td>8     </td> <td>black</td>\n",
       "        </tr>\n",
       "    </tbody>\n",
       "</table>\n",
       "<p>... (28 rows omitted)</p>"
      ],
      "text/plain": [
       "Pocket | Color\n",
       "00     | green\n",
       "0      | green\n",
       "1      | red\n",
       "2      | black\n",
       "3      | red\n",
       "4      | black\n",
       "5      | red\n",
       "6      | black\n",
       "7      | red\n",
       "8      | black\n",
       "... (28 rows omitted)"
      ]
     },
     "execution_count": 3,
     "metadata": {},
     "output_type": "execute_result"
    }
   ],
   "source": [
    "wheel = Table.read_table('roulette_wheel.csv', dtype=str)\n",
    "wheel"
   ]
  },
  {
   "cell_type": "markdown",
   "id": "b4d5c3c1-beea-440c-b91d-7cade7d82fa7",
   "metadata": {},
   "source": [
    "Before you do the following tasks, make sure you understand the logic behind all the examples in [Section 9.5](https://inferentialthinking.com/chapters/09/5/Finding_Probabilities.html). \n",
    "\n",
    "Good ways to approach probability calculations include:\n",
    "\n",
    "- Thinking one trial at a time: What does the first one have to be? Then what does the next one have to be?\n",
    "- Breaking up the event into distinct ways in which it can happen. Listing all the distinct ways the event can occur.\n",
    "- Seeing if it is easier to find the chance that the event does not happen.\n",
    "\n",
    "On each spin of a roulette wheel, all 38 pockets are equally likely to be the winner regardless of the results of other spins. Among the 38 pockets, 18 are red, 18 black, and 2 green."
   ]
  },
  {
   "cell_type": "markdown",
   "id": "37005d3b-c693-424d-8ec8-120c26310c2e",
   "metadata": {},
   "source": [
    "---"
   ]
  },
  {
   "cell_type": "markdown",
   "id": "ece6916d-4e26-43dd-aeca-1d4c13528867",
   "metadata": {
    "tags": []
   },
   "source": [
    "#### Task 01 📍"
   ]
  },
  {
   "cell_type": "markdown",
   "id": "58e28515-49dc-4385-aff7-21afabdadc2e",
   "metadata": {
    "deletable": false,
    "editable": false
   },
   "source": [
    "_Provide an expression that Python evaluates to the chance of the event described._\n",
    "\n",
    "Event: The winning pocket is black on all of the first three spins.\n",
    "\n",
    "_Points:_ 2"
   ]
  },
  {
   "cell_type": "code",
   "execution_count": 4,
   "id": "42cb750c-73f9-4acb-a628-07a7c5a4389b",
   "metadata": {
    "tags": []
   },
   "outputs": [],
   "source": [
    "first_three_black = probability = (18 / 38) ** 3"
   ]
  },
  {
   "cell_type": "code",
   "execution_count": 5,
   "id": "48255177",
   "metadata": {
    "deletable": false,
    "editable": false
   },
   "outputs": [
    {
     "data": {
      "text/html": [
       "<p><strong><pre style='display: inline;'>task_01</pre></strong> passed! 🍀</p><p><strong><pre style='display: inline;'>task_01 - 1</pre> message:</strong> ✅ first_three_black is a numerical value between 0 and 1, inclusive.</p>"
      ],
      "text/plain": [
       "task_01 results: All test cases passed!\n",
       "task_01 - 1 message: ✅ first_three_black is a numerical value between 0 and 1, inclusive."
      ]
     },
     "execution_count": 5,
     "metadata": {},
     "output_type": "execute_result"
    }
   ],
   "source": [
    "grader.check(\"task_01\")"
   ]
  },
  {
   "cell_type": "markdown",
   "id": "a7b3e88b-0853-4c87-9879-883631908a45",
   "metadata": {},
   "source": [
    "---"
   ]
  },
  {
   "cell_type": "markdown",
   "id": "e63b4344-3069-4888-9e41-f57e5bf0c850",
   "metadata": {
    "tags": []
   },
   "source": [
    "#### Task 02 📍"
   ]
  },
  {
   "cell_type": "markdown",
   "id": "02aaed34-4277-4ae7-bbcf-53fd968a9e39",
   "metadata": {
    "deletable": false,
    "editable": false
   },
   "source": [
    "_Provide an expression that Python evaluates to the chance of the event described._\n",
    "\n",
    "Event: The color green never wins in the first 10 spins.\n",
    "\n",
    "_Points:_ 2"
   ]
  },
  {
   "cell_type": "code",
   "execution_count": 6,
   "id": "c872f63b-2f4d-4b12-9a49-e2ea0d25fd44",
   "metadata": {
    "tags": []
   },
   "outputs": [],
   "source": [
    "no_green = probability = (36 / 38) ** 10"
   ]
  },
  {
   "cell_type": "code",
   "execution_count": 7,
   "id": "588f1036",
   "metadata": {
    "deletable": false,
    "editable": false
   },
   "outputs": [
    {
     "data": {
      "text/html": [
       "<p><strong><pre style='display: inline;'>task_02</pre></strong> passed! 🙌</p><p><strong><pre style='display: inline;'>task_02 - 1</pre> message:</strong> ✅ no_green is a numerical value between 0 and 1, inclusive.</p>"
      ],
      "text/plain": [
       "task_02 results: All test cases passed!\n",
       "task_02 - 1 message: ✅ no_green is a numerical value between 0 and 1, inclusive."
      ]
     },
     "execution_count": 7,
     "metadata": {},
     "output_type": "execute_result"
    }
   ],
   "source": [
    "grader.check(\"task_02\")"
   ]
  },
  {
   "cell_type": "markdown",
   "id": "a81b970b-f07b-4b7d-9d7f-a0509353e52b",
   "metadata": {},
   "source": [
    "---"
   ]
  },
  {
   "cell_type": "markdown",
   "id": "09c75b1d-a00d-4657-ac0c-e99a5977d24c",
   "metadata": {
    "tags": []
   },
   "source": [
    "#### Task 03 📍"
   ]
  },
  {
   "cell_type": "markdown",
   "id": "a9e8fc4f-1abf-4851-bb9e-68abd0f732cb",
   "metadata": {
    "deletable": false,
    "editable": false
   },
   "source": [
    "_Provide an expression that Python evaluates to the chance of the event described._\n",
    "\n",
    "Event: The color green wins **at least** once on the first 10 spins.\n",
    "\n",
    "_Points:_ 2"
   ]
  },
  {
   "cell_type": "code",
   "execution_count": 8,
   "id": "ea678a72-2db4-42d1-8dc4-0b4317651a1f",
   "metadata": {
    "tags": []
   },
   "outputs": [],
   "source": [
    "at_least_one_green = probability = 1 - (36 / 38) ** 10"
   ]
  },
  {
   "cell_type": "code",
   "execution_count": 9,
   "id": "cd49fde8",
   "metadata": {
    "deletable": false,
    "editable": false
   },
   "outputs": [
    {
     "data": {
      "text/html": [
       "<p><strong><pre style='display: inline;'>task_03</pre></strong> passed! ✨</p><p><strong><pre style='display: inline;'>task_03 - 1</pre> message:</strong> ✅ at_least_one_green is a numerical value between 0 and 1, inclusive.</p>"
      ],
      "text/plain": [
       "task_03 results: All test cases passed!\n",
       "task_03 - 1 message: ✅ at_least_one_green is a numerical value between 0 and 1, inclusive."
      ]
     },
     "execution_count": 9,
     "metadata": {},
     "output_type": "execute_result"
    }
   ],
   "source": [
    "grader.check(\"task_03\")"
   ]
  },
  {
   "cell_type": "markdown",
   "id": "b4e9e989-f3d8-49e5-9a4b-77be0898aae3",
   "metadata": {},
   "source": [
    "---"
   ]
  },
  {
   "cell_type": "markdown",
   "id": "3458e790-7ec1-4ba5-ba74-6f21ebea2e5d",
   "metadata": {},
   "source": [
    "### Comparing Chances"
   ]
  },
  {
   "cell_type": "markdown",
   "id": "1e67b0c7-bf73-4358-9d2b-8bc2ffa6f481",
   "metadata": {},
   "source": [
    "In each of the following two tasks, two events A and B are described. Answer the question 'Which of the events is more likely?' by choosing from the following three options and setting the variable in the task to the single integer that corresponds to the option you selected.\n",
    "\n",
    "1. Event A is more likely than Event B\n",
    "2. Event B is more likely than Event A\n",
    "3. The two events have the same chance.\n",
    "\n",
    "You should be able to make the choices **without calculation**. Good ways to approach this exercise include imagining carrying out the chance experiments yourself, one trial at a time."
   ]
  },
  {
   "cell_type": "markdown",
   "id": "fa71b05e-c986-4c30-8ceb-ac288a98ee09",
   "metadata": {},
   "source": [
    "---"
   ]
  },
  {
   "cell_type": "markdown",
   "id": "e2e71723-b26f-44b5-b5a6-60a3af0fb1a0",
   "metadata": {
    "tags": []
   },
   "source": [
    "#### Task 04 📍"
   ]
  },
  {
   "cell_type": "markdown",
   "id": "cda1b017-8b4f-4c3e-ba6d-a13950b20d83",
   "metadata": {
    "deletable": false,
    "editable": false
   },
   "source": [
    "A child picks four times at random from a box that has four toy animals: a bear, an elephant, a giraffe, and a kangaroo.\n",
    "\n",
    "- Event A: all four different animals are picked, assuming the child picks without replacement\n",
    "- Event B: all four different animals are picked, assuming the child picks with replacement\n",
    "\n",
    "_Points:_ 2"
   ]
  },
  {
   "cell_type": "code",
   "execution_count": 10,
   "id": "dcfb9231-0f86-42f5-aea7-b2c9740cd567",
   "metadata": {
    "tags": []
   },
   "outputs": [],
   "source": [
    "toys_option = 1"
   ]
  },
  {
   "cell_type": "code",
   "execution_count": 11,
   "id": "a69abab7",
   "metadata": {
    "deletable": false,
    "editable": false
   },
   "outputs": [
    {
     "data": {
      "text/html": [
       "<p><strong><pre style='display: inline;'>task_04</pre></strong> passed! 💯</p><p><strong><pre style='display: inline;'>task_04 - 1</pre> message:</strong> ✅ This is a possible value for toys_option.</p>"
      ],
      "text/plain": [
       "task_04 results: All test cases passed!\n",
       "task_04 - 1 message: ✅ This is a possible value for toys_option."
      ]
     },
     "execution_count": 11,
     "metadata": {},
     "output_type": "execute_result"
    }
   ],
   "source": [
    "grader.check(\"task_04\")"
   ]
  },
  {
   "cell_type": "markdown",
   "id": "7ee31891-c2da-4482-8f07-6da28c30f3e9",
   "metadata": {},
   "source": [
    "---"
   ]
  },
  {
   "cell_type": "markdown",
   "id": "6a0cb3ab-fa56-432f-9d14-37821a0fed07",
   "metadata": {
    "tags": []
   },
   "source": [
    "#### Task 05 📍"
   ]
  },
  {
   "cell_type": "markdown",
   "id": "4f0cd088-9271-4430-bb07-7c9000efa2da",
   "metadata": {
    "deletable": false,
    "editable": false
   },
   "source": [
    "In a lottery, two numbers are drawn at random without replacement from the integers 1 through 1000.\n",
    "\n",
    "- Event A: The number 8 is picked on both draws\n",
    "- Event B: The same number is picked on both draws\n",
    "\n",
    "\n",
    "_Points:_ 2"
   ]
  },
  {
   "cell_type": "code",
   "execution_count": 12,
   "id": "2933f3c9-202d-4b3e-b237-c9ec02c8fe6a",
   "metadata": {
    "tags": []
   },
   "outputs": [],
   "source": [
    "lottery_option = 3"
   ]
  },
  {
   "cell_type": "code",
   "execution_count": 13,
   "id": "5ce98e3d",
   "metadata": {
    "deletable": false,
    "editable": false
   },
   "outputs": [
    {
     "data": {
      "text/html": [
       "<p><strong><pre style='display: inline;'>task_05</pre></strong> passed! ✨</p><p><strong><pre style='display: inline;'>task_05 - 1</pre> message:</strong> ✅ This is a possible value for lottery_option.</p>"
      ],
      "text/plain": [
       "task_05 results: All test cases passed!\n",
       "task_05 - 1 message: ✅ This is a possible value for lottery_option."
      ]
     },
     "execution_count": 13,
     "metadata": {},
     "output_type": "execute_result"
    }
   ],
   "source": [
    "grader.check(\"task_05\")"
   ]
  },
  {
   "cell_type": "markdown",
   "id": "92a1f012-91bd-4064-9db7-d0e4d1b3737d",
   "metadata": {},
   "source": [
    "---"
   ]
  },
  {
   "cell_type": "markdown",
   "id": "7b6ed73a-f716-4677-a71a-e32f36b9f103",
   "metadata": {},
   "source": [
    "## Simulation with Roulette"
   ]
  },
  {
   "cell_type": "markdown",
   "id": "f3346ffe-dbcc-42aa-a3c4-7464769f84ea",
   "metadata": {},
   "source": [
    "---"
   ]
  },
  {
   "cell_type": "markdown",
   "id": "d66c2e23-3c79-4882-b680-23a362e09515",
   "metadata": {},
   "source": [
    "### Betting on Red"
   ]
  },
  {
   "cell_type": "markdown",
   "id": "2102ddc0-15dc-45bb-8186-3a9dcd46f3a5",
   "metadata": {},
   "source": [
    "If you bet on *red*, you are betting that the winning pocket will be red. This bet *pays 1 to 1*. That means if you place a one-dollar bet on red, then:\n",
    "\n",
    "- If the winning pocket is red, you gain 1 dollar. That is, you get your original dollar back, plus one more dollar.\n",
    "- if the winning pocket is not red, you lose your dollar. In other words, you gain -1 dollars.\n",
    "\n",
    "Let's see if you can make money by betting on red at roulette."
   ]
  },
  {
   "cell_type": "markdown",
   "id": "51d9de0f-25d1-4424-b171-b615eccfcbb2",
   "metadata": {},
   "source": [
    "---"
   ]
  },
  {
   "cell_type": "markdown",
   "id": "e3efe6c4-6c51-4c70-8c2a-eaa6b6152fa0",
   "metadata": {
    "deletable": false,
    "editable": false
   },
   "source": [
    "Define a function `dollar_bet_on_red`. The function definition should:\n",
    "1. Have one argument `color` that is a `str` for the name of a color.\n",
    "2. Return your gain in dollars as an `int` if that color had won and you had placed a one-dollar bet on red. \n",
    "\n",
    "Consider the following as you work:\n",
    "* Remember that the gain can be negative.\n",
    "* Make sure your function returns an integer.\n",
    "* You can assume that the only colors that will be passed as arguments are `'red'`, `'black'`, and `'green'`. Your function doesn't have to check that the input is correct.\n",
    "\n",
    "_Points:_ 3"
   ]
  },
  {
   "cell_type": "markdown",
   "id": "2e513a52-52ba-4f9b-8167-0a2d79bfc79a",
   "metadata": {},
   "source": [
    "#### Task 06 📍"
   ]
  },
  {
   "cell_type": "code",
   "execution_count": 14,
   "id": "498bc422-e894-4a20-93e2-5a3d4709a67a",
   "metadata": {
    "tags": []
   },
   "outputs": [
    {
     "data": {
      "text/plain": [
       "-1"
      ]
     },
     "execution_count": 14,
     "metadata": {},
     "output_type": "execute_result"
    }
   ],
   "source": [
    "def dollar_bet_on_red(color):\n",
    "    if color == 'red':\n",
    "        return 1\n",
    "    elif color == 'black':\n",
    "        return -1\n",
    "    elif color == 'green':\n",
    "        return -1\n",
    "\n",
    "dollar_bet_on_red('black')"
   ]
  },
  {
   "cell_type": "code",
   "execution_count": 15,
   "id": "e156f359",
   "metadata": {
    "deletable": false,
    "editable": false
   },
   "outputs": [
    {
     "data": {
      "text/html": [
       "<p><strong><pre style='display: inline;'>task_06</pre></strong> passed! 🌟</p><p><strong><pre style='display: inline;'>task_06 - 1</pre> message:</strong> ✅ Your function correctly returns 1 when it is called on 'red'.</p>"
      ],
      "text/plain": [
       "task_06 results: All test cases passed!\n",
       "task_06 - 1 message: ✅ Your function correctly returns 1 when it is called on 'red'."
      ]
     },
     "execution_count": 15,
     "metadata": {},
     "output_type": "execute_result"
    }
   ],
   "source": [
    "grader.check(\"task_06\")"
   ]
  },
  {
   "cell_type": "markdown",
   "id": "e0118580-6576-4fc8-a84e-1c0a7aff05f4",
   "metadata": {},
   "source": [
    "Run the cell below to make sure your function is working."
   ]
  },
  {
   "cell_type": "code",
   "execution_count": 16,
   "id": "53e2e77a-e840-4845-8033-c322b39535f3",
   "metadata": {},
   "outputs": [
    {
     "name": "stdout",
     "output_type": "stream",
     "text": [
      "-1\n",
      "-1\n",
      "1\n"
     ]
    }
   ],
   "source": [
    "print(dollar_bet_on_red('green'))\n",
    "print(dollar_bet_on_red('black'))\n",
    "print(dollar_bet_on_red('red'))"
   ]
  },
  {
   "cell_type": "markdown",
   "id": "9860278e-6de0-4962-ad51-9e039b7fdcdd",
   "metadata": {},
   "source": [
    "---"
   ]
  },
  {
   "cell_type": "markdown",
   "id": "d3db89aa-22a2-45d0-ad69-6cffbae87e19",
   "metadata": {
    "tags": []
   },
   "source": [
    "#### Task 07 📍"
   ]
  },
  {
   "cell_type": "markdown",
   "id": "0ce64958-1608-42fd-8b76-e6cb3feb6816",
   "metadata": {
    "deletable": false,
    "editable": false
   },
   "source": [
    "1. Add a column labeled `'Winnings: Red'` as the last column in the table `wheel` such that, for each pocket, the column should contain your gain in dollars if that pocket won and you had bet one dollar on red. \n",
    "2. Your code should apply the function `dollar_bet_on_red` on the `wheel` table to create an array `red_winnings`.\n",
    "\n",
    "_Points:_ 3"
   ]
  },
  {
   "cell_type": "code",
   "execution_count": 17,
   "id": "3b60530b-e233-49a8-a0c7-4c9b89a5b20b",
   "metadata": {
    "tags": []
   },
   "outputs": [
    {
     "data": {
      "text/html": [
       "<table border=\"1\" class=\"dataframe\">\n",
       "    <thead>\n",
       "        <tr>\n",
       "            <th>Pocket</th> <th>Color</th> <th>Winnings: Red</th>\n",
       "        </tr>\n",
       "    </thead>\n",
       "    <tbody>\n",
       "        <tr>\n",
       "            <td>00    </td> <td>green</td> <td>-1           </td>\n",
       "        </tr>\n",
       "        <tr>\n",
       "            <td>0     </td> <td>green</td> <td>-1           </td>\n",
       "        </tr>\n",
       "        <tr>\n",
       "            <td>1     </td> <td>red  </td> <td>1            </td>\n",
       "        </tr>\n",
       "        <tr>\n",
       "            <td>2     </td> <td>black</td> <td>-1           </td>\n",
       "        </tr>\n",
       "        <tr>\n",
       "            <td>3     </td> <td>red  </td> <td>1            </td>\n",
       "        </tr>\n",
       "        <tr>\n",
       "            <td>4     </td> <td>black</td> <td>-1           </td>\n",
       "        </tr>\n",
       "        <tr>\n",
       "            <td>5     </td> <td>red  </td> <td>1            </td>\n",
       "        </tr>\n",
       "        <tr>\n",
       "            <td>6     </td> <td>black</td> <td>-1           </td>\n",
       "        </tr>\n",
       "        <tr>\n",
       "            <td>7     </td> <td>red  </td> <td>1            </td>\n",
       "        </tr>\n",
       "        <tr>\n",
       "            <td>8     </td> <td>black</td> <td>-1           </td>\n",
       "        </tr>\n",
       "    </tbody>\n",
       "</table>\n",
       "<p>... (28 rows omitted)</p>"
      ],
      "text/plain": [
       "Pocket | Color | Winnings: Red\n",
       "00     | green | -1\n",
       "0      | green | -1\n",
       "1      | red   | 1\n",
       "2      | black | -1\n",
       "3      | red   | 1\n",
       "4      | black | -1\n",
       "5      | red   | 1\n",
       "6      | black | -1\n",
       "7      | red   | 1\n",
       "8      | black | -1\n",
       "... (28 rows omitted)"
      ]
     },
     "execution_count": 17,
     "metadata": {},
     "output_type": "execute_result"
    }
   ],
   "source": [
    "red_winnings = wheel.apply(dollar_bet_on_red,\"Color\")\n",
    "wheel = wheel.with_column(\"Winnings: Red\", red_winnings)\n",
    "wheel"
   ]
  },
  {
   "cell_type": "code",
   "execution_count": 18,
   "id": "f1a8f5c9",
   "metadata": {
    "deletable": false,
    "editable": false
   },
   "outputs": [
    {
     "data": {
      "text/html": [
       "<p><strong><pre style='display: inline;'>task_07</pre></strong> passed! 🙌</p><p><strong><pre style='display: inline;'>task_07 - 1</pre> message:</strong> ✅ It seems that red_winnings is an array.</p><p><strong><pre style='display: inline;'>task_07 - 2</pre> message:</strong> ✅ wheel is a table with the correct labels.</p>"
      ],
      "text/plain": [
       "task_07 results: All test cases passed!\n",
       "task_07 - 1 message: ✅ It seems that red_winnings is an array.\n",
       "task_07 - 2 message: ✅ wheel is a table with the correct labels."
      ]
     },
     "execution_count": 18,
     "metadata": {},
     "output_type": "execute_result"
    }
   ],
   "source": [
    "grader.check(\"task_07\")"
   ]
  },
  {
   "cell_type": "markdown",
   "id": "aa743cda-5244-409c-9d35-02fa0d1f943f",
   "metadata": {},
   "source": [
    "---"
   ]
  },
  {
   "cell_type": "markdown",
   "id": "8bfebaf4-286b-4902-bc0a-f18744e93c10",
   "metadata": {},
   "source": [
    "### Simulating 10 Bets on Red"
   ]
  },
  {
   "cell_type": "markdown",
   "id": "71e01e3e-1b36-4b8d-9ac2-57665185572a",
   "metadata": {},
   "source": [
    "Roulette wheels are set up so that each time they are spun, the winning pocket is equally likely to be any of the 38 pockets regardless of the results of all other spins. Let's see what would happen if we decided to bet one dollar on red each round."
   ]
  },
  {
   "cell_type": "markdown",
   "id": "c17b16de-f243-49d9-96dc-1074bea828b4",
   "metadata": {},
   "source": [
    "---"
   ]
  },
  {
   "cell_type": "markdown",
   "id": "916e2722-56db-4f89-acf2-c0c75b92fb86",
   "metadata": {},
   "source": [
    "#### Task 08 📍"
   ]
  },
  {
   "cell_type": "markdown",
   "id": "7ae0b689-97ec-4340-8159-09cf029f28fd",
   "metadata": {
    "deletable": false,
    "editable": false
   },
   "source": [
    "1. Create a table `ten_bets` by sampling the table `wheel` to simulate 10 spins of the roulette wheel. \n",
    "2. Your table should have the same three column labels as in `wheel`. \n",
    "3. Once you've created that table, set `sum_bets` to your net gain, an integer, in all 10 bets, assuming that you bet one dollar on red each time.\n",
    "\n",
    "While you are working on this, it may be helpful to print out `ten_bets` after you create it!\n",
    "\n",
    "_Points:_ 5"
   ]
  },
  {
   "cell_type": "code",
   "execution_count": 19,
   "id": "3b8dc3ab-5e26-430a-9689-50f512bba71b",
   "metadata": {
    "tags": []
   },
   "outputs": [
    {
     "data": {
      "text/plain": [
       "2"
      ]
     },
     "execution_count": 19,
     "metadata": {},
     "output_type": "execute_result"
    }
   ],
   "source": [
    "ten_bets = wheel.sample(10)\n",
    "sum_bets = np.sum(ten_bets.column('Winnings: Red'))\n",
    "sum_bets"
   ]
  },
  {
   "cell_type": "code",
   "execution_count": 20,
   "id": "7b29d881",
   "metadata": {
    "deletable": false,
    "editable": false
   },
   "outputs": [
    {
     "data": {
      "text/html": [
       "<p><strong><pre style='display: inline;'>task_08</pre></strong> passed! 🚀</p><p><strong><pre style='display: inline;'>task_08 - 1</pre> message:</strong> ✅ ten_bets has 10 rows.</p><p><strong><pre style='display: inline;'>task_08 - 2</pre> message:</strong> ✅ ten_bets has the same column labels as wheels.</p><p><strong><pre style='display: inline;'>task_08 - 3</pre> message:</strong> ✅ sum_bets is an integer.</p>"
      ],
      "text/plain": [
       "task_08 results: All test cases passed!\n",
       "task_08 - 1 message: ✅ ten_bets has 10 rows.\n",
       "task_08 - 2 message: ✅ ten_bets has the same column labels as wheels.\n",
       "task_08 - 3 message: ✅ sum_bets is an integer."
      ]
     },
     "execution_count": 20,
     "metadata": {},
     "output_type": "execute_result"
    }
   ],
   "source": [
    "grader.check(\"task_08\")"
   ]
  },
  {
   "cell_type": "markdown",
   "id": "3589a98e-941c-487a-9dba-398d0fa5895f",
   "metadata": {},
   "source": [
    "Run the cells above a few times to see how much money you would make if you made 10 one-dollar bets on red. Making a negative amount of money doesn't feel good, but it is a reality in gambling. Casinos are a business, and they make money when gamblers lose."
   ]
  },
  {
   "cell_type": "markdown",
   "id": "c348bb79-22c6-4ca0-822a-154808d52956",
   "metadata": {},
   "source": [
    "---"
   ]
  },
  {
   "cell_type": "markdown",
   "id": "b9c5241c-0ce1-45a2-8063-f46214119b04",
   "metadata": {},
   "source": [
    "#### Task 09 📍"
   ]
  },
  {
   "cell_type": "markdown",
   "id": "9f73c741-ec93-480b-bce1-41ca8ff0d181",
   "metadata": {
    "deletable": false,
    "editable": false
   },
   "source": [
    "Let's see what would happen if you made more bets. \n",
    "\n",
    "Define a function `net_gain_red` with one argument that takes the number of bets (an integer) and returns the net gain in that number of one-dollar bets on red (an integer).\n",
    "\n",
    "Reference the `wheel` table that you've defined in the notebook within your function.\n",
    "\n",
    "_Points:_ 2"
   ]
  },
  {
   "cell_type": "code",
   "execution_count": 21,
   "id": "26856c32-03e1-4de3-ac0c-a5c784a36bbf",
   "metadata": {
    "tags": []
   },
   "outputs": [
    {
     "data": {
      "text/plain": [
       "-4"
      ]
     },
     "execution_count": 21,
     "metadata": {},
     "output_type": "execute_result"
    }
   ],
   "source": [
    "def net_gain_red(n):\n",
    "    n_bets = wheel.sample(n)\n",
    "    return(np.sum(n_bets.column('Winnings: Red')))\n",
    "    \n",
    "net_gain_red(10)"
   ]
  },
  {
   "cell_type": "code",
   "execution_count": 22,
   "id": "d68c97ca",
   "metadata": {
    "deletable": false,
    "editable": false
   },
   "outputs": [
    {
     "data": {
      "text/html": [
       "<p><strong><pre style='display: inline;'>task_09</pre></strong> passed! 🍀</p><p><strong><pre style='display: inline;'>task_09 - 1</pre> message:</strong> ✅ There is essentially no chance that the net gain for 2 rounds of 10,000 bets should the same.</p>"
      ],
      "text/plain": [
       "task_09 results: All test cases passed!\n",
       "task_09 - 1 message: ✅ There is essentially no chance that the net gain for 2 rounds of 10,000 bets should the same."
      ]
     },
     "execution_count": 22,
     "metadata": {},
     "output_type": "execute_result"
    }
   ],
   "source": [
    "grader.check(\"task_09\")"
   ]
  },
  {
   "cell_type": "markdown",
   "id": "48f5b48d-acf5-4ecb-afb2-18a24d163024",
   "metadata": {},
   "source": [
    "---"
   ]
  },
  {
   "cell_type": "markdown",
   "id": "8314117b-c2ff-46a9-848f-f0a45bcdae2e",
   "metadata": {},
   "source": [
    "#### Task 10 📍"
   ]
  },
  {
   "cell_type": "markdown",
   "id": "a624bb20-64c2-43f2-a0dd-71bfea681c75",
   "metadata": {
    "deletable": false,
    "editable": false
   },
   "source": [
    "1. Complete the cell below to simulate the net gain in 200 one-dollar bets on red, repeating the process 10,000 times. \n",
    "2. After the cell is run, `all_gains_red` should be an array with 10,000 entries, each of which is the net gain in 200 one-dollar bets on red.\n",
    "\n",
    "_Points:_ 2"
   ]
  },
  {
   "cell_type": "code",
   "execution_count": 23,
   "id": "4c9cd7c7-9a9a-4c2f-b77e-f4d567d09122",
   "metadata": {
    "tags": []
   },
   "outputs": [
    {
     "data": {
      "text/plain": [
       "10000"
      ]
     },
     "execution_count": 23,
     "metadata": {},
     "output_type": "execute_result"
    }
   ],
   "source": [
    "num_bets = 200\n",
    "repetitions = 10000\n",
    "\n",
    "all_gains_red = make_array()\n",
    "for i in np.arange(repetitions):\n",
    "    outcome = net_gain_red(num_bets)\n",
    "    all_gains_red = np.append (all_gains_red, outcome)\n",
    "\n",
    "len(all_gains_red) # Do not change this line! Check that all_gains_red is length 10000."
   ]
  },
  {
   "cell_type": "code",
   "execution_count": 24,
   "id": "f7fc3edf",
   "metadata": {
    "deletable": false,
    "editable": false
   },
   "outputs": [
    {
     "data": {
      "text/html": [
       "<p><strong><pre style='display: inline;'>task_10</pre></strong> passed! 💯</p><p><strong><pre style='display: inline;'>task_10 - 1</pre> message:</strong> ✅ all_gains_red is an array with 10,000 items.</p>"
      ],
      "text/plain": [
       "task_10 results: All test cases passed!\n",
       "task_10 - 1 message: ✅ all_gains_red is an array with 10,000 items."
      ]
     },
     "execution_count": 24,
     "metadata": {},
     "output_type": "execute_result"
    }
   ],
   "source": [
    "grader.check(\"task_10\")"
   ]
  },
  {
   "cell_type": "markdown",
   "id": "d186db54-8619-4c9b-8d07-c3c3e4243005",
   "metadata": {
    "tags": []
   },
   "source": [
    "Run the cell below to visualize the results of your simulation."
   ]
  },
  {
   "cell_type": "code",
   "execution_count": 25,
   "id": "c89b365e-70da-448d-a983-879aad34e1f8",
   "metadata": {},
   "outputs": [
    {
     "data": {
      "image/png": "[encoded data removed]",
      "text/plain": [
       "<Figure size 600x400 with 1 Axes>"
      ]
     },
     "metadata": {},
     "output_type": "display_data"
    }
   ],
   "source": [
    "gains = Table().with_columns('Net Gain on Red', all_gains_red)\n",
    "gains.hist(bins = np.arange(-80, 41, 4))"
   ]
  },
  {
   "cell_type": "markdown",
   "id": "6dd31e16-a769-4888-8cf2-f2bc07671505",
   "metadata": {},
   "source": [
    "---"
   ]
  },
  {
   "cell_type": "markdown",
   "id": "98ffed90-9141-4550-a43a-c78a8b51cb88",
   "metadata": {},
   "source": [
    "#### Task 11 📍"
   ]
  },
  {
   "cell_type": "markdown",
   "id": "a65866e6-48c4-49e5-99ce-012b94144c46",
   "metadata": {
    "deletable": false,
    "editable": false
   },
   "source": [
    "Using the histogram above, decide whether the following statement is true or false:\n",
    "\n",
    ">If you make 200 one-dollar bets on red, your chance of losing money is more than 50%.\n",
    "\n",
    "Assign `loss_more_than_50` to either `True` or `False` depending on your answer to the question.\n",
    "\n",
    "_Points:_ 2"
   ]
  },
  {
   "cell_type": "code",
   "execution_count": 26,
   "id": "316cab93-8b17-42dc-9710-6ca7f4a0553d",
   "metadata": {
    "tags": []
   },
   "outputs": [],
   "source": [
    "loss_more_than_50 = True"
   ]
  },
  {
   "cell_type": "code",
   "execution_count": 27,
   "id": "0a59a92a",
   "metadata": {
    "deletable": false,
    "editable": false
   },
   "outputs": [
    {
     "data": {
      "text/html": [
       "<p><strong><pre style='display: inline;'>task_11</pre></strong> passed! 🍀</p><p><strong><pre style='display: inline;'>task_11 - 1</pre> message:</strong> ✅ loss_more_than_50 is a bool value.</p>"
      ],
      "text/plain": [
       "task_11 results: All test cases passed!\n",
       "task_11 - 1 message: ✅ loss_more_than_50 is a bool value."
      ]
     },
     "execution_count": 27,
     "metadata": {},
     "output_type": "execute_result"
    }
   ],
   "source": [
    "grader.check(\"task_11\")"
   ]
  },
  {
   "cell_type": "markdown",
   "id": "c106c271-17cd-46eb-8fa1-72375b32eeed",
   "metadata": {},
   "source": [
    "---"
   ]
  },
  {
   "cell_type": "markdown",
   "id": "811cea6f-3c9a-434a-ba9f-296e68d8aa34",
   "metadata": {},
   "source": [
    "### Betting on a Split"
   ]
  },
  {
   "cell_type": "markdown",
   "id": "0df2bf4f-5d77-4282-9439-5a3921af6018",
   "metadata": {},
   "source": [
    "If betting on red doesn't seem like a good idea, maybe a gambler might want to try a different bet. A bet on a *split* is a bet on two consecutive numbers such as 5 and 6. This bets pays 17 to 1. That means if you place a one-dollar bet on the split 5 and 6, then:\n",
    "\n",
    "- If the winning pocket is either 5 or 6, your gain is 17 dollars.\n",
    "- If any other pocket wins, you lose your dollar, so your gain is -1 dollars."
   ]
  },
  {
   "cell_type": "markdown",
   "id": "71c60db4-d1f6-4a6a-96a5-250f924c77fa",
   "metadata": {},
   "source": [
    "---"
   ]
  },
  {
   "cell_type": "markdown",
   "id": "28b528cc-cd79-4b9f-8b5d-543f0c33830f",
   "metadata": {},
   "source": [
    "#### Task 12 📍"
   ]
  },
  {
   "cell_type": "markdown",
   "id": "fa605155-ff01-4de1-9240-7fe61b7e96d0",
   "metadata": {
    "deletable": false,
    "editable": false
   },
   "source": [
    "Define a function `dollar_bet_on_5_6_split`.\n",
    "1. The function should have 1 argument (type `str`) that represents the pocket number\n",
    "2. The function should return the gain in dollars if that pocket won and they had bet one dollar on the 5-6 split.\n",
    "\n",
    "Remember that the pockets are represented as strings.\n",
    "\n",
    "_Points:_ 4"
   ]
  },
  {
   "cell_type": "code",
   "execution_count": 28,
   "id": "b5a492e4-1fa0-4740-96d0-7ace320b04b5",
   "metadata": {
    "tags": []
   },
   "outputs": [],
   "source": [
    "def dollar_bet_on_5_6_split(pocket):\n",
    "    if pocket == '5':\n",
    "        return 17 \n",
    "    elif pocket == '6':\n",
    "        return 17\n",
    "    else:\n",
    "        return -1  "
   ]
  },
  {
   "cell_type": "code",
   "execution_count": 29,
   "id": "768e94a1",
   "metadata": {
    "deletable": false,
    "editable": false
   },
   "outputs": [
    {
     "data": {
      "text/html": [
       "<p><strong><pre style='display: inline;'>task_12</pre></strong> passed! 🌈</p><p><strong><pre style='display: inline;'>task_12 - 1</pre> message:</strong> ✅ Your function returned the correct value for the 5 pocket.</p><p><strong><pre style='display: inline;'>task_12 - 2</pre> message:</strong> ✅ Your function returned the correct value for the 00 pocket.</p>"
      ],
      "text/plain": [
       "task_12 results: All test cases passed!\n",
       "task_12 - 1 message: ✅ Your function returned the correct value for the 5 pocket.\n",
       "task_12 - 2 message: ✅ Your function returned the correct value for the 00 pocket."
      ]
     },
     "execution_count": 29,
     "metadata": {},
     "output_type": "execute_result"
    }
   ],
   "source": [
    "grader.check(\"task_12\")"
   ]
  },
  {
   "cell_type": "markdown",
   "id": "f881ede7-b6e2-4ab3-a19f-5e9dfcea3444",
   "metadata": {},
   "source": [
    "Run the cell below to check that your function is doing what it should."
   ]
  },
  {
   "cell_type": "code",
   "execution_count": 30,
   "id": "fe2b92be-518d-4ffc-ab2a-323d48a16c60",
   "metadata": {},
   "outputs": [
    {
     "name": "stdout",
     "output_type": "stream",
     "text": [
      "17\n",
      "17\n",
      "-1\n",
      "-1\n"
     ]
    }
   ],
   "source": [
    "print(dollar_bet_on_5_6_split('5'))\n",
    "print(dollar_bet_on_5_6_split('6'))\n",
    "print(dollar_bet_on_5_6_split('00'))\n",
    "print(dollar_bet_on_5_6_split('23'))"
   ]
  },
  {
   "cell_type": "markdown",
   "id": "a738efb8-f9e3-438e-af6b-a824e60d73b5",
   "metadata": {},
   "source": [
    "---"
   ]
  },
  {
   "cell_type": "markdown",
   "id": "b477f3e1-95a0-46a1-ac70-13f69e2bc48d",
   "metadata": {},
   "source": [
    "#### Task 13 📍"
   ]
  },
  {
   "cell_type": "markdown",
   "id": "c8043812-ab53-472a-a8f1-c35f7c8b94f5",
   "metadata": {
    "deletable": false,
    "editable": false
   },
   "source": [
    "Add a column `'Winnings: 5-6 Split'` to the end of the `wheel` table. For each pocket, the column should contain your gain in dollars if that pocket won and you had bet one dollar on the 5-6 split.\n",
    "\n",
    "_Points:_ 3"
   ]
  },
  {
   "cell_type": "code",
   "execution_count": 31,
   "id": "93b16312-3bdc-46ea-b891-5e04235f9c9a",
   "metadata": {
    "tags": []
   },
   "outputs": [
    {
     "data": {
      "text/html": [
       "<table border=\"1\" class=\"dataframe\">\n",
       "    <thead>\n",
       "        <tr>\n",
       "            <th>Pocket</th> <th>Color</th> <th>Winnings: Red</th> <th>Winnings: 5-6 Split</th>\n",
       "        </tr>\n",
       "    </thead>\n",
       "    <tbody>\n",
       "        <tr>\n",
       "            <td>00    </td> <td>green</td> <td>-1           </td> <td>-1                 </td>\n",
       "        </tr>\n",
       "        <tr>\n",
       "            <td>0     </td> <td>green</td> <td>-1           </td> <td>-1                 </td>\n",
       "        </tr>\n",
       "        <tr>\n",
       "            <td>1     </td> <td>red  </td> <td>1            </td> <td>-1                 </td>\n",
       "        </tr>\n",
       "        <tr>\n",
       "            <td>2     </td> <td>black</td> <td>-1           </td> <td>-1                 </td>\n",
       "        </tr>\n",
       "        <tr>\n",
       "            <td>3     </td> <td>red  </td> <td>1            </td> <td>-1                 </td>\n",
       "        </tr>\n",
       "        <tr>\n",
       "            <td>4     </td> <td>black</td> <td>-1           </td> <td>-1                 </td>\n",
       "        </tr>\n",
       "        <tr>\n",
       "            <td>5     </td> <td>red  </td> <td>1            </td> <td>17                 </td>\n",
       "        </tr>\n",
       "        <tr>\n",
       "            <td>6     </td> <td>black</td> <td>-1           </td> <td>17                 </td>\n",
       "        </tr>\n",
       "        <tr>\n",
       "            <td>7     </td> <td>red  </td> <td>1            </td> <td>-1                 </td>\n",
       "        </tr>\n",
       "        <tr>\n",
       "            <td>8     </td> <td>black</td> <td>-1           </td> <td>-1                 </td>\n",
       "        </tr>\n",
       "    </tbody>\n",
       "</table>\n",
       "<p>... (28 rows omitted)</p>"
      ],
      "text/plain": [
       "Pocket | Color | Winnings: Red | Winnings: 5-6 Split\n",
       "00     | green | -1            | -1\n",
       "0      | green | -1            | -1\n",
       "1      | red   | 1             | -1\n",
       "2      | black | -1            | -1\n",
       "3      | red   | 1             | -1\n",
       "4      | black | -1            | -1\n",
       "5      | red   | 1             | 17\n",
       "6      | black | -1            | 17\n",
       "7      | red   | 1             | -1\n",
       "8      | black | -1            | -1\n",
       "... (28 rows omitted)"
      ]
     },
     "execution_count": 31,
     "metadata": {},
     "output_type": "execute_result"
    }
   ],
   "source": [
    "split_winnings = wheel.apply(dollar_bet_on_5_6_split, 'Pocket')\n",
    "wheel = wheel.with_column('Winnings: 5-6 Split', split_winnings)\n",
    "wheel"
   ]
  },
  {
   "cell_type": "code",
   "execution_count": 32,
   "id": "1a410afb",
   "metadata": {
    "deletable": false,
    "editable": false
   },
   "outputs": [
    {
     "data": {
      "text/html": [
       "<p><strong><pre style='display: inline;'>task_13</pre></strong> passed! 💯</p><p><strong><pre style='display: inline;'>task_13 - 1</pre> message:</strong> ✅ Your last column label is 'Winnings: 5-6 Split'.</p><p><strong><pre style='display: inline;'>task_13 - 2</pre> message:</strong> ✅ The added column value associated with the 5 pocket is correct.</p>"
      ],
      "text/plain": [
       "task_13 results: All test cases passed!\n",
       "task_13 - 1 message: ✅ Your last column label is 'Winnings: 5-6 Split'.\n",
       "task_13 - 2 message: ✅ The added column value associated with the 5 pocket is correct."
      ]
     },
     "execution_count": 32,
     "metadata": {},
     "output_type": "execute_result"
    }
   ],
   "source": [
    "grader.check(\"task_13\")"
   ]
  },
  {
   "cell_type": "markdown",
   "id": "c8267ed2-c542-42b6-9c3b-4eafb9eaab35",
   "metadata": {},
   "source": [
    "---"
   ]
  },
  {
   "cell_type": "markdown",
   "id": "f442e2a4-616c-4222-942a-72a89f99caec",
   "metadata": {},
   "source": [
    "#### Task 14 📍"
   ]
  },
  {
   "cell_type": "markdown",
   "id": "4a74c320-0b84-4977-ae53-eb51557fc6c9",
   "metadata": {
    "deletable": false,
    "editable": false
   },
   "source": [
    "1. Simulate the net gain in 200 one-dollar bets on the 5-6 split.\n",
    "2. Repeat the simulation for a total of 10,000 times.\n",
    "3. Store your gains in the array `all_gains_split`.\n",
    "\n",
    "_Points:_ 2"
   ]
  },
  {
   "cell_type": "code",
   "execution_count": 39,
   "id": "b21da71b-36db-4d7c-bd6d-ae72b7505601",
   "metadata": {},
   "outputs": [
    {
     "data": {
      "text/plain": [
       "-20"
      ]
     },
     "execution_count": 39,
     "metadata": {},
     "output_type": "execute_result"
    }
   ],
   "source": [
    "def net_gain_5_6_split(bet):\n",
    "    outcomes = wheel.sample(bet)\n",
    "    net_gain_5_6 = sum((outcomes).column('Winnings: 5-6 Split'))\n",
    "    return net_gain_5_6\n",
    "\n",
    "net_gain_5_6_split(20)"
   ]
  },
  {
   "cell_type": "code",
   "execution_count": 40,
   "id": "a3e5c5bf-1709-4264-a33a-d88313832d7c",
   "metadata": {
    "tags": []
   },
   "outputs": [
    {
     "data": {
      "image/png": "[encoded data removed]",
      "text/plain": [
       "<Figure size 600x400 with 1 Axes>"
      ]
     },
     "metadata": {},
     "output_type": "display_data"
    }
   ],
   "source": [
    "num_bets=200\n",
    "repetition=10000\n",
    "all_gains_split = make_array()\n",
    "\n",
    "for i in np.arange(repetition):\n",
    "    outcomes = net_gain_5_6_split(num_bets)\n",
    "    all_gains_split = np.append(all_gains_split,outcomes)\n",
    "    \n",
    "\n",
    "# Do not change the two lines below\n",
    "gains = gains.with_columns('Net Gain on Split', all_gains_split)\n",
    "gains.hist(bins = np.arange(-200, 150, 20))"
   ]
  },
  {
   "cell_type": "code",
   "execution_count": 41,
   "id": "7ce6164c",
   "metadata": {
    "deletable": false,
    "editable": false
   },
   "outputs": [
    {
     "data": {
      "text/html": [
       "<p><strong><pre style='display: inline;'>task_14</pre></strong> passed! 🚀</p><p><strong><pre style='display: inline;'>task_14 - 1</pre> message:</strong> ✅ There are 10,000 items in all_gains_split.</p>"
      ],
      "text/plain": [
       "task_14 results: All test cases passed!\n",
       "task_14 - 1 message: ✅ There are 10,000 items in all_gains_split."
      ]
     },
     "execution_count": 41,
     "metadata": {},
     "output_type": "execute_result"
    }
   ],
   "source": [
    "grader.check(\"task_14\")"
   ]
  },
  {
   "cell_type": "markdown",
   "id": "4a136501-96aa-43a5-9c2c-a239c78b2201",
   "metadata": {},
   "source": [
    "---"
   ]
  },
  {
   "cell_type": "markdown",
   "id": "7404e3a5-67b1-4c9d-a7c0-bad7867761bb",
   "metadata": {},
   "source": [
    "#### Task 15 📍"
   ]
  },
  {
   "cell_type": "markdown",
   "id": "f6608d58-f21d-4eb4-a42d-ac2b0b606ea7",
   "metadata": {
    "deletable": false,
    "editable": false
   },
   "source": [
    "Look carefully at the visualization above, and assign `histogram_statements` to an array of the numbers of each statement below that can be correctly inferred from the overlaid histogram.\n",
    "\n",
    "1. If you bet one dollar 200 times on a split, your chance of losing money is more than 50%.\n",
    "2. If you bet one dollar 200 times in roulette, your chance of making more than 50 dollars is greater if you bet on a split each time than if you bet on red each time.\n",
    "3. If you bet one dollar 200 times in roulette, your chance of losing more than 50 dollars is greater if you bet on a split each time than if you bet on red each time.\n",
    "\n",
    "Notice that you've already seen one of these statements in a prior question.\n",
    "\n",
    "_Points:_ 5"
   ]
  },
  {
   "cell_type": "code",
   "execution_count": 72,
   "id": "38d75aa9-1e09-400b-9c3c-ef5354b7e0f1",
   "metadata": {
    "tags": []
   },
   "outputs": [
    {
     "data": {
      "text/plain": [
       "array([1, 2, 3])"
      ]
     },
     "execution_count": 72,
     "metadata": {},
     "output_type": "execute_result"
    }
   ],
   "source": [
    "histogram_statements = make_array(1,2,3)\n",
    "histogram_statements"
   ]
  },
  {
   "cell_type": "code",
   "execution_count": 73,
   "id": "c0c45d46",
   "metadata": {
    "deletable": false,
    "editable": false
   },
   "outputs": [
    {
     "data": {
      "text/html": [
       "<p><strong><pre style='display: inline;'>task_15</pre></strong> passed! 🌟</p><p><strong><pre style='display: inline;'>task_15 - 1</pre> message:</strong> ✅ histogram_statements is an array.</p><p><strong><pre style='display: inline;'>task_15 - 2</pre> message:</strong> ✅ histogram_statements contains at least one integer.</p>"
      ],
      "text/plain": [
       "task_15 results: All test cases passed!\n",
       "task_15 - 1 message: ✅ histogram_statements is an array.\n",
       "task_15 - 2 message: ✅ histogram_statements contains at least one integer."
      ]
     },
     "execution_count": 73,
     "metadata": {},
     "output_type": "execute_result"
    }
   ],
   "source": [
    "grader.check(\"task_15\")"
   ]
  },
  {
   "cell_type": "markdown",
   "id": "0050e9ca-c01a-476d-8da2-25749684f56b",
   "metadata": {},
   "source": [
    "If this exercise has put you off playing roulette, it has done its job. If you are still curious about other bets, [here](https://en.wikipedia.org/wiki/Roulette#Bet_odds_table) they all are, and [here](https://en.wikipedia.org/wiki/Roulette#House_edge) is the bad news. The house – that is, the casino – always has an edge over the gambler."
   ]
  },
  {
   "cell_type": "markdown",
   "id": "e756ebdc-7372-4303-aae6-57885c30d48d",
   "metadata": {},
   "source": [
    "---"
   ]
  },
  {
   "cell_type": "markdown",
   "id": "c5139b10-21ef-4cde-822b-145d0aa761ed",
   "metadata": {},
   "source": [
    "## Submit Your Assignment to Canvas"
   ]
  },
  {
   "cell_type": "markdown",
   "id": "97d4cf38-20fc-48d3-89f3-abf56b1a5d91",
   "metadata": {},
   "source": [
    "Follow these steps to submit your homework assignment:\n",
    "\n",
    "1. **Review the Rubric:** View the rubric on the associated Canvas Assignment page to understand the scoring criteria.\n",
    "2. **Run the Auto-Grader:** Ensure you have executed the code cell containing the command `grader.check_all()` to run all tests for auto-graded tasks marked with 📍. This command will execute all auto-grader tests sequentially.\n",
    "3. **Complete Manually Graded Tasks:** Verify that you have responded to all the manually graded tasks marked with 📍🔎.\n",
    "4. **Save Your Work:** In the notebook's Toolbar, go to `File -> Save Notebook` to save your work and create a checkpoint.\n",
    "5. **Download the Notebook:** In the notebook's Toolbar, go to `File -> Download IPYNB` to download the notebook (`.ipynb`) file.\n",
    "6. **Upload to Canvas:** On the Canvas Assignment page, click \"Start Assignment\" or \"New Attempt\" to upload the downloaded `.ipynb` file."
   ]
  },
  {
   "cell_type": "markdown",
   "id": "9db993be-265e-48da-bc4d-8a773afc203a",
   "metadata": {},
   "source": [
    "---"
   ]
  },
  {
   "cell_type": "markdown",
   "id": "e71dabde-2e60-4e87-8d82-d6ca12e987a5",
   "metadata": {
    "editable": true,
    "slideshow": {
     "slide_type": "notes"
    },
    "tags": []
   },
   "source": [
    "## Attribution"
   ]
  },
  {
   "cell_type": "markdown",
   "id": "039c689c-1632-4c0c-8e53-4d8f6a3f3df3",
   "metadata": {},
   "source": [
    "This content is licensed under the <a href=\"https://creativecommons.org/licenses/by-nc-sa/4.0/\">Creative Commons Attribution-NonCommercial-ShareAlike 4.0 International License (CC BY-NC-SA 4.0)</a> and derived from the <a href=\"https://www.data8.org/\">Data 8: The Foundations of Data Science</a> offered by the University of California, Berkeley.\n",
    "\n",
    "<img src=\"./by-nc-sa.png\" width=100px>"
   ]
  },
  {
   "cell_type": "markdown",
   "id": "953902d0",
   "metadata": {
    "deletable": false,
    "editable": false
   },
   "source": [
    "---\n",
    "\n",
    "To double-check your work, the cell below will rerun all of the autograder tests."
   ]
  },
  {
   "cell_type": "code",
   "execution_count": 64,
   "id": "f8a46dae",
   "metadata": {
    "deletable": false,
    "editable": false
   },
   "outputs": [
    {
     "data": {
      "text/plain": [
       "task_01 results: All test cases passed!\n",
       "task_01 - 1 message: ✅ first_three_black is a numerical value between 0 and 1, inclusive.\n",
       "\n",
       "task_02 results: All test cases passed!\n",
       "task_02 - 1 message: ✅ no_green is a numerical value between 0 and 1, inclusive.\n",
       "\n",
       "task_03 results: All test cases passed!\n",
       "task_03 - 1 message: ✅ at_least_one_green is a numerical value between 0 and 1, inclusive.\n",
       "\n",
       "task_04 results: All test cases passed!\n",
       "task_04 - 1 message: ✅ This is a possible value for toys_option.\n",
       "\n",
       "task_05 results: All test cases passed!\n",
       "task_05 - 1 message: ✅ This is a possible value for lottery_option.\n",
       "\n",
       "task_06 results: All test cases passed!\n",
       "task_06 - 1 message: ✅ Your function correctly returns 1 when it is called on 'red'.\n",
       "\n",
       "task_07 results: All test cases passed!\n",
       "task_07 - 1 message: ✅ It seems that red_winnings is an array.\n",
       "task_07 - 2 message: ✅ wheel is a table with the correct labels.\n",
       "\n",
       "task_08 results: All test cases passed!\n",
       "task_08 - 1 message: ✅ ten_bets has 10 rows.\n",
       "task_08 - 2 message: ✅ ten_bets has the same column labels as wheels.\n",
       "task_08 - 3 message: ✅ sum_bets is an integer.\n",
       "\n",
       "task_09 results: All test cases passed!\n",
       "task_09 - 1 message: ✅ There is essentially no chance that the net gain for 2 rounds of 10,000 bets should the same.\n",
       "\n",
       "task_10 results: All test cases passed!\n",
       "task_10 - 1 message: ✅ all_gains_red is an array with 10,000 items.\n",
       "\n",
       "task_11 results: All test cases passed!\n",
       "task_11 - 1 message: ✅ loss_more_than_50 is a bool value.\n",
       "\n",
       "task_12 results: All test cases passed!\n",
       "task_12 - 1 message: ✅ Your function returned the correct value for the 5 pocket.\n",
       "task_12 - 2 message: ✅ Your function returned the correct value for the 00 pocket.\n",
       "\n",
       "task_13 results: All test cases passed!\n",
       "task_13 - 1 message: ✅ Your last column label is 'Winnings: 5-6 Split'.\n",
       "task_13 - 2 message: ✅ The added column value associated with the 5 pocket is correct.\n",
       "\n",
       "task_14 results: All test cases passed!\n",
       "task_14 - 1 message: ✅ There are 10,000 items in all_gains_split.\n",
       "\n",
       "task_15 results: All test cases passed!\n",
       "task_15 - 1 message: ✅ histogram_statements is an array.\n",
       "task_15 - 2 message: ✅ histogram_statements contains at least one integer."
      ]
     },
     "execution_count": 64,
     "metadata": {},
     "output_type": "execute_result"
    }
   ],
   "source": [
    "grader.check_all()"
   ]
  },
  {
   "cell_type": "code",
   "execution_count": null,
   "id": "5a5f9201-deba-49e9-98f1-b392ba73f7f3",
   "metadata": {},
   "outputs": [],
   "source": []
  }
 ],
 "metadata": {
  "kernelspec": {
   "display_name": "Python 3 (ipykernel)",
   "language": "python",
   "name": "python3"
  },
  "language_info": {
   "codemirror_mode": {
    "name": "ipython",
    "version": 3
   },
   "file_extension": ".py",
   "mimetype": "text/x-python",
   "name": "python",
   "nbconvert_exporter": "python",
   "pygments_lexer": "ipython3",
   "version": "3.11.9"
  },
  "otter": {
   "OK_FORMAT": true,
   "assignment_name": "hw06_fa24",
   "tests": {
    "task_01": {
     "name": "task_01",
     "points": 2,
     "suites": [
      {
       "cases": [
        {
         "code": ">>> 0 <= first_three_black <= 1\nTrue",
         "failure_message": "❌ first_three_black should be a numerical value between 0 and 1, inclusive.",
         "hidden": false,
         "locked": false,
         "points": 1,
         "success_message": "✅ first_three_black is a numerical value between 0 and 1, inclusive."
        }
       ],
       "scored": true,
       "setup": "",
       "teardown": "",
       "type": "doctest"
      }
     ]
    },
    "task_02": {
     "name": "task_02",
     "points": 2,
     "suites": [
      {
       "cases": [
        {
         "code": ">>> 0 <= no_green <= 1\nTrue",
         "failure_message": "❌ no_green should be a numerical value between 0 and 1, inclusive.",
         "hidden": false,
         "locked": false,
         "points": 1,
         "success_message": "✅ no_green is a numerical value between 0 and 1, inclusive."
        }
       ],
       "scored": true,
       "setup": "",
       "teardown": "",
       "type": "doctest"
      }
     ]
    },
    "task_03": {
     "name": "task_03",
     "points": 2,
     "suites": [
      {
       "cases": [
        {
         "code": ">>> 0 <= at_least_one_green <= 1\nTrue",
         "failure_message": "❌ at_least_one_green should be a numerical value between 0 and 1, inclusive.",
         "hidden": false,
         "locked": false,
         "points": 1,
         "success_message": "✅ at_least_one_green is a numerical value between 0 and 1, inclusive."
        }
       ],
       "scored": true,
       "setup": "",
       "teardown": "",
       "type": "doctest"
      }
     ]
    },
    "task_04": {
     "name": "task_04",
     "points": 2,
     "suites": [
      {
       "cases": [
        {
         "code": ">>> toys_option in [1, 2, 3]\nTrue",
         "failure_message": "❌ 1, 2, or 3 should be assigned to toys_option.",
         "hidden": false,
         "locked": false,
         "points": 1,
         "success_message": "✅ This is a possible value for toys_option."
        }
       ],
       "scored": true,
       "setup": "",
       "teardown": "",
       "type": "doctest"
      }
     ]
    },
    "task_05": {
     "name": "task_05",
     "points": 2,
     "suites": [
      {
       "cases": [
        {
         "code": ">>> lottery_option in [1, 2, 3]\nTrue",
         "failure_message": "❌ 1, 2, or 3 should be assigned to lottery_option.",
         "hidden": false,
         "locked": false,
         "points": 1,
         "success_message": "✅ This is a possible value for lottery_option."
        }
       ],
       "scored": true,
       "setup": "",
       "teardown": "",
       "type": "doctest"
      }
     ]
    },
    "task_06": {
     "name": "task_06",
     "points": 3,
     "suites": [
      {
       "cases": [
        {
         "code": ">>> dollar_bet_on_red('red') == 1\nTrue",
         "failure_message": "❌ Your function should return 1 when it is called on 'red'.",
         "hidden": false,
         "locked": false,
         "points": 1,
         "success_message": "✅ Your function correctly returns 1 when it is called on 'red'."
        }
       ],
       "scored": true,
       "setup": "",
       "teardown": "",
       "type": "doctest"
      }
     ]
    },
    "task_07": {
     "name": "task_07",
     "points": 3,
     "suites": [
      {
       "cases": [
        {
         "code": ">>> isinstance(red_winnings, np.ndarray)\nTrue",
         "failure_message": "❌ red_winnings should be an array.",
         "hidden": false,
         "locked": false,
         "points": 1,
         "success_message": "✅ It seems that red_winnings is an array."
        },
        {
         "code": ">>> wheel.labels[2] == 'Winnings: Red'\nTrue",
         "failure_message": "❌ wheel is not a table with the correct labels.",
         "hidden": false,
         "locked": false,
         "points": 1,
         "success_message": "✅ wheel is a table with the correct labels."
        }
       ],
       "scored": true,
       "setup": "",
       "teardown": "",
       "type": "doctest"
      }
     ]
    },
    "task_08": {
     "name": "task_08",
     "points": 5,
     "suites": [
      {
       "cases": [
        {
         "code": ">>> ten_bets.num_rows == 10\nTrue",
         "failure_message": "❌ ten_bets should have 10 rows.",
         "hidden": false,
         "locked": false,
         "points": 1,
         "success_message": "✅ ten_bets has 10 rows."
        },
        {
         "code": ">>> set(['Pocket', 'Color', 'Winnings: Red']) == set(ten_bets.labels)\nTrue",
         "failure_message": "❌ ten_bets should have the same column labels as wheels.",
         "hidden": false,
         "locked": false,
         "points": 1,
         "success_message": "✅ ten_bets has the same column labels as wheels."
        },
        {
         "code": ">>> isinstance(sum_bets, int) or isinstance(sum_bets, np.int64)\nTrue",
         "failure_message": "❌ sum_bets should be an integer.",
         "hidden": false,
         "locked": false,
         "points": 1,
         "success_message": "✅ sum_bets is an integer."
        }
       ],
       "scored": true,
       "setup": "",
       "teardown": "",
       "type": "doctest"
      }
     ]
    },
    "task_09": {
     "name": "task_09",
     "points": 2,
     "suites": [
      {
       "cases": [
        {
         "code": ">>> net_gain_red(10000) != net_gain_red(10000)\nTrue",
         "failure_message": "❌ There is essentially no chance that the net gain for 2 rounds of 10,000 bets should the same.",
         "hidden": false,
         "locked": false,
         "points": 1,
         "success_message": "✅ There is essentially no chance that the net gain for 2 rounds of 10,000 bets should the same."
        }
       ],
       "scored": true,
       "setup": "",
       "teardown": "",
       "type": "doctest"
      }
     ]
    },
    "task_10": {
     "name": "task_10",
     "points": 2,
     "suites": [
      {
       "cases": [
        {
         "code": ">>> len(all_gains_red) == 10000\nTrue",
         "failure_message": "❌ all_gains_red should be an array with 10,000 items.",
         "hidden": false,
         "locked": false,
         "points": 1,
         "success_message": "✅ all_gains_red is an array with 10,000 items."
        }
       ],
       "scored": true,
       "setup": "",
       "teardown": "",
       "type": "doctest"
      }
     ]
    },
    "task_11": {
     "name": "task_11",
     "points": 2,
     "suites": [
      {
       "cases": [
        {
         "code": ">>> isinstance(loss_more_than_50, bool)\nTrue",
         "failure_message": "❌ loss_more_than_50 should be a bool value.",
         "hidden": false,
         "locked": false,
         "points": 1,
         "success_message": "✅ loss_more_than_50 is a bool value."
        }
       ],
       "scored": true,
       "setup": "",
       "teardown": "",
       "type": "doctest"
      }
     ]
    },
    "task_12": {
     "name": "task_12",
     "points": 4,
     "suites": [
      {
       "cases": [
        {
         "code": ">>> dollar_bet_on_5_6_split('5') == 17\nTrue",
         "failure_message": "❌ Your function didn't return the correct value for the 5 pocket.",
         "hidden": false,
         "locked": false,
         "points": 1,
         "success_message": "✅ Your function returned the correct value for the 5 pocket."
        },
        {
         "code": ">>> dollar_bet_on_5_6_split('00') == -1\nTrue",
         "failure_message": "❌ Your function didn't return the correct value for the 00 pocket.",
         "hidden": false,
         "locked": false,
         "points": 1,
         "success_message": "✅ Your function returned the correct value for the 00 pocket."
        }
       ],
       "scored": true,
       "setup": "",
       "teardown": "",
       "type": "doctest"
      }
     ]
    },
    "task_13": {
     "name": "task_13",
     "points": 3,
     "suites": [
      {
       "cases": [
        {
         "code": ">>> wheel.labels[3] == 'Winnings: 5-6 Split'\nTrue",
         "failure_message": "❌ Your last column label should be 'Winnings: 5-6 Split'.",
         "hidden": false,
         "locked": false,
         "points": 1,
         "success_message": "✅ Your last column label is 'Winnings: 5-6 Split'."
        },
        {
         "code": ">>> wheel.where('Pocket', '5').column('Winnings: 5-6 Split').item(0) == 17\nTrue",
         "failure_message": "❌ The added column value associated with the 5 pocket is not correct.",
         "hidden": false,
         "locked": false,
         "points": 1,
         "success_message": "✅ The added column value associated with the 5 pocket is correct."
        }
       ],
       "scored": true,
       "setup": "",
       "teardown": "",
       "type": "doctest"
      }
     ]
    },
    "task_14": {
     "name": "task_14",
     "points": 2,
     "suites": [
      {
       "cases": [
        {
         "code": ">>> len(all_gains_split) == 10000\nTrue",
         "failure_message": "❌ There should be 10,000 items in all_gains_split.",
         "hidden": false,
         "locked": false,
         "points": 1,
         "success_message": "✅ There are 10,000 items in all_gains_split."
        }
       ],
       "scored": true,
       "setup": "",
       "teardown": "",
       "type": "doctest"
      }
     ]
    },
    "task_15": {
     "name": "task_15",
     "points": 5,
     "suites": [
      {
       "cases": [
        {
         "code": ">>> isinstance(histogram_statements, np.ndarray)\nTrue",
         "failure_message": "❌ histogram_statements should be an array.",
         "hidden": false,
         "locked": false,
         "points": 1,
         "success_message": "✅ histogram_statements is an array."
        },
        {
         "code": ">>> isinstance(histogram_statements.item(0), int)\nTrue",
         "failure_message": "❌ histogram_statements should contain at least one integer.",
         "hidden": false,
         "locked": false,
         "points": 1,
         "success_message": "✅ histogram_statements contains at least one integer."
        }
       ],
       "scored": true,
       "setup": "",
       "teardown": "",
       "type": "doctest"
      }
     ]
    }
   }
  }
 },
 "nbformat": 4,
 "nbformat_minor": 5
}
