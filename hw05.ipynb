{
 "cells": [
  {
   "cell_type": "code",
   "execution_count": 2,
   "metadata": {
    "deletable": false,
    "editable": false
   },
   "outputs": [],
   "source": [
    "# Initialize Otter\n",
    "import otter\n",
    "grader = otter.Notebook(\"hw05.ipynb\")"
   ]
  },
  {
   "cell_type": "markdown",
   "metadata": {},
   "source": [
    "<img src=\"./ccsf.png\" alt=\"CCSF Logo\" width=200px style=\"margin:0px -5px\">"
   ]
  },
  {
   "cell_type": "markdown",
   "metadata": {},
   "source": [
    "# Homework 5: Data Analysis"
   ]
  },
  {
   "cell_type": "markdown",
   "metadata": {},
   "source": [
    "## Textbook References"
   ]
  },
  {
   "cell_type": "markdown",
   "metadata": {},
   "source": [
    "* [Chapter 8 - Functions and Tables](https://inferentialthinking.com/chapters/08/Functions_and_Tables.html#) \n",
    "* [`datascience` Documentation](https://datascience.readthedocs.io/)"
   ]
  },
  {
   "cell_type": "markdown",
   "metadata": {},
   "source": [
    "---"
   ]
  },
  {
   "cell_type": "markdown",
   "metadata": {},
   "source": [
    "## Assignment Reminders"
   ]
  },
  {
   "cell_type": "markdown",
   "metadata": {},
   "source": [
    "- 🚨 Make sure to run the code cell at the top of this notebook that starts with `# Initialize Otter` to load the auto-grader.\n",
    "- Your Tasks are categorized as auto-graded (📍) and manually graded (📍🔎).\n",
    "    - For all the auto-graded tasks:\n",
    "        - Replace the `...` in the provided code cell with your own code.\n",
    "        - Run the `grader.check` code cell to run some tests on your code.\n",
    "        - Keep in mind that for homework and project assignments, sometimes there are hidden tests that you will not be able to see the results of that we use for scoring the correctness of your response. **Passing the auto-grader does not guarantee that your answer is correct.**\n",
    "    - For all the manually graded tasks:\n",
    "        - You might need to provide your own response to the provided prompt. Do so by replacing the template text \"_Type your answer here, replacing this text._\" with your own words.\n",
    "        - You might need to produce a graphic or something else using code. Do so by replacing the `...` in the code cell to generate the image, table, etc.\n",
    "        - In either case, review the rubric on the associated <a href=\"https://ccsf.instructure.com\" target=\"_blank\">Canvas</a> Assignment page to understand the scoring criteria.\n",
    "- Throughout this assignment and all future ones, please be sure to not re-assign variables throughout the notebook! _For example, if you use `max_temperature` in your answer to one question, do not reassign it later on. Otherwise, you will fail tests that you thought you were passing previously!_\n",
    "- You may [submit](#Submit-Your-Assignment-to-Canvas) this assignment as many times as you want before the deadline. Your instructor will score the last version you submit once the deadline has passed.\n",
    "- We encourage you to discuss this assignment with others but make sure to write and submit your own code. Refer to the syllabus to learn more about how to learn cooperatively."
   ]
  },
  {
   "cell_type": "markdown",
   "metadata": {},
   "source": [
    "---"
   ]
  },
  {
   "cell_type": "markdown",
   "metadata": {},
   "source": [
    "## Configure the Notebook"
   ]
  },
  {
   "cell_type": "markdown",
   "metadata": {},
   "source": [
    "Run the following cell to configure this Notebook."
   ]
  },
  {
   "cell_type": "code",
   "execution_count": 3,
   "metadata": {
    "tags": []
   },
   "outputs": [],
   "source": [
    "from datascience import *\n",
    "import numpy as np\n",
    "%matplotlib inline\n",
    "import matplotlib.pyplot as plt\n",
    "plt.style.use('fivethirtyeight')"
   ]
  },
  {
   "cell_type": "markdown",
   "metadata": {},
   "source": [
    "---"
   ]
  },
  {
   "cell_type": "markdown",
   "metadata": {},
   "source": [
    "## 🌉 San Francisco City and County Employee Salaries"
   ]
  },
  {
   "cell_type": "markdown",
   "metadata": {},
   "source": [
    "In this homework assignment, you will combine several of the skills and concepts you've learned so far to analyze [Employee Compensation](https://data.sfgov.org/City-Management-and-Ethics/Employee-Compensation/88g8-5mnd) data provided by the SF Controller's Office. We have filtered it to retain just the relevant columns and restricted the data to the fiscal year 2022-2023 (July 1, 2022 - June 30, 2023). \n",
    "\n",
    "The data stored on your account was pulled from [Employee Compensation page](https://data.sfgov.org/City-Management-and-Ethics/Employee-Compensation/88g8-5mnd) at `DataSF.gov` using the API endpoint: \n",
    "\n",
    "`'https://data.sfgov.org/resource/88g8-5mnd.csv?$limit=1000000&year_type=Fiscal&year=2023'`\n",
    "\n",
    "Run the following cell to load that data into a table called `sf`."
   ]
  },
  {
   "cell_type": "code",
   "execution_count": 4,
   "metadata": {},
   "outputs": [
    {
     "data": {
      "text/html": [
       "<table border=\"1\" class=\"dataframe\">\n",
       "    <thead>\n",
       "        <tr>\n",
       "            <th>organization_group_code</th> <th>job_family_code</th> <th>job_code</th> <th>year_type</th> <th>year</th> <th>organization_group</th> <th>department_code</th> <th>department</th> <th>union_code</th> <th>union</th> <th>job_family</th> <th>job</th> <th>employee_identifier</th> <th>salaries</th> <th>overtime</th> <th>other_salaries</th> <th>total_salary</th> <th>retirement</th> <th>health_and_dental</th> <th>other_benefits</th> <th>total_benefits</th> <th>total_compensation</th>\n",
       "        </tr>\n",
       "    </thead>\n",
       "    <tbody>\n",
       "        <tr>\n",
       "            <td>4                      </td> <td>2800           </td> <td>2846    </td> <td>Fiscal   </td> <td>2023</td> <td>Community Health                       </td> <td>DPH            </td> <td>Public Health               </td> <td>21        </td> <td>Prof & Tech Eng, Local 21   </td> <td>Public Health            </td> <td>Nutritionist                </td> <td>52846918           </td> <td>68586.6 </td> <td>0       </td> <td>18226.5       </td> <td>86813.1     </td> <td>12782.7   </td> <td>9007.39          </td> <td>6819.16       </td> <td>28609.2       </td> <td>115422            </td>\n",
       "        </tr>\n",
       "        <tr>\n",
       "            <td>4                      </td> <td>2300           </td> <td>2320    </td> <td>Fiscal   </td> <td>2023</td> <td>Community Health                       </td> <td>DPH            </td> <td>Public Health               </td> <td>791       </td> <td>SEIU, Local 1021, RN        </td> <td>Nursing                  </td> <td>Registered Nurse            </td> <td>50859893           </td> <td>147886  </td> <td>2584.28 </td> <td>12881.8       </td> <td>163352      </td> <td>23099.1   </td> <td>16134.5          </td> <td>10227.7       </td> <td>49461.3       </td> <td>212813            </td>\n",
       "        </tr>\n",
       "        <tr>\n",
       "            <td>4                      </td> <td>2300           </td> <td>2320    </td> <td>Fiscal   </td> <td>2023</td> <td>Community Health                       </td> <td>DPH            </td> <td>Public Health               </td> <td>791       </td> <td>SEIU, Local 1021, RN        </td> <td>Nursing                  </td> <td>Registered Nurse            </td> <td>47356818           </td> <td>0       </td> <td>142.79  </td> <td>0             </td> <td>142.79      </td> <td>0         </td> <td>0                </td> <td>10.95         </td> <td>10.95         </td> <td>153.74            </td>\n",
       "        </tr>\n",
       "        <tr>\n",
       "            <td>4                      </td> <td>2600           </td> <td>2654    </td> <td>Fiscal   </td> <td>2023</td> <td>Community Health                       </td> <td>DPH            </td> <td>Public Health               </td> <td>250       </td> <td>SEIU, Local 1021, Misc      </td> <td>Dietary & Food           </td> <td>Cook                        </td> <td>50850238           </td> <td>86243.6 </td> <td>33036.1 </td> <td>3166.81       </td> <td>122446      </td> <td>16188.5   </td> <td>16796.1          </td> <td>9672.34       </td> <td>42657         </td> <td>165103            </td>\n",
       "        </tr>\n",
       "        <tr>\n",
       "            <td>4                      </td> <td>2300           </td> <td>2322    </td> <td>Fiscal   </td> <td>2023</td> <td>Community Health                       </td> <td>DPH            </td> <td>Public Health               </td> <td>858       </td> <td>Teamsters, Local 856, Spv RN</td> <td>Nursing                  </td> <td>Nurse Manager               </td> <td>50877316           </td> <td>247150  </td> <td>1140.71 </td> <td>2560          </td> <td>250850      </td> <td>44327.7   </td> <td>20737.9          </td> <td>13821         </td> <td>78886.6       </td> <td>329737            </td>\n",
       "        </tr>\n",
       "        <tr>\n",
       "            <td>4                      </td> <td>2300           </td> <td>2320    </td> <td>Fiscal   </td> <td>2023</td> <td>Community Health                       </td> <td>DPH            </td> <td>Public Health               </td> <td>791       </td> <td>SEIU, Local 1021, RN        </td> <td>Nursing                  </td> <td>Registered Nurse            </td> <td>52066865           </td> <td>74860.1 </td> <td>16860.9 </td> <td>13643.7       </td> <td>105365      </td> <td>9115.42   </td> <td>8218.37          </td> <td>1798.2        </td> <td>19132         </td> <td>124497            </td>\n",
       "        </tr>\n",
       "        <tr>\n",
       "            <td>4                      </td> <td>2300           </td> <td>2320    </td> <td>Fiscal   </td> <td>2023</td> <td>Community Health                       </td> <td>DPH            </td> <td>Public Health               </td> <td>791       </td> <td>SEIU, Local 1021, RN        </td> <td>Nursing                  </td> <td>Registered Nurse            </td> <td>50850113           </td> <td>192213  </td> <td>19817.7 </td> <td>26600.3       </td> <td>238631      </td> <td>27330.6   </td> <td>21596            </td> <td>10953.1       </td> <td>59879.8       </td> <td>298511            </td>\n",
       "        </tr>\n",
       "        <tr>\n",
       "            <td>2                      </td> <td>1200           </td> <td>1246    </td> <td>Fiscal   </td> <td>2023</td> <td>Public Works, Transportation & Commerce</td> <td>DBI            </td> <td>Building Inspection         </td> <td>22        </td> <td>Prof & Tech Eng, Local 21   </td> <td>Personnel                </td> <td>Prin Human Resources Analyst</td> <td>54256822           </td> <td>151894  </td> <td>0       </td> <td>0             </td> <td>151894      </td> <td>27058.7   </td> <td>0                </td> <td>12029.7       </td> <td>39088.4       </td> <td>190983            </td>\n",
       "        </tr>\n",
       "        <tr>\n",
       "            <td>1                      </td> <td>8200           </td> <td>8239    </td> <td>Fiscal   </td> <td>2023</td> <td>Public Protection                      </td> <td>DEM            </td> <td>Dept of Emergency Management</td> <td>790       </td> <td>SEIU, Local 1021, Misc      </td> <td>Protection & Apprehension</td> <td>Public SafetyComm Supv      </td> <td>50847867           </td> <td>137352  </td> <td>40134.6 </td> <td>5846.1        </td> <td>183332      </td> <td>26232     </td> <td>16683.1          </td> <td>13126.7       </td> <td>56041.8       </td> <td>239374            </td>\n",
       "        </tr>\n",
       "        <tr>\n",
       "            <td>1                      </td> <td>8200           </td> <td>8239    </td> <td>Fiscal   </td> <td>2023</td> <td>Public Protection                      </td> <td>DEM            </td> <td>Dept of Emergency Management</td> <td>790       </td> <td>SEIU, Local 1021, Misc      </td> <td>Protection & Apprehension</td> <td>Public SafetyComm Supv      </td> <td>50870881           </td> <td>72843.4 </td> <td>2037.07 </td> <td>2311.37       </td> <td>77191.9     </td> <td>13826.2   </td> <td>9196.86          </td> <td>6065.27       </td> <td>29088.3       </td> <td>106280            </td>\n",
       "        </tr>\n",
       "    </tbody>\n",
       "</table>\n",
       "<p>... (41285 rows omitted)</p>"
      ],
      "text/plain": [
       "organization_group_code | job_family_code | job_code | year_type | year | organization_group                      | department_code | department                   | union_code | union                        | job_family                | job                          | employee_identifier | salaries | overtime | other_salaries | total_salary | retirement | health_and_dental | other_benefits | total_benefits | total_compensation\n",
       "4                       | 2800            | 2846     | Fiscal    | 2023 | Community Health                        | DPH             | Public Health                | 21         | Prof & Tech Eng, Local 21    | Public Health             | Nutritionist                 | 52846918            | 68586.6  | 0        | 18226.5        | 86813.1      | 12782.7    | 9007.39           | 6819.16        | 28609.2        | 115422\n",
       "4                       | 2300            | 2320     | Fiscal    | 2023 | Community Health                        | DPH             | Public Health                | 791        | SEIU, Local 1021, RN         | Nursing                   | Registered Nurse             | 50859893            | 147886   | 2584.28  | 12881.8        | 163352       | 23099.1    | 16134.5           | 10227.7        | 49461.3        | 212813\n",
       "4                       | 2300            | 2320     | Fiscal    | 2023 | Community Health                        | DPH             | Public Health                | 791        | SEIU, Local 1021, RN         | Nursing                   | Registered Nurse             | 47356818            | 0        | 142.79   | 0              | 142.79       | 0          | 0                 | 10.95          | 10.95          | 153.74\n",
       "4                       | 2600            | 2654     | Fiscal    | 2023 | Community Health                        | DPH             | Public Health                | 250        | SEIU, Local 1021, Misc       | Dietary & Food            | Cook                         | 50850238            | 86243.6  | 33036.1  | 3166.81        | 122446       | 16188.5    | 16796.1           | 9672.34        | 42657          | 165103\n",
       "4                       | 2300            | 2322     | Fiscal    | 2023 | Community Health                        | DPH             | Public Health                | 858        | Teamsters, Local 856, Spv RN | Nursing                   | Nurse Manager                | 50877316            | 247150   | 1140.71  | 2560           | 250850       | 44327.7    | 20737.9           | 13821          | 78886.6        | 329737\n",
       "4                       | 2300            | 2320     | Fiscal    | 2023 | Community Health                        | DPH             | Public Health                | 791        | SEIU, Local 1021, RN         | Nursing                   | Registered Nurse             | 52066865            | 74860.1  | 16860.9  | 13643.7        | 105365       | 9115.42    | 8218.37           | 1798.2         | 19132          | 124497\n",
       "4                       | 2300            | 2320     | Fiscal    | 2023 | Community Health                        | DPH             | Public Health                | 791        | SEIU, Local 1021, RN         | Nursing                   | Registered Nurse             | 50850113            | 192213   | 19817.7  | 26600.3        | 238631       | 27330.6    | 21596             | 10953.1        | 59879.8        | 298511\n",
       "2                       | 1200            | 1246     | Fiscal    | 2023 | Public Works, Transportation & Commerce | DBI             | Building Inspection          | 22         | Prof & Tech Eng, Local 21    | Personnel                 | Prin Human Resources Analyst | 54256822            | 151894   | 0        | 0              | 151894       | 27058.7    | 0                 | 12029.7        | 39088.4        | 190983\n",
       "1                       | 8200            | 8239     | Fiscal    | 2023 | Public Protection                       | DEM             | Dept of Emergency Management | 790        | SEIU, Local 1021, Misc       | Protection & Apprehension | Public SafetyComm Supv       | 50847867            | 137352   | 40134.6  | 5846.1         | 183332       | 26232      | 16683.1           | 13126.7        | 56041.8        | 239374\n",
       "1                       | 8200            | 8239     | Fiscal    | 2023 | Public Protection                       | DEM             | Dept of Emergency Management | 790        | SEIU, Local 1021, Misc       | Protection & Apprehension | Public SafetyComm Supv       | 50870881            | 72843.4  | 2037.07  | 2311.37        | 77191.9      | 13826.2    | 9196.86           | 6065.27        | 29088.3        | 106280\n",
       "... (41285 rows omitted)"
      ]
     },
     "execution_count": 4,
     "metadata": {},
     "output_type": "execute_result"
    }
   ],
   "source": [
    "# API endpoint: https://data.sfgov.org/resource/88g8-5mnd.csv?$limit=1000000&year_type=Fiscal&year=2023\n",
    "sf = Table.read_table('sf_fy22_23.csv')\n",
    "sf"
   ]
  },
  {
   "cell_type": "markdown",
   "metadata": {},
   "source": [
    "---"
   ]
  },
  {
   "cell_type": "markdown",
   "metadata": {},
   "source": [
    "### 📝 Data Notes"
   ]
  },
  {
   "cell_type": "markdown",
   "metadata": {},
   "source": [
    "* Each line represents an employee's job information such as job family, salary, and benefits.\n",
    "* The San Francisco Controller's Office  provides [a PDF explaining what each variable means](https://data.sfgov.org/api/views/88g8-5mnd/files/OMBVvreoXRjXG6oP4Ts4497dNxt14XlBqB6uIL6cq-o?download=True&filename=N:\\EIS\\DataCoordination\\Metadata%20Spring%20Cleaning\\CON_DataDictionary_Employee-Compensation.pdf).\n",
    "There are a few interesting details in the data set that are explained in the [Employee Compensation FAQ](https://support.datasf.org/help/employee-compensation-faq)\n",
    "    * Employees have been given an employee identifier for this data and is not connected to their actual employee identification.\n",
    "    * An employee can appear on multiple lines\n",
    "    * Rows may have zero dollar amounts\n",
    "    * Adjustments to employee's pay can result in negative dollar amounts"
   ]
  },
  {
   "cell_type": "markdown",
   "metadata": {},
   "source": [
    "---"
   ]
  },
  {
   "cell_type": "markdown",
   "metadata": {},
   "source": [
    "### 🔔 Table Size Warning"
   ]
  },
  {
   "cell_type": "markdown",
   "metadata": {},
   "source": [
    "This table has over 40 thousand rows in it. Just loading the data takes up more memory than most of our data sets so far. This means that you want to be careful with creating too many copies of the table since you have a limited amount of memory. We've set up the assignment, so you can complete the tasks with the provided amount of memory, but you may accidentally crash the kernel by running out of memory.\n",
    "\n",
    "**If your kernel keeps crashing because of running out of memory:**\n",
    "* Make sure you are only running this notebook and all your other kernels are shut down.\n",
    "* Talk with a staff member about things you might be doing that utilize a lot of resources."
   ]
  },
  {
   "cell_type": "markdown",
   "metadata": {},
   "source": [
    "---"
   ]
  },
  {
   "cell_type": "markdown",
   "metadata": {
    "tags": []
   },
   "source": [
    "### Task 01 📍"
   ]
  },
  {
   "cell_type": "markdown",
   "metadata": {
    "deletable": false,
    "editable": false
   },
   "source": [
    "The [Employee Compensation FAQ](https://support.datasf.org/help/employee-compensation-faq) states:\n",
    "> One employee can appear on multiple lines per year if they changed positions and/or departments mid-year, which happens with some frequency.\n",
    "\n",
    "This may or may not be true for this particular fiscal year. There are 41,295 rows in the `sf` table. Determine how many unique employee identifiers there are in the `sf` table to see if there are any employees listed more than once. Assign `num_employee_ids` to the number (`int`) of unique employee identifiers in the `sf` table.\n",
    "\n",
    "*Hint: Consider using the `group` table method.*\n",
    "\n",
    "_Points:_ 2"
   ]
  },
  {
   "cell_type": "code",
   "execution_count": 5,
   "metadata": {
    "tags": []
   },
   "outputs": [
    {
     "data": {
      "text/plain": [
       "41295"
      ]
     },
     "execution_count": 5,
     "metadata": {},
     "output_type": "execute_result"
    }
   ],
   "source": [
    "num_employee_ids = sf.group(\"employee_identifier\").num_rows\n",
    "num_employee_ids"
   ]
  },
  {
   "cell_type": "code",
   "execution_count": 6,
   "metadata": {
    "deletable": false,
    "editable": false
   },
   "outputs": [
    {
     "data": {
      "text/html": [
       "<p><strong><pre style='display: inline;'>task_01</pre></strong> passed! 🙌</p><p><strong><pre style='display: inline;'>task_01 - 1</pre> message:</strong> ✅ num_employee_ids represents an integer.</p>"
      ],
      "text/plain": [
       "task_01 results: All test cases passed!\n",
       "task_01 - 1 message: ✅ num_employee_ids represents an integer."
      ]
     },
     "execution_count": 6,
     "metadata": {},
     "output_type": "execute_result"
    }
   ],
   "source": [
    "grader.check(\"task_01\")"
   ]
  },
  {
   "cell_type": "markdown",
   "metadata": {},
   "source": [
    "---"
   ]
  },
  {
   "cell_type": "markdown",
   "metadata": {},
   "source": [
    "### Task 02 📍🔎"
   ]
  },
  {
   "cell_type": "markdown",
   "metadata": {
    "deletable": false,
    "editable": false
   },
   "source": [
    "<!-- BEGIN QUESTION -->\n",
    "\n",
    "There are a few departments that have a large number of employees. For this task, produce a bar chart that shows the five largest departments in the `sf` table ranked by employee count.\n",
    "\n",
    "_Points:_ 2"
   ]
  },
  {
   "cell_type": "code",
   "execution_count": 7,
   "metadata": {},
   "outputs": [
    {
     "data": {
      "text/html": [
       "<table border=\"1\" class=\"dataframe\">\n",
       "    <thead>\n",
       "        <tr>\n",
       "            <th>department</th> <th>count</th>\n",
       "        </tr>\n",
       "    </thead>\n",
       "    <tbody>\n",
       "        <tr>\n",
       "            <td>Academy Of Sciences    </td> <td>9    </td>\n",
       "        </tr>\n",
       "        <tr>\n",
       "            <td>Administrative Services</td> <td>1145 </td>\n",
       "        </tr>\n",
       "        <tr>\n",
       "            <td>Adult Probation        </td> <td>147  </td>\n",
       "        </tr>\n",
       "        <tr>\n",
       "            <td>Airport Commission     </td> <td>1664 </td>\n",
       "        </tr>\n",
       "        <tr>\n",
       "            <td>Art Commission         </td> <td>56   </td>\n",
       "        </tr>\n",
       "        <tr>\n",
       "            <td>Asian Art Museum       </td> <td>74   </td>\n",
       "        </tr>\n",
       "        <tr>\n",
       "            <td>Assessor               </td> <td>186  </td>\n",
       "        </tr>\n",
       "        <tr>\n",
       "            <td>Board Of Appeals       </td> <td>11   </td>\n",
       "        </tr>\n",
       "        <tr>\n",
       "            <td>Board Of Supervisors   </td> <td>133  </td>\n",
       "        </tr>\n",
       "        <tr>\n",
       "            <td>Building Inspection    </td> <td>306  </td>\n",
       "        </tr>\n",
       "    </tbody>\n",
       "</table>\n",
       "<p>... (42 rows omitted)</p>"
      ],
      "text/plain": [
       "department              | count\n",
       "Academy Of Sciences     | 9\n",
       "Administrative Services | 1145\n",
       "Adult Probation         | 147\n",
       "Airport Commission      | 1664\n",
       "Art Commission          | 56\n",
       "Asian Art Museum        | 74\n",
       "Assessor                | 186\n",
       "Board Of Appeals        | 11\n",
       "Board Of Supervisors    | 133\n",
       "Building Inspection     | 306\n",
       "... (42 rows omitted)"
      ]
     },
     "execution_count": 7,
     "metadata": {},
     "output_type": "execute_result"
    }
   ],
   "source": [
    "sf.group(\"department\")"
   ]
  },
  {
   "cell_type": "code",
   "execution_count": 8,
   "metadata": {
    "tags": []
   },
   "outputs": [
    {
     "data": {
      "image/png": "[encoded data removed]",
      "text/plain": [
       "<Figure size 600x400 with 1 Axes>"
      ]
     },
     "metadata": {},
     "output_type": "display_data"
    }
   ],
   "source": [
    "sf.group(\"department\").sort(\"count\", True).take(np.arange(5)).barh(\"department\")\n",
    "\n",
    "# Leave this to provide a title for your visualization\n",
    "plt.title('Top 5 Departments By Employee Count')\n",
    "plt.show()"
   ]
  },
  {
   "cell_type": "markdown",
   "metadata": {
    "deletable": false,
    "editable": false
   },
   "source": [
    "<!-- END QUESTION -->\n",
    "\n",
    "---"
   ]
  },
  {
   "cell_type": "markdown",
   "metadata": {},
   "source": [
    "### Task 03 📍"
   ]
  },
  {
   "cell_type": "markdown",
   "metadata": {
    "deletable": false,
    "editable": false
   },
   "source": [
    "Some employees for the city and county make a lot of money. Identify the job title that makes the most in terms of total compensation (the sum of salary and benefits).\n",
    "1. Assign the largest total compensation (a `float` value) to `max_compensation`.\n",
    "2. Assign the job title (a `str` value) associated with the highest total compensation to the name `max_compensation_position`.\n",
    "\n",
    "_Points:_ 2"
   ]
  },
  {
   "cell_type": "code",
   "execution_count": 9,
   "metadata": {
    "tags": []
   },
   "outputs": [
    {
     "name": "stdout",
     "output_type": "stream",
     "text": [
      "The largest total compensation is $807,199.97\n",
      "The position associated with this compensation is: Chf Executive & Investment Ofc\n"
     ]
    }
   ],
   "source": [
    "max_compensation = sf.sort(\"total_compensation\", descending=True).column(\"total_compensation\").item(0)\n",
    "max_compensation_position = sf.sort(\"total_compensation\", descending=True).column(\"job\").item(0)\n",
    "print(f\"The largest total compensation is ${max_compensation:,}\")\n",
    "print(f\"The position associated with this compensation is: {max_compensation_position}\")"
   ]
  },
  {
   "cell_type": "code",
   "execution_count": 10,
   "metadata": {
    "deletable": false,
    "editable": false
   },
   "outputs": [
    {
     "data": {
      "text/html": [
       "<p><strong><pre style='display: inline;'>task_03</pre></strong> passed! 🍀</p><p><strong><pre style='display: inline;'>task_03 - 1</pre> message:</strong> ✅ max_compensation represents a float.</p><p><strong><pre style='display: inline;'>task_03 - 2</pre> message:</strong> ✅ max_compensation_position represents a string.</p>"
      ],
      "text/plain": [
       "task_03 results: All test cases passed!\n",
       "task_03 - 1 message: ✅ max_compensation represents a float.\n",
       "task_03 - 2 message: ✅ max_compensation_position represents a string."
      ]
     },
     "execution_count": 10,
     "metadata": {},
     "output_type": "execute_result"
    }
   ],
   "source": [
    "grader.check(\"task_03\")"
   ]
  },
  {
   "cell_type": "markdown",
   "metadata": {},
   "source": [
    "---"
   ]
  },
  {
   "cell_type": "markdown",
   "metadata": {},
   "source": [
    "### Task 04 📍🔎"
   ]
  },
  {
   "cell_type": "markdown",
   "metadata": {
    "deletable": false,
    "editable": false
   },
   "source": [
    "<!-- BEGIN QUESTION -->\n",
    "\n",
    "Next, summarize the distribution of total compensation values so you can compare that large salary with the salaries of the rest of the employees. Specifically, create a histogram showing the distribution of total compensation.\n",
    "* Use the `unit = '$'` argument\n",
    "* Use the default bins.\n",
    "\n",
    "_Points:_ 2"
   ]
  },
  {
   "cell_type": "code",
   "execution_count": 11,
   "metadata": {
    "tags": []
   },
   "outputs": [
    {
     "data": {
      "image/png": "[encoded data removed]",
      "text/plain": [
       "<Figure size 600x400 with 1 Axes>"
      ]
     },
     "metadata": {},
     "output_type": "display_data"
    }
   ],
   "source": [
    "sf.hist(\"total_compensation\", unit = \"$\")\n",
    "\n",
    "# Leave this to provide a title for your visualization\n",
    "plt.title('Total Compensation')\n",
    "plt.show()"
   ]
  },
  {
   "cell_type": "markdown",
   "metadata": {
    "deletable": false,
    "editable": false
   },
   "source": [
    "<!-- END QUESTION -->\n",
    "\n",
    "---"
   ]
  },
  {
   "cell_type": "markdown",
   "metadata": {
    "tags": []
   },
   "source": [
    "### Task 05 📍🔎"
   ]
  },
  {
   "cell_type": "markdown",
   "metadata": {
    "deletable": false,
    "editable": false
   },
   "source": [
    "<!-- BEGIN QUESTION -->\n",
    "\n",
    "In the provided Markdown cell, explain why there seems to be no information visualized on the right side of the histogram created in Task 04. Make sure you connect your response to the `max_compensation` value you calculated.\n",
    "\n",
    "_Points:_ 2"
   ]
  },
  {
   "cell_type": "markdown",
   "metadata": {},
   "source": [
    "The max_compensation that is calculated is: $807,199.97, which is also as very little number in the graph, since there is only one number. The graph says that most of the compensations are at the median range, which is between $0 and $400,000, while most of the values are amounted at close to $200,000. This means the maximum compensation or anything else that is close to this value is very minimal."
   ]
  },
  {
   "cell_type": "markdown",
   "metadata": {
    "deletable": false,
    "editable": false
   },
   "source": [
    "<!-- END QUESTION -->\n",
    "\n",
    "---"
   ]
  },
  {
   "cell_type": "markdown",
   "metadata": {
    "tags": []
   },
   "source": [
    "### Task 06 📍"
   ]
  },
  {
   "cell_type": "markdown",
   "metadata": {
    "deletable": false,
    "editable": false
   },
   "source": [
    "Your goal for this task is to create a table titled `top_5_departments` featuring two columns: `department` listing department names and `total_compensation median` displaying the median total compensation for each department. Once done, the final table should showcase the 5 departments in the data set with the highest median total compensation values.\n",
    "\n",
    "_Points:_ 2.5"
   ]
  },
  {
   "cell_type": "code",
   "execution_count": 12,
   "metadata": {},
   "outputs": [
    {
     "data": {
      "text/html": [
       "<table border=\"1\" class=\"dataframe\">\n",
       "    <thead>\n",
       "        <tr>\n",
       "            <th>department</th> <th>organization_group_code median</th> <th>job_family_code median</th> <th>job_code median</th> <th>year_type median</th> <th>year median</th> <th>organization_group median</th> <th>department_code median</th> <th>union_code median</th> <th>union median</th> <th>job_family median</th> <th>job median</th> <th>employee_identifier median</th> <th>salaries median</th> <th>overtime median</th> <th>other_salaries median</th> <th>total_salary median</th> <th>retirement median</th> <th>health_and_dental median</th> <th>other_benefits median</th> <th>total_benefits median</th> <th>total_compensation median</th>\n",
       "        </tr>\n",
       "    </thead>\n",
       "    <tbody>\n",
       "        <tr>\n",
       "            <td>Academy Of Sciences    </td> <td>5                             </td> <td>                      </td> <td>               </td> <td>                </td> <td>2023       </td> <td>                         </td> <td>                      </td> <td>39               </td> <td>            </td> <td>                 </td> <td>          </td> <td>5.08679e+07               </td> <td>115049         </td> <td>11793.8        </td> <td>12404.4              </td> <td>140343             </td> <td>22758.9          </td> <td>18134                   </td> <td>10866.6              </td> <td>50094.1              </td> <td>190213                   </td>\n",
       "        </tr>\n",
       "        <tr>\n",
       "            <td>Administrative Services</td> <td>6                             </td> <td>                      </td> <td>               </td> <td>                </td> <td>2023       </td> <td>                         </td> <td>                      </td> <td>790              </td> <td>            </td> <td>                 </td> <td>          </td> <td>5.23069e+07               </td> <td>84791.9        </td> <td>0              </td> <td>46.8                 </td> <td>91987.8            </td> <td>15290.4          </td> <td>16263.4                 </td> <td>7100.43              </td> <td>38144.5              </td> <td>128375                   </td>\n",
       "        </tr>\n",
       "        <tr>\n",
       "            <td>Adult Probation        </td> <td>1                             </td> <td>                      </td> <td>               </td> <td>                </td> <td>2023       </td> <td>                         </td> <td>                      </td> <td>651              </td> <td>            </td> <td>                 </td> <td>          </td> <td>5.20968e+07               </td> <td>118306         </td> <td>0              </td> <td>0                    </td> <td>121340             </td> <td>23062.1          </td> <td>18226.2                 </td> <td>2032.66              </td> <td>44044                </td> <td>168317                   </td>\n",
       "        </tr>\n",
       "        <tr>\n",
       "            <td>Airport Commission     </td> <td>2                             </td> <td>                      </td> <td>               </td> <td>                </td> <td>2023       </td> <td>                         </td> <td>                      </td> <td>351              </td> <td>            </td> <td>                 </td> <td>          </td> <td>5.10065e+07               </td> <td>89459.2        </td> <td>428.415        </td> <td>1165.57              </td> <td>98160.1            </td> <td>16566.9          </td> <td>16602.3                 </td> <td>7590.86              </td> <td>39830.9              </td> <td>138155                   </td>\n",
       "        </tr>\n",
       "        <tr>\n",
       "            <td>Art Commission         </td> <td>5                             </td> <td>                      </td> <td>               </td> <td>                </td> <td>2023       </td> <td>                         </td> <td>                      </td> <td>790              </td> <td>            </td> <td>                 </td> <td>          </td> <td>5.23469e+07               </td> <td>85770.6        </td> <td>0              </td> <td>0                    </td> <td>85796.1            </td> <td>14648.9          </td> <td>13572.4                 </td> <td>6555.31              </td> <td>33824.1              </td> <td>114001                   </td>\n",
       "        </tr>\n",
       "        <tr>\n",
       "            <td>Asian Art Museum       </td> <td>5                             </td> <td>                      </td> <td>               </td> <td>                </td> <td>2023       </td> <td>                         </td> <td>                      </td> <td>790              </td> <td>            </td> <td>                 </td> <td>          </td> <td>5.08771e+07               </td> <td>73885.1        </td> <td>177.355        </td> <td>61.855               </td> <td>79078.6            </td> <td>13790.8          </td> <td>15521.8                 </td> <td>6240.57              </td> <td>34956.5              </td> <td>114650                   </td>\n",
       "        </tr>\n",
       "        <tr>\n",
       "            <td>Assessor               </td> <td>6                             </td> <td>                      </td> <td>               </td> <td>                </td> <td>2023       </td> <td>                         </td> <td>                      </td> <td>21               </td> <td>            </td> <td>                 </td> <td>          </td> <td>5.27319e+07               </td> <td>114159         </td> <td>0              </td> <td>480                  </td> <td>114842             </td> <td>20994            </td> <td>16263.4                 </td> <td>8728.89              </td> <td>45330.9              </td> <td>160756                   </td>\n",
       "        </tr>\n",
       "        <tr>\n",
       "            <td>Board Of Appeals       </td> <td>2                             </td> <td>                      </td> <td>               </td> <td>                </td> <td>2023       </td> <td>                         </td> <td>                      </td> <td>323              </td> <td>            </td> <td>                 </td> <td>          </td> <td>5.13965e+07               </td> <td>1875           </td> <td>0              </td> <td>0                    </td> <td>1875               </td> <td>0                </td> <td>0                       </td> <td>142.41               </td> <td>150.29               </td> <td>2325.29                  </td>\n",
       "        </tr>\n",
       "        <tr>\n",
       "            <td>Board Of Supervisors   </td> <td>6                             </td> <td>                      </td> <td>               </td> <td>                </td> <td>2023       </td> <td>                         </td> <td>                      </td> <td>22               </td> <td>            </td> <td>                 </td> <td>          </td> <td>5.1287e+07                </td> <td>96519.3        </td> <td>0              </td> <td>0                    </td> <td>98357.3            </td> <td>17183.4          </td> <td>13737.8                 </td> <td>7542.97              </td> <td>37250.8              </td> <td>136834                   </td>\n",
       "        </tr>\n",
       "        <tr>\n",
       "            <td>Building Inspection    </td> <td>2                             </td> <td>                      </td> <td>               </td> <td>                </td> <td>2023       </td> <td>                         </td> <td>                      </td> <td>790              </td> <td>            </td> <td>                 </td> <td>          </td> <td>5.28475e+07               </td> <td>142927         </td> <td>0              </td> <td>1006.45              </td> <td>145341             </td> <td>26089.1          </td> <td>16789.1                 </td> <td>10967                </td> <td>52711.8              </td> <td>195918                   </td>\n",
       "        </tr>\n",
       "    </tbody>\n",
       "</table>\n",
       "<p>... (42 rows omitted)</p>"
      ],
      "text/plain": [
       "department              | organization_group_code median | job_family_code median | job_code median | year_type median | year median | organization_group median | department_code median | union_code median | union median | job_family median | job median | employee_identifier median | salaries median | overtime median | other_salaries median | total_salary median | retirement median | health_and_dental median | other_benefits median | total_benefits median | total_compensation median\n",
       "Academy Of Sciences     | 5                              |                        |                 |                  | 2023        |                           |                        | 39                |              |                   |            | 5.08679e+07                | 115049          | 11793.8         | 12404.4               | 140343              | 22758.9           | 18134                    | 10866.6               | 50094.1               | 190213\n",
       "Administrative Services | 6                              |                        |                 |                  | 2023        |                           |                        | 790               |              |                   |            | 5.23069e+07                | 84791.9         | 0               | 46.8                  | 91987.8             | 15290.4           | 16263.4                  | 7100.43               | 38144.5               | 128375\n",
       "Adult Probation         | 1                              |                        |                 |                  | 2023        |                           |                        | 651               |              |                   |            | 5.20968e+07                | 118306          | 0               | 0                     | 121340              | 23062.1           | 18226.2                  | 2032.66               | 44044                 | 168317\n",
       "Airport Commission      | 2                              |                        |                 |                  | 2023        |                           |                        | 351               |              |                   |            | 5.10065e+07                | 89459.2         | 428.415         | 1165.57               | 98160.1             | 16566.9           | 16602.3                  | 7590.86               | 39830.9               | 138155\n",
       "Art Commission          | 5                              |                        |                 |                  | 2023        |                           |                        | 790               |              |                   |            | 5.23469e+07                | 85770.6         | 0               | 0                     | 85796.1             | 14648.9           | 13572.4                  | 6555.31               | 33824.1               | 114001\n",
       "Asian Art Museum        | 5                              |                        |                 |                  | 2023        |                           |                        | 790               |              |                   |            | 5.08771e+07                | 73885.1         | 177.355         | 61.855                | 79078.6             | 13790.8           | 15521.8                  | 6240.57               | 34956.5               | 114650\n",
       "Assessor                | 6                              |                        |                 |                  | 2023        |                           |                        | 21                |              |                   |            | 5.27319e+07                | 114159          | 0               | 480                   | 114842              | 20994             | 16263.4                  | 8728.89               | 45330.9               | 160756\n",
       "Board Of Appeals        | 2                              |                        |                 |                  | 2023        |                           |                        | 323               |              |                   |            | 5.13965e+07                | 1875            | 0               | 0                     | 1875                | 0                 | 0                        | 142.41                | 150.29                | 2325.29\n",
       "Board Of Supervisors    | 6                              |                        |                 |                  | 2023        |                           |                        | 22                |              |                   |            | 5.1287e+07                 | 96519.3         | 0               | 0                     | 98357.3             | 17183.4           | 13737.8                  | 7542.97               | 37250.8               | 136834\n",
       "Building Inspection     | 2                              |                        |                 |                  | 2023        |                           |                        | 790               |              |                   |            | 5.28475e+07                | 142927          | 0               | 1006.45               | 145341              | 26089.1           | 16789.1                  | 10967                 | 52711.8               | 195918\n",
       "... (42 rows omitted)"
      ]
     },
     "execution_count": 12,
     "metadata": {},
     "output_type": "execute_result"
    }
   ],
   "source": [
    "group_sf_table = sf.group(\"department\", np.median)\n",
    "group_sf_table"
   ]
  },
  {
   "cell_type": "code",
   "execution_count": 13,
   "metadata": {},
   "outputs": [
    {
     "data": {
      "text/html": [
       "<table border=\"1\" class=\"dataframe\">\n",
       "    <thead>\n",
       "        <tr>\n",
       "            <th>department</th> <th>total_compensation median</th>\n",
       "        </tr>\n",
       "    </thead>\n",
       "    <tbody>\n",
       "        <tr>\n",
       "            <td>Academy Of Sciences    </td> <td>190213                   </td>\n",
       "        </tr>\n",
       "        <tr>\n",
       "            <td>Administrative Services</td> <td>128375                   </td>\n",
       "        </tr>\n",
       "        <tr>\n",
       "            <td>Adult Probation        </td> <td>168317                   </td>\n",
       "        </tr>\n",
       "        <tr>\n",
       "            <td>Airport Commission     </td> <td>138155                   </td>\n",
       "        </tr>\n",
       "        <tr>\n",
       "            <td>Art Commission         </td> <td>114001                   </td>\n",
       "        </tr>\n",
       "        <tr>\n",
       "            <td>Asian Art Museum       </td> <td>114650                   </td>\n",
       "        </tr>\n",
       "        <tr>\n",
       "            <td>Assessor               </td> <td>160756                   </td>\n",
       "        </tr>\n",
       "        <tr>\n",
       "            <td>Board Of Appeals       </td> <td>2325.29                  </td>\n",
       "        </tr>\n",
       "        <tr>\n",
       "            <td>Board Of Supervisors   </td> <td>136834                   </td>\n",
       "        </tr>\n",
       "        <tr>\n",
       "            <td>Building Inspection    </td> <td>195918                   </td>\n",
       "        </tr>\n",
       "    </tbody>\n",
       "</table>\n",
       "<p>... (42 rows omitted)</p>"
      ],
      "text/plain": [
       "department              | total_compensation median\n",
       "Academy Of Sciences     | 190213\n",
       "Administrative Services | 128375\n",
       "Adult Probation         | 168317\n",
       "Airport Commission      | 138155\n",
       "Art Commission          | 114001\n",
       "Asian Art Museum        | 114650\n",
       "Assessor                | 160756\n",
       "Board Of Appeals        | 2325.29\n",
       "Board Of Supervisors    | 136834\n",
       "Building Inspection     | 195918\n",
       "... (42 rows omitted)"
      ]
     },
     "execution_count": 13,
     "metadata": {},
     "output_type": "execute_result"
    }
   ],
   "source": [
    "group_sf_table.select(\"department\", \"total_compensation median\")"
   ]
  },
  {
   "cell_type": "code",
   "execution_count": 14,
   "metadata": {},
   "outputs": [
    {
     "data": {
      "text/html": [
       "<table border=\"1\" class=\"dataframe\">\n",
       "    <thead>\n",
       "        <tr>\n",
       "            <th>department</th> <th>total_compensation median</th>\n",
       "        </tr>\n",
       "    </thead>\n",
       "    <tbody>\n",
       "        <tr>\n",
       "            <td>Law Library                 </td> <td>258800                   </td>\n",
       "        </tr>\n",
       "        <tr>\n",
       "            <td>Fire Department             </td> <td>235598                   </td>\n",
       "        </tr>\n",
       "        <tr>\n",
       "            <td>Sheriff                     </td> <td>230050                   </td>\n",
       "        </tr>\n",
       "        <tr>\n",
       "            <td>City Attorney               </td> <td>227537                   </td>\n",
       "        </tr>\n",
       "        <tr>\n",
       "            <td>Police                      </td> <td>225890                   </td>\n",
       "        </tr>\n",
       "        <tr>\n",
       "            <td>Dept of Emergency Management</td> <td>199403                   </td>\n",
       "        </tr>\n",
       "        <tr>\n",
       "            <td>Building Inspection         </td> <td>195918                   </td>\n",
       "        </tr>\n",
       "        <tr>\n",
       "            <td>Department of Technology    </td> <td>192201                   </td>\n",
       "        </tr>\n",
       "        <tr>\n",
       "            <td>Academy Of Sciences         </td> <td>190213                   </td>\n",
       "        </tr>\n",
       "        <tr>\n",
       "            <td>Public Defender             </td> <td>185809                   </td>\n",
       "        </tr>\n",
       "    </tbody>\n",
       "</table>\n",
       "<p>... (42 rows omitted)</p>"
      ],
      "text/plain": [
       "department                   | total_compensation median\n",
       "Law Library                  | 258800\n",
       "Fire Department              | 235598\n",
       "Sheriff                      | 230050\n",
       "City Attorney                | 227537\n",
       "Police                       | 225890\n",
       "Dept of Emergency Management | 199403\n",
       "Building Inspection          | 195918\n",
       "Department of Technology     | 192201\n",
       "Academy Of Sciences          | 190213\n",
       "Public Defender              | 185809\n",
       "... (42 rows omitted)"
      ]
     },
     "execution_count": 14,
     "metadata": {},
     "output_type": "execute_result"
    }
   ],
   "source": [
    "group_sf_table.select(\"department\", \"total_compensation median\").sort(\"total_compensation median\",descending=True)"
   ]
  },
  {
   "cell_type": "code",
   "execution_count": 15,
   "metadata": {
    "tags": []
   },
   "outputs": [
    {
     "data": {
      "text/html": [
       "<table border=\"1\" class=\"dataframe\">\n",
       "    <thead>\n",
       "        <tr>\n",
       "            <th>department</th> <th>total_compensation median</th>\n",
       "        </tr>\n",
       "    </thead>\n",
       "    <tbody>\n",
       "        <tr>\n",
       "            <td>Law Library    </td> <td>258800                   </td>\n",
       "        </tr>\n",
       "        <tr>\n",
       "            <td>Fire Department</td> <td>235598                   </td>\n",
       "        </tr>\n",
       "        <tr>\n",
       "            <td>Sheriff        </td> <td>230050                   </td>\n",
       "        </tr>\n",
       "        <tr>\n",
       "            <td>City Attorney  </td> <td>227537                   </td>\n",
       "        </tr>\n",
       "        <tr>\n",
       "            <td>Police         </td> <td>225890                   </td>\n",
       "        </tr>\n",
       "    </tbody>\n",
       "</table>"
      ],
      "text/plain": [
       "department      | total_compensation median\n",
       "Law Library     | 258800\n",
       "Fire Department | 235598\n",
       "Sheriff         | 230050\n",
       "City Attorney   | 227537\n",
       "Police          | 225890"
      ]
     },
     "execution_count": 15,
     "metadata": {},
     "output_type": "execute_result"
    }
   ],
   "source": [
    "top_5_departments = group_sf_table.select(\"department\", \"total_compensation median\").sort(\"total_compensation median\",descending=True).take(np.arange(5))\n",
    "top_5_departments"
   ]
  },
  {
   "cell_type": "code",
   "execution_count": 16,
   "metadata": {
    "deletable": false,
    "editable": false
   },
   "outputs": [
    {
     "data": {
      "text/html": [
       "<p><strong><pre style='display: inline;'>task_06</pre></strong> passed! 🎉</p><p><strong><pre style='display: inline;'>task_06 - 1</pre> message:</strong> ✅ top_5_departments is a Table.</p><p><strong><pre style='display: inline;'>task_06 - 2</pre> message:</strong> ✅ top_5_departments has the correct number of rows and columns</p>"
      ],
      "text/plain": [
       "task_06 results: All test cases passed!\n",
       "task_06 - 1 message: ✅ top_5_departments is a Table.\n",
       "task_06 - 2 message: ✅ top_5_departments has the correct number of rows and columns"
      ]
     },
     "execution_count": 16,
     "metadata": {},
     "output_type": "execute_result"
    }
   ],
   "source": [
    "grader.check(\"task_06\")"
   ]
  },
  {
   "cell_type": "markdown",
   "metadata": {},
   "source": [
    "---"
   ]
  },
  {
   "cell_type": "markdown",
   "metadata": {},
   "source": [
    "### Task 07 📍"
   ]
  },
  {
   "cell_type": "markdown",
   "metadata": {
    "deletable": false,
    "editable": false
   },
   "source": [
    "Set `department_ranges` to a table containing departments as the rows, and the organization groups as the columns. The values in the rows should correspond to a total compensation range, where the range is defined as the **difference between the highest total compensation and the lowest total compensation in the department for that organization group**.\n",
    "\n",
    "Keep in mind the following while working on this:\n",
    "\n",
    "* First you'll need to define a new function `compensation_range` which takes in an array of compensations and returns the range of compensations in that array.\n",
    "* What table function allows you to specify the rows and columns of a new table?\n",
    "\n",
    "\n",
    "_Points:_ 2"
   ]
  },
  {
   "cell_type": "code",
   "execution_count": 17,
   "metadata": {
    "tags": []
   },
   "outputs": [
    {
     "data": {
      "text/html": [
       "<table border=\"1\" class=\"dataframe\">\n",
       "    <thead>\n",
       "        <tr>\n",
       "            <th>department</th> <th>Community Health</th> <th>Culture & Recreation</th> <th>General Administration & Finance</th> <th>Human Welfare & Neighborhood Development</th> <th>Public Protection</th> <th>Public Works, Transportation & Commerce</th>\n",
       "        </tr>\n",
       "    </thead>\n",
       "    <tbody>\n",
       "        <tr>\n",
       "            <td>Academy Of Sciences    </td> <td>0               </td> <td>177132              </td> <td>0                               </td> <td>0                                       </td> <td>0                </td> <td>0                                      </td>\n",
       "        </tr>\n",
       "        <tr>\n",
       "            <td>Administrative Services</td> <td>0               </td> <td>0                   </td> <td>513149                          </td> <td>0                                       </td> <td>0                </td> <td>0                                      </td>\n",
       "        </tr>\n",
       "        <tr>\n",
       "            <td>Adult Probation        </td> <td>0               </td> <td>0                   </td> <td>0                               </td> <td>0                                       </td> <td>445079           </td> <td>0                                      </td>\n",
       "        </tr>\n",
       "        <tr>\n",
       "            <td>Airport Commission     </td> <td>0               </td> <td>0                   </td> <td>0                               </td> <td>0                                       </td> <td>0                </td> <td>506447                                 </td>\n",
       "        </tr>\n",
       "        <tr>\n",
       "            <td>Art Commission         </td> <td>0               </td> <td>291648              </td> <td>0                               </td> <td>0                                       </td> <td>0                </td> <td>0                                      </td>\n",
       "        </tr>\n",
       "        <tr>\n",
       "            <td>Asian Art Museum       </td> <td>0               </td> <td>338984              </td> <td>0                               </td> <td>0                                       </td> <td>0                </td> <td>0                                      </td>\n",
       "        </tr>\n",
       "        <tr>\n",
       "            <td>Assessor               </td> <td>0               </td> <td>0                   </td> <td>320890                          </td> <td>0                                       </td> <td>0                </td> <td>0                                      </td>\n",
       "        </tr>\n",
       "        <tr>\n",
       "            <td>Board Of Appeals       </td> <td>0               </td> <td>0                   </td> <td>0                               </td> <td>0                                       </td> <td>0                </td> <td>278601                                 </td>\n",
       "        </tr>\n",
       "        <tr>\n",
       "            <td>Board Of Supervisors   </td> <td>0               </td> <td>0                   </td> <td>334616                          </td> <td>0                                       </td> <td>0                </td> <td>0                                      </td>\n",
       "        </tr>\n",
       "        <tr>\n",
       "            <td>Building Inspection    </td> <td>0               </td> <td>0                   </td> <td>0                               </td> <td>0                                       </td> <td>0                </td> <td>368399                                 </td>\n",
       "        </tr>\n",
       "    </tbody>\n",
       "</table>\n",
       "<p>... (42 rows omitted)</p>"
      ],
      "text/plain": [
       "department              | Community Health | Culture & Recreation | General Administration & Finance | Human Welfare & Neighborhood Development | Public Protection | Public Works, Transportation & Commerce\n",
       "Academy Of Sciences     | 0                | 177132               | 0                                | 0                                        | 0                 | 0\n",
       "Administrative Services | 0                | 0                    | 513149                           | 0                                        | 0                 | 0\n",
       "Adult Probation         | 0                | 0                    | 0                                | 0                                        | 445079            | 0\n",
       "Airport Commission      | 0                | 0                    | 0                                | 0                                        | 0                 | 506447\n",
       "Art Commission          | 0                | 291648               | 0                                | 0                                        | 0                 | 0\n",
       "Asian Art Museum        | 0                | 338984               | 0                                | 0                                        | 0                 | 0\n",
       "Assessor                | 0                | 0                    | 320890                           | 0                                        | 0                 | 0\n",
       "Board Of Appeals        | 0                | 0                    | 0                                | 0                                        | 0                 | 278601\n",
       "Board Of Supervisors    | 0                | 0                    | 334616                           | 0                                        | 0                 | 0\n",
       "Building Inspection     | 0                | 0                    | 0                                | 0                                        | 0                 | 368399\n",
       "... (42 rows omitted)"
      ]
     },
     "execution_count": 17,
     "metadata": {},
     "output_type": "execute_result"
    }
   ],
   "source": [
    "# Define compensation_range first\n",
    "def compensation_range(array):\n",
    "    return max(array)-min(array)\n",
    "\n",
    "\n",
    "department_ranges = sf.pivot(\"organization_group\",\"department\",\"total_compensation\",compensation_range)\n",
    "department_ranges"
   ]
  },
  {
   "cell_type": "code",
   "execution_count": 18,
   "metadata": {
    "deletable": false,
    "editable": false
   },
   "outputs": [
    {
     "data": {
      "text/html": [
       "<p><strong><pre style='display: inline;'>task_07</pre></strong> passed! 🎉</p><p><strong><pre style='display: inline;'>task_07 - 1</pre> message:</strong> ✅ Your function compensation_range seems to be working correctly.</p><p><strong><pre style='display: inline;'>task_07 - 2</pre> message:</strong> ✅ You have the correct column labels in department_ranges.</p><p><strong><pre style='display: inline;'>task_07 - 3</pre> message:</strong> ✅ The values in one of the columns of department_ranges seem correct.</p>"
      ],
      "text/plain": [
       "task_07 results: All test cases passed!\n",
       "task_07 - 1 message: ✅ Your function compensation_range seems to be working correctly.\n",
       "task_07 - 2 message: ✅ You have the correct column labels in department_ranges.\n",
       "task_07 - 3 message: ✅ The values in one of the columns of department_ranges seem correct."
      ]
     },
     "execution_count": 18,
     "metadata": {},
     "output_type": "execute_result"
    }
   ],
   "source": [
    "grader.check(\"task_07\")"
   ]
  },
  {
   "cell_type": "markdown",
   "metadata": {},
   "source": [
    "---"
   ]
  },
  {
   "cell_type": "markdown",
   "metadata": {},
   "source": [
    "Which department has the longest job title? There are a few ways you might answer this, but we are going to guide you in one way that gives you practice making and using functions with the `group` method. \n",
    "\n",
    "Before you go on to the next task, run the following code cell to define a function that takes a list or array of strings and returns an array of the lengths of those strings. You don't have to understand how the code works, but this might give you an idea of where error messages come from. You should try it out with a few lists/arrays of strings to see what it is doing."
   ]
  },
  {
   "cell_type": "code",
   "execution_count": 19,
   "metadata": {},
   "outputs": [],
   "source": [
    "def string_lengths(strings):\n",
    "    '''\n",
    "    Returns an array that contains the length of each string in the array or list called strings.\n",
    "\n",
    "    Example\n",
    "    --------\n",
    "    >>> string_lengths(['a', 'an', 'the'])\n",
    "    array([1, 2, 3])\n",
    "    '''\n",
    "    \n",
    "    if not isinstance(strings, (list, np.ndarray)):\n",
    "        raise ValueError(\"Input must be a list or array\")\n",
    "\n",
    "    if len(strings) == 0:\n",
    "        return np.array([0])\n",
    "    \n",
    "    for s in strings:\n",
    "        if not isinstance(s, str):\n",
    "            raise ValueError(\"Input must contain only strings\")\n",
    "        \n",
    "    return np.array([len(s) for s in strings])"
   ]
  },
  {
   "cell_type": "code",
   "execution_count": 20,
   "metadata": {},
   "outputs": [
    {
     "data": {
      "text/plain": [
       "array([ 4,  7,  2, 13])"
      ]
     },
     "execution_count": 20,
     "metadata": {},
     "output_type": "execute_result"
    }
   ],
   "source": [
    "# Try calling the function\n",
    "an_array_of_strings = make_array('City', 'College', 'of', 'San Francisco')\n",
    "string_lengths(an_array_of_strings)"
   ]
  },
  {
   "cell_type": "markdown",
   "metadata": {},
   "source": [
    "Notice that it provides the length of the 4 strings that were provided in the input array. Remember that `len` does count the blank space in `'San Francisco'`."
   ]
  },
  {
   "cell_type": "markdown",
   "metadata": {},
   "source": [
    "---"
   ]
  },
  {
   "cell_type": "markdown",
   "metadata": {
    "tags": []
   },
   "source": [
    "### Task 08 📍"
   ]
  },
  {
   "cell_type": "markdown",
   "metadata": {
    "deletable": false,
    "editable": false
   },
   "source": [
    "Define a function called `max_job_name` that returns the length of the longest job name from an array or list of job names (strings).\n",
    "\n",
    "* **Hint:** Use the `string_lengths` function above. \n",
    "* **Hint:** `max_job_name(['Electrician', 'Analyst', 'Social Worker'])` should return `13` because `'Social Worker'` is the longest string with 13 characters (including the space).\n",
    "* **Hint:** You can assume the list of jobs is not empty because every department in the `sf` table has at least 1 job. \n",
    "\n",
    "_Points:_ 3"
   ]
  },
  {
   "cell_type": "code",
   "execution_count": 21,
   "metadata": {
    "tags": []
   },
   "outputs": [
    {
     "data": {
      "text/plain": [
       "13"
      ]
     },
     "execution_count": 21,
     "metadata": {},
     "output_type": "execute_result"
    }
   ],
   "source": [
    "def max_job_name(a_array):\n",
    "    return max(string_lengths(a_array))\n",
    "\n",
    "\n",
    "# Try out the function\n",
    "max_job_name(['Electrician', 'Analyst', 'Social Worker'])"
   ]
  },
  {
   "cell_type": "code",
   "execution_count": 22,
   "metadata": {
    "deletable": false,
    "editable": false
   },
   "outputs": [
    {
     "data": {
      "text/html": [
       "<p><strong><pre style='display: inline;'>task_08</pre></strong> passed! 💯</p><p><strong><pre style='display: inline;'>task_08 - 1</pre> message:</strong> ✅ max_job_name is callable.</p><p><strong><pre style='display: inline;'>task_08 - 2</pre> message:</strong> ✅ max_job_name seems to be working.</p>"
      ],
      "text/plain": [
       "task_08 results: All test cases passed!\n",
       "task_08 - 1 message: ✅ max_job_name is callable.\n",
       "task_08 - 2 message: ✅ max_job_name seems to be working."
      ]
     },
     "execution_count": 22,
     "metadata": {},
     "output_type": "execute_result"
    }
   ],
   "source": [
    "grader.check(\"task_08\")"
   ]
  },
  {
   "cell_type": "markdown",
   "metadata": {},
   "source": [
    "---"
   ]
  },
  {
   "cell_type": "code",
   "execution_count": null,
   "metadata": {},
   "outputs": [],
   "source": []
  },
  {
   "cell_type": "markdown",
   "metadata": {
    "tags": []
   },
   "source": [
    "### Task 09 📍"
   ]
  },
  {
   "cell_type": "markdown",
   "metadata": {
    "deletable": false,
    "editable": false
   },
   "source": [
    "What are the lengths of the longest job names for each department?\n",
    "\n",
    "Create a table called `departments` that shows a row for each unique department name in the `sf` table and the length of the longest job name within that department. A few things to consider when making your final table:\n",
    "\n",
    "* Sort the table so that the department(s) with the longest job name are at the top of the table.\n",
    "* The columns should be `'department'` and `'max_job_name_length'`.\n",
    "\n",
    "**Hint:** Try out the `max_job_name` function you just made!\n",
    "\n",
    "_Points:_ 2"
   ]
  },
  {
   "cell_type": "code",
   "execution_count": 23,
   "metadata": {
    "tags": []
   },
   "outputs": [
    {
     "data": {
      "text/html": [
       "<table border=\"1\" class=\"dataframe\">\n",
       "    <thead>\n",
       "        <tr>\n",
       "            <th>department</th> <th>max_job_name_length</th>\n",
       "        </tr>\n",
       "    </thead>\n",
       "    <tbody>\n",
       "        <tr>\n",
       "            <td>Academy Of Sciences    </td> <td>26                 </td>\n",
       "        </tr>\n",
       "        <tr>\n",
       "            <td>Administrative Services</td> <td>30                 </td>\n",
       "        </tr>\n",
       "        <tr>\n",
       "            <td>Adult Probation        </td> <td>30                 </td>\n",
       "        </tr>\n",
       "        <tr>\n",
       "            <td>Airport Commission     </td> <td>30                 </td>\n",
       "        </tr>\n",
       "        <tr>\n",
       "            <td>Art Commission         </td> <td>29                 </td>\n",
       "        </tr>\n",
       "        <tr>\n",
       "            <td>Asian Art Museum       </td> <td>30                 </td>\n",
       "        </tr>\n",
       "        <tr>\n",
       "            <td>Assessor               </td> <td>30                 </td>\n",
       "        </tr>\n",
       "        <tr>\n",
       "            <td>Board Of Appeals       </td> <td>26                 </td>\n",
       "        </tr>\n",
       "        <tr>\n",
       "            <td>Board Of Supervisors   </td> <td>30                 </td>\n",
       "        </tr>\n",
       "        <tr>\n",
       "            <td>Building Inspection    </td> <td>30                 </td>\n",
       "        </tr>\n",
       "    </tbody>\n",
       "</table>\n",
       "<p>... (42 rows omitted)</p>"
      ],
      "text/plain": [
       "department              | max_job_name_length\n",
       "Academy Of Sciences     | 26\n",
       "Administrative Services | 30\n",
       "Adult Probation         | 30\n",
       "Airport Commission      | 30\n",
       "Art Commission          | 29\n",
       "Asian Art Museum        | 30\n",
       "Assessor                | 30\n",
       "Board Of Appeals        | 26\n",
       "Board Of Supervisors    | 30\n",
       "Building Inspection     | 30\n",
       "... (42 rows omitted)"
      ]
     },
     "execution_count": 23,
     "metadata": {},
     "output_type": "execute_result"
    }
   ],
   "source": [
    "departments = sf.select('department','job').group('department', collect=max_job_name).relabeled('job max_job_name', 'max_job_name_length')\n",
    "departments"
   ]
  },
  {
   "cell_type": "code",
   "execution_count": 24,
   "metadata": {
    "deletable": false,
    "editable": false
   },
   "outputs": [
    {
     "data": {
      "text/html": [
       "<p><strong><pre style='display: inline;'>task_09</pre></strong> passed! 🌈</p><p><strong><pre style='display: inline;'>task_09 - 1</pre> message:</strong> ✅ departments is a table (or department is a string).</p>"
      ],
      "text/plain": [
       "task_09 results: All test cases passed!\n",
       "task_09 - 1 message: ✅ departments is a table (or department is a string)."
      ]
     },
     "execution_count": 24,
     "metadata": {},
     "output_type": "execute_result"
    }
   ],
   "source": [
    "grader.check(\"task_09\")"
   ]
  },
  {
   "cell_type": "markdown",
   "metadata": {},
   "source": [
    "---"
   ]
  },
  {
   "cell_type": "markdown",
   "metadata": {},
   "source": [
    "California has laws in place to help govern how much an employee should be paid for overtime work. Visit the [Labor Commissioner's Office FAQ about Overtime](https://www.dir.ca.gov/dlse/faq_overtime.htm) if you are curious about these laws. There could be several reasons for why an employee works overtime. Some are healthy reasons and some are not. The ratio of overtime compensation to total compensation can provide a signal for health of departments and their employees. According to [Indeed.com](https://www.indeed.com/career-advice/career-development/working-overtime), here are some potential disadvantages of working extra hours:\n",
    "\n",
    "> **Focus loss**: You will likely want to take breaks while working overtime, and you may lose focus and productivity naturally as your working hours increase. \n",
    "> \n",
    "> **Safety and health risk**: Working longer hours also can be dangerous, depending on the job. Working overtime regularly can also disrupt your work-life balance, lead to burnout or create health risks, such as sitting at a computer for long periods. Due to these risks, more companies are limiting the number of hours worked in certain positions, such as truck drivers. \n",
    "> \n",
    "> **Less work-life balance**: There are only 24 hours in the day, and working overtime reduces the time for a good work-life balance. More work hours mean fewer hours for family, relaxation and sleep.\n",
    "\n",
    "On the other hand, here are some potential advantages for working extra hours:\n",
    "\n",
    "> **Extra money**: Working overtime means you earn extra money for extra hours, usually 1.5 to two times your hourly rate. Overtime pay could allow you to bulk up your salary and have more money for living expenses, vacations or savings. \n",
    ">\n",
    ">**Career boost**: Working overtime may also help advance your career—and potential earnings—by proving you’re reliable and motivated in your role. Volunteering to work extra hours shows your current employer that you’re dedicated to doing a good job. \n",
    ">\n",
    ">**Gain experience**: Overtime is an opportunity to gain job experience and polish your skills. Typically, the more you work at something, the better you become."
   ]
  },
  {
   "cell_type": "markdown",
   "metadata": {},
   "source": [
    "One way to analyze overtime work for San Francisco employees is to consider the overtime pay values in the data set, but these values are relative to the amount of money the employee makes. To account for this you could consider overtime pay for an employee as a quantity relative to that employee's salary. This would allow you to compare these ratios for all the employees. Specifically, use the measurement called the overtime ratio defined as:\n",
    "\n",
    "$$\\text{Overtime Ratio} = \\frac{\\text{Overtime Pay}}{\\text{Salary}}$$\n",
    "\n",
    "There are many special cases, when it comes to overtime pay, that might make analyzing this ratio in general challenging. So, to keep things more simple, narrow your focus to employees that make at least a certain salary. Let that base salary reflect working 40 hrs per week for 52 weeks at the minimum wage of the time, 16.99 dollars per hour."
   ]
  },
  {
   "cell_type": "markdown",
   "metadata": {},
   "source": [
    "---"
   ]
  },
  {
   "cell_type": "markdown",
   "metadata": {
    "tags": []
   },
   "source": [
    "### Task 10 📍"
   ]
  },
  {
   "cell_type": "markdown",
   "metadata": {
    "deletable": false,
    "editable": false
   },
   "source": [
    "For this task, create a table called `sf_above_35k` that contains the same information in the `sf` table and overtime ratios for employees making above $35,000. Make sure that `sf_above_35k` has:\n",
    " * Only employees from the `sf` table that have salaries above 35,000 dollars AND\n",
    " * The same columns as the `sf` table with an additional column `overtime_ratio` containing the overtime ratios from the above formula.\n",
    "\n",
    "_Points:_ 2.5"
   ]
  },
  {
   "cell_type": "code",
   "execution_count": 25,
   "metadata": {
    "tags": []
   },
   "outputs": [
    {
     "data": {
      "text/html": [
       "<table border=\"1\" class=\"dataframe\">\n",
       "    <thead>\n",
       "        <tr>\n",
       "            <th>organization_group_code</th> <th>job_family_code</th> <th>job_code</th> <th>year_type</th> <th>year</th> <th>organization_group</th> <th>department_code</th> <th>department</th> <th>union_code</th> <th>union</th> <th>job_family</th> <th>job</th> <th>employee_identifier</th> <th>salaries</th> <th>overtime</th> <th>other_salaries</th> <th>total_salary</th> <th>retirement</th> <th>health_and_dental</th> <th>other_benefits</th> <th>total_benefits</th> <th>total_compensation</th> <th>overtime_ratio</th>\n",
       "        </tr>\n",
       "    </thead>\n",
       "    <tbody>\n",
       "        <tr>\n",
       "            <td>4                      </td> <td>2800           </td> <td>2846    </td> <td>Fiscal   </td> <td>2023</td> <td>Community Health                       </td> <td>DPH            </td> <td>Public Health               </td> <td>21        </td> <td>Prof & Tech Eng, Local 21   </td> <td>Public Health            </td> <td>Nutritionist                </td> <td>52846918           </td> <td>68586.6 </td> <td>0       </td> <td>18226.5       </td> <td>86813.1     </td> <td>12782.7   </td> <td>9007.39          </td> <td>6819.16       </td> <td>28609.2       </td> <td>115422            </td> <td>0             </td>\n",
       "        </tr>\n",
       "        <tr>\n",
       "            <td>4                      </td> <td>2300           </td> <td>2320    </td> <td>Fiscal   </td> <td>2023</td> <td>Community Health                       </td> <td>DPH            </td> <td>Public Health               </td> <td>791       </td> <td>SEIU, Local 1021, RN        </td> <td>Nursing                  </td> <td>Registered Nurse            </td> <td>50859893           </td> <td>147886  </td> <td>2584.28 </td> <td>12881.8       </td> <td>163352      </td> <td>23099.1   </td> <td>16134.5          </td> <td>10227.7       </td> <td>49461.3       </td> <td>212813            </td> <td>0.0174748     </td>\n",
       "        </tr>\n",
       "        <tr>\n",
       "            <td>4                      </td> <td>2600           </td> <td>2654    </td> <td>Fiscal   </td> <td>2023</td> <td>Community Health                       </td> <td>DPH            </td> <td>Public Health               </td> <td>250       </td> <td>SEIU, Local 1021, Misc      </td> <td>Dietary & Food           </td> <td>Cook                        </td> <td>50850238           </td> <td>86243.6 </td> <td>33036.1 </td> <td>3166.81       </td> <td>122446      </td> <td>16188.5   </td> <td>16796.1          </td> <td>9672.34       </td> <td>42657         </td> <td>165103            </td> <td>0.383055      </td>\n",
       "        </tr>\n",
       "        <tr>\n",
       "            <td>4                      </td> <td>2300           </td> <td>2322    </td> <td>Fiscal   </td> <td>2023</td> <td>Community Health                       </td> <td>DPH            </td> <td>Public Health               </td> <td>858       </td> <td>Teamsters, Local 856, Spv RN</td> <td>Nursing                  </td> <td>Nurse Manager               </td> <td>50877316           </td> <td>247150  </td> <td>1140.71 </td> <td>2560          </td> <td>250850      </td> <td>44327.7   </td> <td>20737.9          </td> <td>13821         </td> <td>78886.6       </td> <td>329737            </td> <td>0.00461546    </td>\n",
       "        </tr>\n",
       "        <tr>\n",
       "            <td>4                      </td> <td>2300           </td> <td>2320    </td> <td>Fiscal   </td> <td>2023</td> <td>Community Health                       </td> <td>DPH            </td> <td>Public Health               </td> <td>791       </td> <td>SEIU, Local 1021, RN        </td> <td>Nursing                  </td> <td>Registered Nurse            </td> <td>52066865           </td> <td>74860.1 </td> <td>16860.9 </td> <td>13643.7       </td> <td>105365      </td> <td>9115.42   </td> <td>8218.37          </td> <td>1798.2        </td> <td>19132         </td> <td>124497            </td> <td>0.225232      </td>\n",
       "        </tr>\n",
       "        <tr>\n",
       "            <td>4                      </td> <td>2300           </td> <td>2320    </td> <td>Fiscal   </td> <td>2023</td> <td>Community Health                       </td> <td>DPH            </td> <td>Public Health               </td> <td>791       </td> <td>SEIU, Local 1021, RN        </td> <td>Nursing                  </td> <td>Registered Nurse            </td> <td>50850113           </td> <td>192213  </td> <td>19817.7 </td> <td>26600.3       </td> <td>238631      </td> <td>27330.6   </td> <td>21596            </td> <td>10953.1       </td> <td>59879.8       </td> <td>298511            </td> <td>0.103103      </td>\n",
       "        </tr>\n",
       "        <tr>\n",
       "            <td>2                      </td> <td>1200           </td> <td>1246    </td> <td>Fiscal   </td> <td>2023</td> <td>Public Works, Transportation & Commerce</td> <td>DBI            </td> <td>Building Inspection         </td> <td>22        </td> <td>Prof & Tech Eng, Local 21   </td> <td>Personnel                </td> <td>Prin Human Resources Analyst</td> <td>54256822           </td> <td>151894  </td> <td>0       </td> <td>0             </td> <td>151894      </td> <td>27058.7   </td> <td>0                </td> <td>12029.7       </td> <td>39088.4       </td> <td>190983            </td> <td>0             </td>\n",
       "        </tr>\n",
       "        <tr>\n",
       "            <td>1                      </td> <td>8200           </td> <td>8239    </td> <td>Fiscal   </td> <td>2023</td> <td>Public Protection                      </td> <td>DEM            </td> <td>Dept of Emergency Management</td> <td>790       </td> <td>SEIU, Local 1021, Misc      </td> <td>Protection & Apprehension</td> <td>Public SafetyComm Supv      </td> <td>50847867           </td> <td>137352  </td> <td>40134.6 </td> <td>5846.1        </td> <td>183332      </td> <td>26232     </td> <td>16683.1          </td> <td>13126.7       </td> <td>56041.8       </td> <td>239374            </td> <td>0.292204      </td>\n",
       "        </tr>\n",
       "        <tr>\n",
       "            <td>1                      </td> <td>8200           </td> <td>8239    </td> <td>Fiscal   </td> <td>2023</td> <td>Public Protection                      </td> <td>DEM            </td> <td>Dept of Emergency Management</td> <td>790       </td> <td>SEIU, Local 1021, Misc      </td> <td>Protection & Apprehension</td> <td>Public SafetyComm Supv      </td> <td>50870881           </td> <td>72843.4 </td> <td>2037.07 </td> <td>2311.37       </td> <td>77191.9     </td> <td>13826.2   </td> <td>9196.86          </td> <td>6065.27       </td> <td>29088.3       </td> <td>106280            </td> <td>0.0279651     </td>\n",
       "        </tr>\n",
       "        <tr>\n",
       "            <td>4                      </td> <td>2300           </td> <td>P103    </td> <td>Fiscal   </td> <td>2023</td> <td>Community Health                       </td> <td>DPH            </td> <td>Public Health               </td> <td>791       </td> <td>SEIU, Local 1021, RN        </td> <td>Nursing                  </td> <td>Special Nurse               </td> <td>53726867           </td> <td>47504.3 </td> <td>4262.5  </td> <td>9470.9        </td> <td>61237.7     </td> <td>0         </td> <td>0                </td> <td>4024.48       </td> <td>4024.48       </td> <td>65262.2           </td> <td>0.0897287     </td>\n",
       "        </tr>\n",
       "    </tbody>\n",
       "</table>\n",
       "<p>... (33044 rows omitted)</p>"
      ],
      "text/plain": [
       "organization_group_code | job_family_code | job_code | year_type | year | organization_group                      | department_code | department                   | union_code | union                        | job_family                | job                          | employee_identifier | salaries | overtime | other_salaries | total_salary | retirement | health_and_dental | other_benefits | total_benefits | total_compensation | overtime_ratio\n",
       "4                       | 2800            | 2846     | Fiscal    | 2023 | Community Health                        | DPH             | Public Health                | 21         | Prof & Tech Eng, Local 21    | Public Health             | Nutritionist                 | 52846918            | 68586.6  | 0        | 18226.5        | 86813.1      | 12782.7    | 9007.39           | 6819.16        | 28609.2        | 115422             | 0\n",
       "4                       | 2300            | 2320     | Fiscal    | 2023 | Community Health                        | DPH             | Public Health                | 791        | SEIU, Local 1021, RN         | Nursing                   | Registered Nurse             | 50859893            | 147886   | 2584.28  | 12881.8        | 163352       | 23099.1    | 16134.5           | 10227.7        | 49461.3        | 212813             | 0.0174748\n",
       "4                       | 2600            | 2654     | Fiscal    | 2023 | Community Health                        | DPH             | Public Health                | 250        | SEIU, Local 1021, Misc       | Dietary & Food            | Cook                         | 50850238            | 86243.6  | 33036.1  | 3166.81        | 122446       | 16188.5    | 16796.1           | 9672.34        | 42657          | 165103             | 0.383055\n",
       "4                       | 2300            | 2322     | Fiscal    | 2023 | Community Health                        | DPH             | Public Health                | 858        | Teamsters, Local 856, Spv RN | Nursing                   | Nurse Manager                | 50877316            | 247150   | 1140.71  | 2560           | 250850       | 44327.7    | 20737.9           | 13821          | 78886.6        | 329737             | 0.00461546\n",
       "4                       | 2300            | 2320     | Fiscal    | 2023 | Community Health                        | DPH             | Public Health                | 791        | SEIU, Local 1021, RN         | Nursing                   | Registered Nurse             | 52066865            | 74860.1  | 16860.9  | 13643.7        | 105365       | 9115.42    | 8218.37           | 1798.2         | 19132          | 124497             | 0.225232\n",
       "4                       | 2300            | 2320     | Fiscal    | 2023 | Community Health                        | DPH             | Public Health                | 791        | SEIU, Local 1021, RN         | Nursing                   | Registered Nurse             | 50850113            | 192213   | 19817.7  | 26600.3        | 238631       | 27330.6    | 21596             | 10953.1        | 59879.8        | 298511             | 0.103103\n",
       "2                       | 1200            | 1246     | Fiscal    | 2023 | Public Works, Transportation & Commerce | DBI             | Building Inspection          | 22         | Prof & Tech Eng, Local 21    | Personnel                 | Prin Human Resources Analyst | 54256822            | 151894   | 0        | 0              | 151894       | 27058.7    | 0                 | 12029.7        | 39088.4        | 190983             | 0\n",
       "1                       | 8200            | 8239     | Fiscal    | 2023 | Public Protection                       | DEM             | Dept of Emergency Management | 790        | SEIU, Local 1021, Misc       | Protection & Apprehension | Public SafetyComm Supv       | 50847867            | 137352   | 40134.6  | 5846.1         | 183332       | 26232      | 16683.1           | 13126.7        | 56041.8        | 239374             | 0.292204\n",
       "1                       | 8200            | 8239     | Fiscal    | 2023 | Public Protection                       | DEM             | Dept of Emergency Management | 790        | SEIU, Local 1021, Misc       | Protection & Apprehension | Public SafetyComm Supv       | 50870881            | 72843.4  | 2037.07  | 2311.37        | 77191.9      | 13826.2    | 9196.86           | 6065.27        | 29088.3        | 106280             | 0.0279651\n",
       "4                       | 2300            | P103     | Fiscal    | 2023 | Community Health                        | DPH             | Public Health                | 791        | SEIU, Local 1021, RN         | Nursing                   | Special Nurse                | 53726867            | 47504.3  | 4262.5   | 9470.9         | 61237.7      | 0          | 0                 | 4024.48        | 4024.48        | 65262.2            | 0.0897287\n",
       "... (33044 rows omitted)"
      ]
     },
     "execution_count": 25,
     "metadata": {},
     "output_type": "execute_result"
    }
   ],
   "source": [
    "sf_above_35k_only = sf.where(\"salaries\",are.above(35000))\n",
    "\n",
    "overtime_ratios = sf_above_35k_only.column(\"overtime\") / sf_above_35k_only.column(\"salaries\")\n",
    "\n",
    "sf_above_35k = sf_above_35k_only.with_column(\"overtime_ratio\",overtime_ratios)\n",
    "sf_above_35k"
   ]
  },
  {
   "cell_type": "code",
   "execution_count": 26,
   "metadata": {
    "deletable": false,
    "editable": false
   },
   "outputs": [
    {
     "data": {
      "text/html": [
       "<p><strong><pre style='display: inline;'>task_10</pre></strong> passed! 🚀</p><p><strong><pre style='display: inline;'>task_10 - 1</pre> message:</strong> ✅ sf_above_35k is a Table.</p><p><strong><pre style='display: inline;'>task_10 - 2</pre> message:</strong> ✅ sf_above_35k has the correct number of columns.</p>"
      ],
      "text/plain": [
       "task_10 results: All test cases passed!\n",
       "task_10 - 1 message: ✅ sf_above_35k is a Table.\n",
       "task_10 - 2 message: ✅ sf_above_35k has the correct number of columns."
      ]
     },
     "execution_count": 26,
     "metadata": {},
     "output_type": "execute_result"
    }
   ],
   "source": [
    "grader.check(\"task_10\")"
   ]
  },
  {
   "cell_type": "markdown",
   "metadata": {},
   "source": [
    "---"
   ]
  },
  {
   "cell_type": "markdown",
   "metadata": {
    "tags": []
   },
   "source": [
    "### Task 11 📍🔎"
   ]
  },
  {
   "cell_type": "markdown",
   "metadata": {
    "deletable": false,
    "editable": false
   },
   "source": [
    "<!-- BEGIN QUESTION -->\n",
    "\n",
    "Is overtime collected similarly over the various salaries in the `sf_above_35k` table? See if there is any relationship between salary and the overtime ratios. For this task, create a visualization showing the relationship between salary and overtime ratio values for employees who make above $35,000.\n",
    "\n",
    "_Points:_ 2"
   ]
  },
  {
   "cell_type": "code",
   "execution_count": 27,
   "metadata": {
    "tags": []
   },
   "outputs": [
    {
     "data": {
      "image/png": "[encoded data removed]",
      "text/plain": [
       "<Figure size 500x500 with 1 Axes>"
      ]
     },
     "metadata": {},
     "output_type": "display_data"
    }
   ],
   "source": [
    "sf_above_35k.scatter(\"salaries\", \"overtime_ratio\")\n",
    "\n",
    "\n",
    "# Leave this to provide a title for your visualization\n",
    "plt.title('Overtime Ratio vs. Salary')\n",
    "plt.show()"
   ]
  },
  {
   "cell_type": "markdown",
   "metadata": {
    "deletable": false,
    "editable": false
   },
   "source": [
    "<!-- END QUESTION -->\n",
    "\n",
    "---"
   ]
  },
  {
   "cell_type": "markdown",
   "metadata": {
    "tags": []
   },
   "source": [
    "### Task 12 📍🔎"
   ]
  },
  {
   "cell_type": "markdown",
   "metadata": {
    "deletable": false,
    "editable": false
   },
   "source": [
    "<!-- BEGIN QUESTION -->\n",
    "\n",
    "In the provided Markdown cell, summarize the relationship you see based on the visualization and provide at least one idea for why you are seeing the pattern you are seeing.\n",
    "\n",
    "_Points:_ 2"
   ]
  },
  {
   "cell_type": "markdown",
   "metadata": {},
   "source": [
    "Where the median salaries is, or the average, the people earning the salaries on average (and most likely, the most people working in the similar salary range, and also the job likely having the most people working in the similar tasks), are working the most, having the highest overtime ratio."
   ]
  },
  {
   "cell_type": "markdown",
   "metadata": {
    "deletable": false,
    "editable": false
   },
   "source": [
    "<!-- END QUESTION -->\n",
    "\n",
    "There are many things you can explore in this data set, but that is enough for now!"
   ]
  },
  {
   "cell_type": "markdown",
   "metadata": {},
   "source": [
    "---"
   ]
  },
  {
   "cell_type": "markdown",
   "metadata": {},
   "source": [
    "## 🏈 2023-24 CCSF Football Season"
   ]
  },
  {
   "cell_type": "markdown",
   "metadata": {},
   "source": [
    "You are going to analyze how well the CCSF football team performed in the 2023-24 season. A football game is divided into four periods, called quarters. The number of points CCSF scored in each quarter (e.g. `CCSF 1Q`), and the number of points their opponent scored in each quarter  (e.g. `Opp 1Q`) are stored in a table called `games`. If the game is tied at the end of the 4th quarter, the game goes into an additional period called overtime.\n",
    "\n",
    "**Notes**:\n",
    "* The 2023-24 season data was collected using the Game Log from [the CCSF Athletics website](https://ccsfathletics.com/sports/fball/2023-24/teams/sanfrancisco?view=gamelog).\n",
    "* The table `games_full` contains dditional statistics at the right end of the table for your curiosity.\n",
    "* A `nan` value indicates that no data was provided on the website."
   ]
  },
  {
   "cell_type": "code",
   "execution_count": 28,
   "metadata": {
    "tags": []
   },
   "outputs": [
    {
     "data": {
      "text/html": [
       "<table border=\"1\" class=\"dataframe\">\n",
       "    <thead>\n",
       "        <tr>\n",
       "            <th>Opponent</th> <th>CCSF 1Q</th> <th>CCSF 2Q</th> <th>CCSF 3Q</th> <th>CCSF 4Q</th> <th>CCSF OT</th> <th>Opp 1Q</th> <th>Opp 2Q</th> <th>Opp 3Q</th> <th>Opp 4Q</th> <th>Opp OT</th>\n",
       "        </tr>\n",
       "    </thead>\n",
       "    <tbody>\n",
       "        <tr>\n",
       "            <td>Santa Rosa       </td> <td>13     </td> <td>21     </td> <td>3      </td> <td>21     </td> <td>0      </td> <td>0     </td> <td>0     </td> <td>0     </td> <td>14    </td> <td>0     </td>\n",
       "        </tr>\n",
       "        <tr>\n",
       "            <td>Sacramento City  </td> <td>0      </td> <td>3      </td> <td>14     </td> <td>7      </td> <td>0      </td> <td>3     </td> <td>0     </td> <td>0     </td> <td>0     </td> <td>0     </td>\n",
       "        </tr>\n",
       "        <tr>\n",
       "            <td>Butte            </td> <td>0      </td> <td>7      </td> <td>20     </td> <td>0      </td> <td>0      </td> <td>9     </td> <td>0     </td> <td>0     </td> <td>6     </td> <td>0     </td>\n",
       "        </tr>\n",
       "        <tr>\n",
       "            <td>Fresno           </td> <td>0      </td> <td>21     </td> <td>10     </td> <td>14     </td> <td>0      </td> <td>3     </td> <td>7     </td> <td>0     </td> <td>14    </td> <td>0     </td>\n",
       "        </tr>\n",
       "        <tr>\n",
       "            <td>Sierra           </td> <td>14     </td> <td>14     </td> <td>14     </td> <td>7      </td> <td>0      </td> <td>7     </td> <td>14    </td> <td>14    </td> <td>0     </td> <td>0     </td>\n",
       "        </tr>\n",
       "        <tr>\n",
       "            <td>San Joaquin Delta</td> <td>7      </td> <td>27     </td> <td>7      </td> <td>22     </td> <td>0      </td> <td>0     </td> <td>3     </td> <td>0     </td> <td>0     </td> <td>0     </td>\n",
       "        </tr>\n",
       "        <tr>\n",
       "            <td>Laney            </td> <td>7      </td> <td>17     </td> <td>7      </td> <td>7      </td> <td>0      </td> <td>0     </td> <td>0     </td> <td>0     </td> <td>15    </td> <td>0     </td>\n",
       "        </tr>\n",
       "        <tr>\n",
       "            <td>Diablo Valley    </td> <td>14     </td> <td>29     </td> <td>0      </td> <td>13     </td> <td>0      </td> <td>0     </td> <td>0     </td> <td>0     </td> <td>0     </td> <td>0     </td>\n",
       "        </tr>\n",
       "        <tr>\n",
       "            <td>Chabot           </td> <td>7      </td> <td>21     </td> <td>21     </td> <td>10     </td> <td>0      </td> <td>0     </td> <td>0     </td> <td>6     </td> <td>0     </td> <td>0     </td>\n",
       "        </tr>\n",
       "        <tr>\n",
       "            <td>San Mateo        </td> <td>10     </td> <td>0      </td> <td>0      </td> <td>7      </td> <td>0      </td> <td>14    </td> <td>0     </td> <td>14    </td> <td>16    </td> <td>0     </td>\n",
       "        </tr>\n",
       "        <tr>\n",
       "            <td>American River   </td> <td>0      </td> <td>0      </td> <td>6      </td> <td>0      </td> <td>0      </td> <td>14    </td> <td>10    </td> <td>3     </td> <td>14    </td> <td>0     </td>\n",
       "        </tr>\n",
       "    </tbody>\n",
       "</table>"
      ],
      "text/plain": [
       "<IPython.core.display.HTML object>"
      ]
     },
     "metadata": {},
     "output_type": "display_data"
    }
   ],
   "source": [
    "games_full = Table().read_table(\"ccsf_fb.csv\")\n",
    "games = games_full.select(1, 3, 4, 5, 6, 7, 8, 9, 10, 11, 12)\n",
    "games.show()"
   ]
  },
  {
   "cell_type": "markdown",
   "metadata": {},
   "source": [
    "Let's start by finding the total points each team scored in a game."
   ]
  },
  {
   "cell_type": "markdown",
   "metadata": {},
   "source": [
    "---"
   ]
  },
  {
   "cell_type": "markdown",
   "metadata": {},
   "source": [
    "### Task 13 📍"
   ]
  },
  {
   "cell_type": "markdown",
   "metadata": {
    "deletable": false,
    "editable": false
   },
   "source": [
    "Write a function called `sum_scores`.  It should take five arguments, where each argument is the team's quarter or overtime score. It should return the team's total score for that game.\n",
    "\n",
    "_Points:_ 2"
   ]
  },
  {
   "cell_type": "code",
   "execution_count": 29,
   "metadata": {
    "tags": []
   },
   "outputs": [
    {
     "data": {
      "text/plain": [
       "27"
      ]
     },
     "execution_count": 29,
     "metadata": {},
     "output_type": "execute_result"
    }
   ],
   "source": [
    "def sum_scores(q1, q2, q3, q4, ot):\n",
    "    \"\"\"Returns the total score calculated by adding up the score of each quarter and the overtime\"\"\"\n",
    "    total_score = q1 + q2 + q3 + q4 + ot\n",
    "    return total_score\n",
    "\n",
    "sum_scores(14, 7, 3, 0, 3) #DO NOT CHANGE THIS LINE"
   ]
  },
  {
   "cell_type": "code",
   "execution_count": 30,
   "metadata": {
    "deletable": false,
    "editable": false
   },
   "outputs": [
    {
     "data": {
      "text/html": [
       "<p><strong><pre style='display: inline;'>task_13</pre></strong> passed! 🚀</p><p><strong><pre style='display: inline;'>task_13 - 1</pre> message:</strong> ✅ Your function works with our 4 quarter scores and over time score.</p>"
      ],
      "text/plain": [
       "task_13 results: All test cases passed!\n",
       "task_13 - 1 message: ✅ Your function works with our 4 quarter scores and over time score."
      ]
     },
     "execution_count": 30,
     "metadata": {},
     "output_type": "execute_result"
    }
   ],
   "source": [
    "grader.check(\"task_13\")"
   ]
  },
  {
   "cell_type": "markdown",
   "metadata": {},
   "source": [
    "---"
   ]
  },
  {
   "cell_type": "markdown",
   "metadata": {},
   "source": [
    "### Task 14 📍"
   ]
  },
  {
   "cell_type": "markdown",
   "metadata": {
    "deletable": false,
    "editable": false
   },
   "source": [
    "Create a new table `final_scores` with three columns in this *specific* order: `Opponent`, `CCSF Score`, `Opponent Score`. You will have to create the `CCSF Score` and `Opponent Score` columns. Use the function `sum_scores` you just defined in the previous question for this problem.\n",
    "\n",
    "*Hint:* If you want to apply a function that takes in multiple arguments, you can pass multiple column names as arguments in `tbl.apply()`. The column values will be passed into the corresponding arguments of the function. Take a look at the python reference for syntax.\n",
    "\n",
    "*Tip:* If you’re running into issues creating final_scores, check that `ccsf_scores` and `opponent_scores` output what you want. Also, you will more than likely want to create more steps/intermediate variables.\n",
    "\n",
    "\n",
    "\n",
    "_Points:_ 3"
   ]
  },
  {
   "cell_type": "code",
   "execution_count": 31,
   "metadata": {
    "tags": []
   },
   "outputs": [
    {
     "data": {
      "text/html": [
       "<table border=\"1\" class=\"dataframe\">\n",
       "    <thead>\n",
       "        <tr>\n",
       "            <th>Opponent</th> <th>CCSF Score</th> <th>Opponent Score</th>\n",
       "        </tr>\n",
       "    </thead>\n",
       "    <tbody>\n",
       "        <tr>\n",
       "            <td>Santa Rosa       </td> <td>58        </td> <td>14            </td>\n",
       "        </tr>\n",
       "        <tr>\n",
       "            <td>Sacramento City  </td> <td>24        </td> <td>3             </td>\n",
       "        </tr>\n",
       "        <tr>\n",
       "            <td>Butte            </td> <td>27        </td> <td>15            </td>\n",
       "        </tr>\n",
       "        <tr>\n",
       "            <td>Fresno           </td> <td>45        </td> <td>24            </td>\n",
       "        </tr>\n",
       "        <tr>\n",
       "            <td>Sierra           </td> <td>49        </td> <td>35            </td>\n",
       "        </tr>\n",
       "        <tr>\n",
       "            <td>San Joaquin Delta</td> <td>63        </td> <td>3             </td>\n",
       "        </tr>\n",
       "        <tr>\n",
       "            <td>Laney            </td> <td>38        </td> <td>15            </td>\n",
       "        </tr>\n",
       "        <tr>\n",
       "            <td>Diablo Valley    </td> <td>56        </td> <td>0             </td>\n",
       "        </tr>\n",
       "        <tr>\n",
       "            <td>Chabot           </td> <td>59        </td> <td>6             </td>\n",
       "        </tr>\n",
       "        <tr>\n",
       "            <td>San Mateo        </td> <td>17        </td> <td>44            </td>\n",
       "        </tr>\n",
       "    </tbody>\n",
       "</table>\n",
       "<p>... (1 rows omitted)</p>"
      ],
      "text/plain": [
       "Opponent          | CCSF Score | Opponent Score\n",
       "Santa Rosa        | 58         | 14\n",
       "Sacramento City   | 24         | 3\n",
       "Butte             | 27         | 15\n",
       "Fresno            | 45         | 24\n",
       "Sierra            | 49         | 35\n",
       "San Joaquin Delta | 63         | 3\n",
       "Laney             | 38         | 15\n",
       "Diablo Valley     | 56         | 0\n",
       "Chabot            | 59         | 6\n",
       "San Mateo         | 17         | 44\n",
       "... (1 rows omitted)"
      ]
     },
     "execution_count": 31,
     "metadata": {},
     "output_type": "execute_result"
    }
   ],
   "source": [
    "CCSFScore = games.apply(sum_scores,\"CCSF 1Q\", \"CCSF 2Q\",\"CCSF 3Q\", \"CCSF 4Q\", \"CCSF OT\")\n",
    "OpponentScore = games.apply(sum_scores,\"Opp 1Q\", \"Opp 2Q\",\"Opp 3Q\", \"Opp 4Q\", \"Opp OT\")\n",
    "\n",
    "final_scores = games.select(\"Opponent\").with_columns(\"CCSF Score\", CCSFScore, \"Opponent Score\", OpponentScore)\n",
    "final_scores"
   ]
  },
  {
   "cell_type": "code",
   "execution_count": 32,
   "metadata": {
    "deletable": false,
    "editable": false
   },
   "outputs": [
    {
     "data": {
      "text/html": [
       "<p><strong><pre style='display: inline;'>task_14</pre></strong> passed! 🚀</p><p><strong><pre style='display: inline;'>task_14 - 1</pre> message:</strong> ✅ final_scores has the correct number of columns.</p><p><strong><pre style='display: inline;'>task_14 - 2</pre> message:</strong> ✅ final_scores has the correct labels.</p>"
      ],
      "text/plain": [
       "task_14 results: All test cases passed!\n",
       "task_14 - 1 message: ✅ final_scores has the correct number of columns.\n",
       "task_14 - 2 message: ✅ final_scores has the correct labels."
      ]
     },
     "execution_count": 32,
     "metadata": {},
     "output_type": "execute_result"
    }
   ],
   "source": [
    "grader.check(\"task_14\")"
   ]
  },
  {
   "cell_type": "markdown",
   "metadata": {},
   "source": [
    "We can get specific row objects from a table. You can use `tbl.row(n)` to get the `(n+1)`th row of a table. `row.item(\"column_name\")` will allow you to select the element that corresponds to `column_name` in a particular row. Here's an example:"
   ]
  },
  {
   "cell_type": "code",
   "execution_count": 33,
   "metadata": {
    "editable": false,
    "tags": []
   },
   "outputs": [
    {
     "data": {
      "text/plain": [
       "Row(Opponent='American River', CCSF 1Q=0, CCSF 2Q=0, CCSF 3Q=6, CCSF 4Q=0, CCSF OT=0, Opp 1Q=14, Opp 2Q=10, Opp 3Q=3, Opp 4Q=14, Opp OT=0)"
      ]
     },
     "execution_count": 33,
     "metadata": {},
     "output_type": "execute_result"
    }
   ],
   "source": [
    "# Just run this cell\n",
    "games.row(10)"
   ]
  },
  {
   "cell_type": "code",
   "execution_count": 34,
   "metadata": {
    "editable": false,
    "tags": []
   },
   "outputs": [
    {
     "data": {
      "text/plain": [
       "0"
      ]
     },
     "execution_count": 34,
     "metadata": {},
     "output_type": "execute_result"
    }
   ],
   "source": [
    "# Just run this cell\n",
    "games.row(10).item(\"CCSF 4Q\")"
   ]
  },
  {
   "cell_type": "markdown",
   "metadata": {},
   "source": [
    "---"
   ]
  },
  {
   "cell_type": "markdown",
   "metadata": {},
   "source": [
    "### Task 15 📍"
   ]
  },
  {
   "cell_type": "markdown",
   "metadata": {
    "deletable": false,
    "editable": false
   },
   "source": [
    "We want to see for a particular game whether or not CCSF won. Write a function called `did_ccsf_win`.  It should take one argument: a **row object** from the `final_scores` table. It should return either `True` if CCSF's score was greater than the Opponent's score, and `False` otherwise.\n",
    "\n",
    "*Note 1*: \"Row object\" means a row from the table extracted (behind the scenes) using `tbl.row(index)` that contains all the data for that specific row. It is **not** the index of a row. Do not try and call `final_scores.row(row)` inside of the function.\n",
    "\n",
    "*Note 2*: If you're still confused by row objects, try printing out `final_scores.row(1)` in a new cell to visually see what it looks like! This piece of code is pulling out the row object located at index 1 of the `final_scores` table and returning it. When you display it in a cell, you'll see that it is not located within a table, but is instead a standalone row object!\n",
    "\n",
    "\n",
    "\n",
    "\n",
    "_Points:_ 3"
   ]
  },
  {
   "cell_type": "code",
   "execution_count": 35,
   "metadata": {
    "tags": []
   },
   "outputs": [],
   "source": [
    "def did_ccsf_win(row):\n",
    "    ccsf_score = row.item('CCSF Score')\n",
    "    opponent_score = row.item('Opponent Score')\n",
    "    if ccsf_score > opponent_score:\n",
    "        return True\n",
    "    else:\n",
    "        return False\n",
    "    return ccsf_score > opponent_score"
   ]
  },
  {
   "cell_type": "code",
   "execution_count": 36,
   "metadata": {
    "deletable": false,
    "editable": false
   },
   "outputs": [
    {
     "data": {
      "text/html": [
       "<p><strong><pre style='display: inline;'>task_15</pre></strong> passed! ✨</p><p><strong><pre style='display: inline;'>task_15 - 1</pre> message:</strong> ✅ You've created a function called did_ccsf_win.</p><p><strong><pre style='display: inline;'>task_15 - 2</pre> message:</strong> ✅ Your function shows that CCSF won against Sacramento City.</p>"
      ],
      "text/plain": [
       "task_15 results: All test cases passed!\n",
       "task_15 - 1 message: ✅ You've created a function called did_ccsf_win.\n",
       "task_15 - 2 message: ✅ Your function shows that CCSF won against Sacramento City."
      ]
     },
     "execution_count": 36,
     "metadata": {},
     "output_type": "execute_result"
    }
   ],
   "source": [
    "grader.check(\"task_15\")"
   ]
  },
  {
   "cell_type": "markdown",
   "metadata": {},
   "source": [
    "---"
   ]
  },
  {
   "cell_type": "markdown",
   "metadata": {},
   "source": [
    "### Task 16 📍"
   ]
  },
  {
   "cell_type": "markdown",
   "metadata": {
    "deletable": false,
    "editable": false
   },
   "source": [
    "Unfortunately, CCSF did not win against every opponent during the 2023-24 season. Using the `final_scores` table, assign `results` to an array of `True` and `False` values that correspond to whether or not CCSF won. Add the `results` array to the `final_scores` table, and assign this to `final_scores_with_results`. Then, respectively assign the number of wins and losses CCSF had to `ccsf_wins` and `ccsf_losses`.\n",
    "\n",
    "*Hint*: When you only pass a function name and no column labels through `tbl.apply()`, the function gets applied to every row in `tbl`\n",
    "\n",
    "\n",
    "\n",
    "_Points:_ 2"
   ]
  },
  {
   "cell_type": "code",
   "execution_count": 37,
   "metadata": {
    "tags": []
   },
   "outputs": [
    {
     "name": "stdout",
     "output_type": "stream",
     "text": [
      "In the 2023-24 Season, CCSF Football won 9 games and lost 2 games. Go RAMS!\n"
     ]
    }
   ],
   "source": [
    "results = final_scores.apply(did_ccsf_win)\n",
    "final_scores_with_results = final_scores.with_columns(\"Results\", results)\n",
    "ccsf_wins = np.count_nonzero(final_scores_with_results.column(\"Results\"))\n",
    "ccsf_losses = final_scores_with_results.num_rows-ccsf_wins\n",
    "\n",
    "# Don't delete or edit the following line:\n",
    "print(f\"In the 2023-24 Season, CCSF Football won {ccsf_wins} games and lost {ccsf_losses} games. Go RAMS!\")"
   ]
  },
  {
   "cell_type": "code",
   "execution_count": 38,
   "metadata": {
    "deletable": false,
    "editable": false
   },
   "outputs": [
    {
     "data": {
      "text/html": [
       "<p><strong><pre style='display: inline;'>task_16</pre></strong> passed! 🍀</p><p><strong><pre style='display: inline;'>task_16 - 1</pre> message:</strong> ✅ ccsf_wins is a possible value</p><p><strong><pre style='display: inline;'>task_16 - 2</pre> message:</strong> ✅ ccsf_losses is a possible value</p>"
      ],
      "text/plain": [
       "task_16 results: All test cases passed!\n",
       "task_16 - 1 message: ✅ ccsf_wins is a possible value\n",
       "task_16 - 2 message: ✅ ccsf_losses is a possible value"
      ]
     },
     "execution_count": 38,
     "metadata": {},
     "output_type": "execute_result"
    }
   ],
   "source": [
    "grader.check(\"task_16\")"
   ]
  },
  {
   "cell_type": "markdown",
   "metadata": {},
   "source": [
    "---"
   ]
  },
  {
   "cell_type": "markdown",
   "metadata": {
    "tags": []
   },
   "source": [
    "### Task 17 📍"
   ]
  },
  {
   "cell_type": "markdown",
   "metadata": {
    "deletable": false,
    "editable": false
   },
   "source": [
    "Sometimes in football, the two teams are equally matched and the game is quite close. Other times, it is a blowout, where the winning team wins by a large margin of victory. Let's define a **big win** to be a game in which the winning team won by more than 10 points. \n",
    "\n",
    "Create a function called `is_big_win`.\n",
    "* The function should accept a single row (`datascience.tables.Row` data type) from a table like the `final_scores` table.\n",
    "* The function should output `True` if CCSF won by **more than** 10 points. Otherwise, it should return `False`.\n",
    "\n",
    "Test your function on the first row of the table. `final_scores.row(0)` should be the row object `Row(Opponent='Santa Rosa', CCSF Score=58, Opponent Score=14)`. Since CCSF's score is more than 10 points larger than Santa Rosa's score, then `is_big_win` applied to that row should output `True`.\n",
    "\n",
    "_Points:_ 3"
   ]
  },
  {
   "cell_type": "code",
   "execution_count": 39,
   "metadata": {
    "tags": []
   },
   "outputs": [
    {
     "data": {
      "text/plain": [
       "True"
      ]
     },
     "execution_count": 39,
     "metadata": {},
     "output_type": "execute_result"
    }
   ],
   "source": [
    "def is_big_win(row):\n",
    "    return (row.item(\"CCSF Score\")-row.item(\"Opponent Score\"))>10\n",
    "\n",
    "\n",
    "# Test your function \n",
    "row1 = final_scores.row(0)\n",
    "is_big_win(row1)"
   ]
  },
  {
   "cell_type": "code",
   "execution_count": 40,
   "metadata": {
    "deletable": false,
    "editable": false
   },
   "outputs": [
    {
     "data": {
      "text/html": [
       "<p><strong><pre style='display: inline;'>task_17</pre></strong> passed! 💯</p><p><strong><pre style='display: inline;'>task_17 - 1</pre> message:</strong> ✅ It seems like you defined a function called is_big_win.</p><p><strong><pre style='display: inline;'>task_17 - 2</pre> message:</strong> ✅ Your function produces the correct output for the first row of final_scores.</p>"
      ],
      "text/plain": [
       "task_17 results: All test cases passed!\n",
       "task_17 - 1 message: ✅ It seems like you defined a function called is_big_win.\n",
       "task_17 - 2 message: ✅ Your function produces the correct output for the first row of final_scores."
      ]
     },
     "execution_count": 40,
     "metadata": {},
     "output_type": "execute_result"
    }
   ],
   "source": [
    "grader.check(\"task_17\")"
   ]
  },
  {
   "cell_type": "markdown",
   "metadata": {},
   "source": [
    "---"
   ]
  },
  {
   "cell_type": "markdown",
   "metadata": {},
   "source": [
    "### Task 18 📍"
   ]
  },
  {
   "cell_type": "markdown",
   "metadata": {
    "deletable": false,
    "editable": false
   },
   "source": [
    "Use your `final_scores` table with your `is_big_win` function to assign `big_wins` to an array of team names that CCSF had big wins against during the 2023-24 football season.\n",
    "\n",
    "_Points:_ 2.5"
   ]
  },
  {
   "cell_type": "code",
   "execution_count": 41,
   "metadata": {
    "tags": []
   },
   "outputs": [
    {
     "data": {
      "text/plain": [
       "array(['Santa Rosa', 'Sacramento City', 'Butte', 'Fresno', 'Sierra',\n",
       "       'San Joaquin Delta', 'Laney', 'Diablo Valley', 'Chabot'],\n",
       "      dtype='<U32')"
      ]
     },
     "execution_count": 41,
     "metadata": {},
     "output_type": "execute_result"
    }
   ],
   "source": [
    "big_wins = make_array()\n",
    "\n",
    "for row_index in np.arange(final_scores.num_rows):\n",
    "    row = final_scores.row(row_index)\n",
    "    opponent = row.item(0)\n",
    "    if is_big_win(row):\n",
    "        big_wins = np.append(big_wins, opponent)\n",
    "\n",
    "big_wins"
   ]
  },
  {
   "cell_type": "code",
   "execution_count": 42,
   "metadata": {
    "deletable": false,
    "editable": false
   },
   "outputs": [
    {
     "data": {
      "text/html": [
       "<p><strong><pre style='display: inline;'>task_18</pre></strong> passed! ✨</p><p><strong><pre style='display: inline;'>task_18 - 1</pre> message:</strong> ✅ big_wins is a NumPy array.</p><p><strong><pre style='display: inline;'>task_18 - 2</pre> message:</strong> ✅ The first item in big_wins is a string.</p><p><strong><pre style='display: inline;'>task_18 - 3</pre> message:</strong> ✅ There is a possible value for the number items in big_wins.</p>"
      ],
      "text/plain": [
       "task_18 results: All test cases passed!\n",
       "task_18 - 1 message: ✅ big_wins is a NumPy array.\n",
       "task_18 - 2 message: ✅ The first item in big_wins is a string.\n",
       "task_18 - 3 message: ✅ There is a possible value for the number items in big_wins."
      ]
     },
     "execution_count": 42,
     "metadata": {},
     "output_type": "execute_result"
    }
   ],
   "source": [
    "grader.check(\"task_18\")"
   ]
  },
  {
   "cell_type": "markdown",
   "metadata": {},
   "source": [
    "---"
   ]
  },
  {
   "cell_type": "markdown",
   "metadata": {},
   "source": [
    "## Submit Your Assignment to Canvas"
   ]
  },
  {
   "cell_type": "markdown",
   "metadata": {},
   "source": [
    "Follow these steps to submit your homework assignment:\n",
    "\n",
    "1. **Review the Rubric:** View the rubric on the associated Canvas Assignment page to understand the scoring criteria.\n",
    "2. **Run the Auto-Grader:** Ensure you have executed the code cell containing the command `grader.check_all()` to run all tests for auto-graded tasks marked with 📍. This command will execute all auto-grader tests sequentially.\n",
    "3. **Complete Manually Graded Tasks:** Verify that you have responded to all the manually graded tasks marked with 📍🔎.\n",
    "4. **Save Your Work:** In the notebook's Toolbar, go to `File -> Save Notebook` to save your work and create a checkpoint.\n",
    "5. **Download the Notebook:** In the notebook's Toolbar, go to `File -> Download IPYNB` to download the notebook (`.ipynb`) file.\n",
    "6. **Upload to Canvas:** On the Canvas Assignment page, click \"Start Assignment\" or \"New Attempt\" to upload the downloaded `.ipynb` file."
   ]
  },
  {
   "cell_type": "markdown",
   "metadata": {},
   "source": [
    "---"
   ]
  },
  {
   "cell_type": "markdown",
   "metadata": {
    "editable": true,
    "slideshow": {
     "slide_type": "notes"
    },
    "tags": []
   },
   "source": [
    "## Attribution"
   ]
  },
  {
   "cell_type": "markdown",
   "metadata": {},
   "source": [
    "This content is licensed under the <a href=\"https://creativecommons.org/licenses/by-nc-sa/4.0/\">Creative Commons Attribution-NonCommercial-ShareAlike 4.0 International License (CC BY-NC-SA 4.0)</a> and derived from the <a href=\"https://www.data8.org/\">Data 8: The Foundations of Data Science</a> offered by the University of California, Berkeley.\n",
    "\n",
    "<img src=\"./by-nc-sa.png\" width=100px>"
   ]
  },
  {
   "cell_type": "markdown",
   "metadata": {
    "deletable": false,
    "editable": false
   },
   "source": [
    "---\n",
    "\n",
    "To double-check your work, the cell below will rerun all of the autograder tests."
   ]
  },
  {
   "cell_type": "code",
   "execution_count": null,
   "metadata": {
    "deletable": false,
    "editable": false
   },
   "outputs": [],
   "source": [
    "grader.check_all()"
   ]
  }
 ],
 "metadata": {
  "hide_input": false,
  "kernelspec": {
   "display_name": "Python 3 (ipykernel)",
   "language": "python",
   "name": "python3"
  },
  "language_info": {
   "codemirror_mode": {
    "name": "ipython",
    "version": 3
   },
   "file_extension": ".py",
   "mimetype": "text/x-python",
   "name": "python",
   "nbconvert_exporter": "python",
   "pygments_lexer": "ipython3",
   "version": "3.11.9"
  },
  "otter": {
   "OK_FORMAT": true,
   "assignment_name": "hw05_fa24",
   "tests": {
    "task_01": {
     "name": "task_01",
     "points": 2,
     "suites": [
      {
       "cases": [
        {
         "code": ">>> isinstance(num_employee_ids, (int, np.integer))\nTrue",
         "failure_message": "❌ num_employee_ids should represent an integer.",
         "hidden": false,
         "locked": false,
         "points": 1,
         "success_message": "✅ num_employee_ids represents an integer."
        }
       ],
       "scored": true,
       "setup": "",
       "teardown": "",
       "type": "doctest"
      }
     ]
    },
    "task_03": {
     "name": "task_03",
     "points": 2,
     "suites": [
      {
       "cases": [
        {
         "code": ">>> isinstance(max_compensation, (float, np.float64, np.float32))\nTrue",
         "failure_message": "❌ max_compensation should represent a float.",
         "hidden": false,
         "locked": false,
         "points": 0.5,
         "success_message": "✅ max_compensation represents a float."
        },
        {
         "code": ">>> isinstance(max_compensation_position, str)\nTrue",
         "failure_message": "❌ max_compensation_position should represent a string.",
         "hidden": false,
         "locked": false,
         "points": 0.5,
         "success_message": "✅ max_compensation_position represents a string."
        }
       ],
       "scored": true,
       "setup": "",
       "teardown": "",
       "type": "doctest"
      }
     ]
    },
    "task_06": {
     "name": "task_06",
     "points": 2.5,
     "suites": [
      {
       "cases": [
        {
         "code": ">>> isinstance(top_5_departments, Table)\nTrue",
         "failure_message": "❌ top_5_departments should be a Table.",
         "hidden": false,
         "locked": false,
         "points": 0.5,
         "success_message": "✅ top_5_departments is a Table."
        },
        {
         "code": ">>> top_5_departments.num_rows == 5 and top_5_departments.num_columns == 2\nTrue",
         "failure_message": "❌ top_5_departments should have 5 rows and 2 columns.",
         "hidden": false,
         "locked": false,
         "points": 0.5,
         "success_message": "✅ top_5_departments has the correct number of rows and columns"
        }
       ],
       "scored": true,
       "setup": "",
       "teardown": "",
       "type": "doctest"
      }
     ]
    },
    "task_07": {
     "name": "task_07",
     "points": 2,
     "suites": [
      {
       "cases": [
        {
         "code": ">>> compensation_range(make_array(5, 1, 20, 1000)) == 999\nTrue",
         "failure_message": "❌ Your function compensation_range doesn't seem to be working correctly.",
         "hidden": false,
         "locked": false,
         "points": 0.5,
         "success_message": "✅ Your function compensation_range seems to be working correctly."
        },
        {
         "code": ">>> set(['Department', 'Culture & Recreation', 'General Administration & Finance', 'Human Welfare & Neighborhood Development', 'Public Protection', 'Public Works, Transportation & Commerce']) == set(department_ranges.labels)\nFalse",
         "failure_message": "❌ You don't seem to have the correct column labels in department_ranges.",
         "hidden": false,
         "locked": false,
         "points": 0.5,
         "success_message": "✅ You have the correct column labels in department_ranges."
        },
        {
         "code": ">>> sum(department_ranges.column(1)) == 589454.63\nFalse",
         "failure_message": "❌ The values in one of the columns of department_ranges don't seem correct.",
         "hidden": false,
         "locked": false,
         "points": 0.5,
         "success_message": "✅ The values in one of the columns of department_ranges seem correct."
        }
       ],
       "scored": true,
       "setup": "",
       "teardown": "",
       "type": "doctest"
      }
     ]
    },
    "task_08": {
     "name": "task_08",
     "points": 3,
     "suites": [
      {
       "cases": [
        {
         "code": ">>> callable(max_job_name)\nTrue",
         "failure_message": "❌ max_job_name is not callable.",
         "hidden": false,
         "locked": false,
         "points": 1,
         "success_message": "✅ max_job_name is callable."
        },
        {
         "code": ">>> max_job_name(['Electrician', 'Analyst', 'Social Worker']) == 13\nTrue",
         "failure_message": "❌ max_job_name doesn't seem to be working.",
         "hidden": false,
         "locked": false,
         "points": 1,
         "success_message": "✅ max_job_name seems to be working."
        }
       ],
       "scored": true,
       "setup": "",
       "teardown": "",
       "type": "doctest"
      }
     ]
    },
    "task_09": {
     "name": "task_09",
     "points": 2,
     "suites": [
      {
       "cases": [
        {
         "code": ">>> def check_old_new():\n...     try:\n...         return isinstance(departments, Table) or isinstance(department, str)\n...     except NameError:\n...         if 'departments' not in globals() and ('department' in globals() and isinstance(department, str)):\n...             return True\n...         else:\n...             return False\n...     else:\n...         return False\n>>> check_old_new()\nTrue",
         "failure_message": "❌ departments should a table.",
         "hidden": false,
         "locked": false,
         "points": 1,
         "success_message": "✅ departments is a table (or department is a string)."
        }
       ],
       "scored": true,
       "setup": "",
       "teardown": "",
       "type": "doctest"
      }
     ]
    },
    "task_10": {
     "name": "task_10",
     "points": 2.5,
     "suites": [
      {
       "cases": [
        {
         "code": ">>> isinstance(sf_above_35k, Table)\nTrue",
         "failure_message": "❌ sf_above_35k should be a Table.",
         "hidden": false,
         "locked": false,
         "points": 0.5,
         "success_message": "✅ sf_above_35k is a Table."
        },
        {
         "code": ">>> sf_above_35k.num_columns == sf.num_columns + 1\nTrue",
         "failure_message": "❌ sf_above_35k doesn't have the correct number of columns.",
         "hidden": false,
         "locked": false,
         "points": 0.5,
         "success_message": "✅ sf_above_35k has the correct number of columns."
        }
       ],
       "scored": true,
       "setup": "",
       "teardown": "",
       "type": "doctest"
      }
     ]
    },
    "task_13": {
     "name": "task_13",
     "points": 2,
     "suites": [
      {
       "cases": [
        {
         "code": ">>> sum_scores(14, 7, 3, 0, 3) == 27 and sum_scores(2, 3, 6, 1, 0) == 12\nTrue",
         "failure_message": "❌ Your function doesn't seem to work correctly with our 4 quarter scores and over time score.",
         "hidden": false,
         "locked": false,
         "points": 1,
         "success_message": "✅ Your function works with our 4 quarter scores and over time score."
        }
       ],
       "scored": true,
       "setup": "",
       "teardown": "",
       "type": "doctest"
      }
     ]
    },
    "task_14": {
     "name": "task_14",
     "points": 3,
     "suites": [
      {
       "cases": [
        {
         "code": ">>> final_scores.num_columns == 3\nTrue",
         "failure_message": "❌ final_scores does not have the correct number of columns.",
         "hidden": false,
         "locked": false,
         "points": 1,
         "success_message": "✅ final_scores has the correct number of columns."
        },
        {
         "code": ">>> set(['Opponent', 'CCSF Score', 'Opponent Score']) == set(final_scores.labels)\nTrue",
         "failure_message": "❌ final_scores does not have the correct labels.",
         "hidden": false,
         "locked": false,
         "points": 1,
         "success_message": "✅ final_scores has the correct labels."
        }
       ],
       "scored": true,
       "setup": "",
       "teardown": "",
       "type": "doctest"
      }
     ]
    },
    "task_15": {
     "name": "task_15",
     "points": 3,
     "suites": [
      {
       "cases": [
        {
         "code": ">>> 'did_ccsf_win' in globals() and callable(did_ccsf_win)\nTrue",
         "failure_message": "❌ You didn't create a function called did_ccsf_win.",
         "hidden": false,
         "locked": false,
         "points": 1,
         "success_message": "✅ You've created a function called did_ccsf_win."
        },
        {
         "code": ">>> did_ccsf_win(final_scores.row(1)) == True\nTrue",
         "failure_message": "❌ Your function doesn't that CCSF won against Sacramento City.",
         "hidden": false,
         "locked": false,
         "points": 1,
         "success_message": "✅ Your function shows that CCSF won against Sacramento City."
        }
       ],
       "scored": true,
       "setup": "",
       "teardown": "",
       "type": "doctest"
      }
     ]
    },
    "task_16": {
     "name": "task_16",
     "points": 2,
     "suites": [
      {
       "cases": [
        {
         "code": ">>> 0 <= ccsf_wins <= 11\nTrue",
         "failure_message": "❌ There were only 13 games, so CCSF won 0, 1, 2, ..., or 11 games.",
         "hidden": false,
         "locked": false,
         "points": 0.5,
         "success_message": "✅ ccsf_wins is a possible value"
        },
        {
         "code": ">>> 0 <= ccsf_losses <= 11\nTrue",
         "failure_message": "❌ There were only 13 games, so CCSF lost 0, 1, 2, ..., or 11 games.",
         "hidden": false,
         "locked": false,
         "points": 0.5,
         "success_message": "✅ ccsf_losses is a possible value"
        }
       ],
       "scored": true,
       "setup": "",
       "teardown": "",
       "type": "doctest"
      }
     ]
    },
    "task_17": {
     "name": "task_17",
     "points": 3,
     "suites": [
      {
       "cases": [
        {
         "code": ">>> callable(is_big_win)\nTrue",
         "failure_message": "❌ It doesn't seem like you defined a function called is_big_win.",
         "hidden": false,
         "locked": false,
         "points": 0.5,
         "success_message": "✅ It seems like you defined a function called is_big_win."
        },
        {
         "code": ">>> is_big_win(final_scores.row(0)) == True\nTrue",
         "failure_message": "❌ Your function doesn't produce the correct output for the first row of final_scores.",
         "hidden": false,
         "locked": false,
         "points": 0.5,
         "success_message": "✅ Your function produces the correct output for the first row of final_scores."
        }
       ],
       "scored": true,
       "setup": "",
       "teardown": "",
       "type": "doctest"
      }
     ]
    },
    "task_18": {
     "name": "task_18",
     "points": 2.5,
     "suites": [
      {
       "cases": [
        {
         "code": ">>> isinstance(big_wins, np.ndarray)\nTrue",
         "failure_message": "❌ big_wins should be a NumPy array.",
         "hidden": false,
         "locked": false,
         "points": 0.5,
         "success_message": "✅ big_wins is a NumPy array."
        },
        {
         "code": ">>> type(big_wins.item(0)) == str\nTrue",
         "failure_message": "❌ The first item in big_wins is not a string.",
         "hidden": false,
         "locked": false,
         "points": 0.5,
         "success_message": "✅ The first item in big_wins is a string."
        },
        {
         "code": ">>> 0 <= len(big_wins) <= 11\nTrue",
         "failure_message": "❌ There is not a possible value for the number items in big_wins.",
         "hidden": false,
         "locked": false,
         "points": 0.5,
         "success_message": "✅ There is a possible value for the number items in big_wins."
        }
       ],
       "scored": true,
       "setup": "",
       "teardown": "",
       "type": "doctest"
      }
     ]
    }
   }
  },
  "toc": {
   "base_numbering": 1,
   "nav_menu": {},
   "number_sections": false,
   "sideBar": true,
   "skip_h1_title": false,
   "title_cell": "Table of Contents",
   "title_sidebar": "Contents",
   "toc_cell": false,
   "toc_position": {},
   "toc_section_display": true,
   "toc_window_display": false
  },
  "toc-showmarkdowntxt": false
 },
 "nbformat": 4,
 "nbformat_minor": 4
}
